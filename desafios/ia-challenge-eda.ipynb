{
 "cells": [
  {
   "cell_type": "markdown",
   "metadata": {
    "vscode": {
     "languageId": "plaintext"
    }
   },
   "source": [
    "# Desafio EDA\n"
   ]
  },
  {
   "cell_type": "markdown",
   "metadata": {},
   "source": [
    "## Bibliotecas"
   ]
  },
  {
   "cell_type": "code",
   "execution_count": 14,
   "metadata": {},
   "outputs": [],
   "source": [
    "import pandas as pd\n",
    "import matplotlib.pyplot as plt\n",
    "# Configurando as opções de exibição\n",
    "pd.set_option('display.max_columns', None)  # Mostrar todas as colunas"
   ]
  },
  {
   "cell_type": "code",
   "execution_count": 15,
   "metadata": {},
   "outputs": [
    {
     "data": {
      "text/html": [
       "<div>\n",
       "<style scoped>\n",
       "    .dataframe tbody tr th:only-of-type {\n",
       "        vertical-align: middle;\n",
       "    }\n",
       "\n",
       "    .dataframe tbody tr th {\n",
       "        vertical-align: top;\n",
       "    }\n",
       "\n",
       "    .dataframe thead th {\n",
       "        text-align: right;\n",
       "    }\n",
       "</style>\n",
       "<table border=\"1\" class=\"dataframe\">\n",
       "  <thead>\n",
       "    <tr style=\"text-align: right;\">\n",
       "      <th></th>\n",
       "      <th>As of</th>\n",
       "      <th>Rank</th>\n",
       "      <th>Year to Date Rank</th>\n",
       "      <th>Last Week Rank</th>\n",
       "      <th>Title</th>\n",
       "      <th>Type</th>\n",
       "      <th>Netflix Exclusive</th>\n",
       "      <th>Netflix Release Date</th>\n",
       "      <th>Days In Top 10</th>\n",
       "      <th>Viewership Score</th>\n",
       "    </tr>\n",
       "  </thead>\n",
       "  <tbody>\n",
       "    <tr>\n",
       "      <th>0</th>\n",
       "      <td>2020-04-01</td>\n",
       "      <td>1</td>\n",
       "      <td>1</td>\n",
       "      <td>1</td>\n",
       "      <td>Tiger King: Murder, Mayhem …</td>\n",
       "      <td>TV Show</td>\n",
       "      <td>Yes</td>\n",
       "      <td>Mar 20, 2020</td>\n",
       "      <td>9</td>\n",
       "      <td>90</td>\n",
       "    </tr>\n",
       "    <tr>\n",
       "      <th>1</th>\n",
       "      <td>2020-04-01</td>\n",
       "      <td>2</td>\n",
       "      <td>2</td>\n",
       "      <td>-</td>\n",
       "      <td>Ozark</td>\n",
       "      <td>TV Show</td>\n",
       "      <td>Yes</td>\n",
       "      <td>Jul 21, 2017</td>\n",
       "      <td>5</td>\n",
       "      <td>45</td>\n",
       "    </tr>\n",
       "    <tr>\n",
       "      <th>2</th>\n",
       "      <td>2020-04-01</td>\n",
       "      <td>3</td>\n",
       "      <td>3</td>\n",
       "      <td>2</td>\n",
       "      <td>All American</td>\n",
       "      <td>TV Show</td>\n",
       "      <td>NaN</td>\n",
       "      <td>Mar 28, 2019</td>\n",
       "      <td>9</td>\n",
       "      <td>76</td>\n",
       "    </tr>\n",
       "    <tr>\n",
       "      <th>3</th>\n",
       "      <td>2020-04-01</td>\n",
       "      <td>4</td>\n",
       "      <td>4</td>\n",
       "      <td>-</td>\n",
       "      <td>Blood Father</td>\n",
       "      <td>Movie</td>\n",
       "      <td>NaN</td>\n",
       "      <td>Mar 26, 2020</td>\n",
       "      <td>5</td>\n",
       "      <td>30</td>\n",
       "    </tr>\n",
       "    <tr>\n",
       "      <th>4</th>\n",
       "      <td>2020-04-01</td>\n",
       "      <td>5</td>\n",
       "      <td>5</td>\n",
       "      <td>4</td>\n",
       "      <td>The Platform</td>\n",
       "      <td>Movie</td>\n",
       "      <td>Yes</td>\n",
       "      <td>Mar 20, 2020</td>\n",
       "      <td>9</td>\n",
       "      <td>55</td>\n",
       "    </tr>\n",
       "  </tbody>\n",
       "</table>\n",
       "</div>"
      ],
      "text/plain": [
       "        As of  Rank Year to Date Rank Last Week Rank  \\\n",
       "0  2020-04-01     1                 1              1   \n",
       "1  2020-04-01     2                 2              -   \n",
       "2  2020-04-01     3                 3              2   \n",
       "3  2020-04-01     4                 4              -   \n",
       "4  2020-04-01     5                 5              4   \n",
       "\n",
       "                          Title     Type Netflix Exclusive  \\\n",
       "0  Tiger King: Murder, Mayhem …  TV Show               Yes   \n",
       "1                         Ozark  TV Show               Yes   \n",
       "2                  All American  TV Show               NaN   \n",
       "3                  Blood Father    Movie               NaN   \n",
       "4                  The Platform    Movie               Yes   \n",
       "\n",
       "  Netflix Release Date  Days In Top 10  Viewership Score  \n",
       "0         Mar 20, 2020               9                90  \n",
       "1         Jul 21, 2017               5                45  \n",
       "2         Mar 28, 2019               9                76  \n",
       "3         Mar 26, 2020               5                30  \n",
       "4         Mar 20, 2020               9                55  "
      ]
     },
     "execution_count": 15,
     "metadata": {},
     "output_type": "execute_result"
    }
   ],
   "source": [
    "# Lendo os dados\n",
    "df_netflix_daily_top = pd.read_csv('netflix daily top 10.csv', sep=',')\n",
    "df_netflix_daily_top.head()"
   ]
  },
  {
   "cell_type": "code",
   "execution_count": 16,
   "metadata": {},
   "outputs": [
    {
     "data": {
      "text/html": [
       "<div>\n",
       "<style scoped>\n",
       "    .dataframe tbody tr th:only-of-type {\n",
       "        vertical-align: middle;\n",
       "    }\n",
       "\n",
       "    .dataframe tbody tr th {\n",
       "        vertical-align: top;\n",
       "    }\n",
       "\n",
       "    .dataframe thead th {\n",
       "        text-align: right;\n",
       "    }\n",
       "</style>\n",
       "<table border=\"1\" class=\"dataframe\">\n",
       "  <thead>\n",
       "    <tr style=\"text-align: right;\">\n",
       "      <th></th>\n",
       "      <th>data_posicao</th>\n",
       "      <th>posicao</th>\n",
       "      <th>posicao_ano</th>\n",
       "      <th>posicao_semana_anterior</th>\n",
       "      <th>titulo</th>\n",
       "      <th>tipo</th>\n",
       "      <th>exclusivo_netflix</th>\n",
       "      <th>data_lancamento_netflix</th>\n",
       "      <th>dias_no_Top10</th>\n",
       "      <th>pontuacao_de_visualização</th>\n",
       "    </tr>\n",
       "  </thead>\n",
       "  <tbody>\n",
       "    <tr>\n",
       "      <th>0</th>\n",
       "      <td>2020-04-01</td>\n",
       "      <td>1</td>\n",
       "      <td>1</td>\n",
       "      <td>1</td>\n",
       "      <td>Tiger King: Murder, Mayhem …</td>\n",
       "      <td>TV Show</td>\n",
       "      <td>Yes</td>\n",
       "      <td>Mar 20, 2020</td>\n",
       "      <td>9</td>\n",
       "      <td>90</td>\n",
       "    </tr>\n",
       "    <tr>\n",
       "      <th>1</th>\n",
       "      <td>2020-04-01</td>\n",
       "      <td>2</td>\n",
       "      <td>2</td>\n",
       "      <td>-</td>\n",
       "      <td>Ozark</td>\n",
       "      <td>TV Show</td>\n",
       "      <td>Yes</td>\n",
       "      <td>Jul 21, 2017</td>\n",
       "      <td>5</td>\n",
       "      <td>45</td>\n",
       "    </tr>\n",
       "    <tr>\n",
       "      <th>2</th>\n",
       "      <td>2020-04-01</td>\n",
       "      <td>3</td>\n",
       "      <td>3</td>\n",
       "      <td>2</td>\n",
       "      <td>All American</td>\n",
       "      <td>TV Show</td>\n",
       "      <td>NaN</td>\n",
       "      <td>Mar 28, 2019</td>\n",
       "      <td>9</td>\n",
       "      <td>76</td>\n",
       "    </tr>\n",
       "    <tr>\n",
       "      <th>3</th>\n",
       "      <td>2020-04-01</td>\n",
       "      <td>4</td>\n",
       "      <td>4</td>\n",
       "      <td>-</td>\n",
       "      <td>Blood Father</td>\n",
       "      <td>Movie</td>\n",
       "      <td>NaN</td>\n",
       "      <td>Mar 26, 2020</td>\n",
       "      <td>5</td>\n",
       "      <td>30</td>\n",
       "    </tr>\n",
       "    <tr>\n",
       "      <th>4</th>\n",
       "      <td>2020-04-01</td>\n",
       "      <td>5</td>\n",
       "      <td>5</td>\n",
       "      <td>4</td>\n",
       "      <td>The Platform</td>\n",
       "      <td>Movie</td>\n",
       "      <td>Yes</td>\n",
       "      <td>Mar 20, 2020</td>\n",
       "      <td>9</td>\n",
       "      <td>55</td>\n",
       "    </tr>\n",
       "  </tbody>\n",
       "</table>\n",
       "</div>"
      ],
      "text/plain": [
       "  data_posicao  posicao posicao_ano posicao_semana_anterior  \\\n",
       "0   2020-04-01        1           1                       1   \n",
       "1   2020-04-01        2           2                       -   \n",
       "2   2020-04-01        3           3                       2   \n",
       "3   2020-04-01        4           4                       -   \n",
       "4   2020-04-01        5           5                       4   \n",
       "\n",
       "                         titulo     tipo exclusivo_netflix  \\\n",
       "0  Tiger King: Murder, Mayhem …  TV Show               Yes   \n",
       "1                         Ozark  TV Show               Yes   \n",
       "2                  All American  TV Show               NaN   \n",
       "3                  Blood Father    Movie               NaN   \n",
       "4                  The Platform    Movie               Yes   \n",
       "\n",
       "  data_lancamento_netflix  dias_no_Top10  pontuacao_de_visualização  \n",
       "0            Mar 20, 2020              9                         90  \n",
       "1            Jul 21, 2017              5                         45  \n",
       "2            Mar 28, 2019              9                         76  \n",
       "3            Mar 26, 2020              5                         30  \n",
       "4            Mar 20, 2020              9                         55  "
      ]
     },
     "execution_count": 16,
     "metadata": {},
     "output_type": "execute_result"
    }
   ],
   "source": [
    "# Renomeando as colunas traduzindo para o português\n",
    "df_netflix_daily_top = df_netflix_daily_top.rename(columns={\n",
    "    'As of': 'data_posicao',\n",
    "    'Rank': 'posicao',\n",
    "    'Year to Date Rank': 'posicao_ano',\n",
    "    'Last Week Rank': 'posicao_semana_anterior',\n",
    "    'Title': 'titulo',\n",
    "    'Type': 'tipo',\n",
    "    'Netflix Exclusive': 'exclusivo_netflix',\n",
    "    'Netflix Release Date': 'data_lancamento_netflix',\n",
    "    'Days In Top 10': 'dias_no_Top10',\n",
    "    'Viewership Score': 'pontuacao_de_visualização'\n",
    "})\n",
    "df_netflix_daily_top.head()"
   ]
  },
  {
   "cell_type": "markdown",
   "metadata": {},
   "source": [
    "## Período da análise feita"
   ]
  },
  {
   "cell_type": "code",
   "execution_count": 17,
   "metadata": {},
   "outputs": [
    {
     "name": "stdout",
     "output_type": "stream",
     "text": [
      "Período da análise feita: de 2020-04-01 até 2022-03-11\n"
     ]
    }
   ],
   "source": [
    "# Obtendo a data inicial e final do período\n",
    "data_inicial = df_netflix_daily_top['data_posicao'].min()\n",
    "data_final = df_netflix_daily_top['data_posicao'].max()\n",
    "\n",
    "print(f'Período da análise feita: de {data_inicial} até {data_final}')"
   ]
  },
  {
   "cell_type": "markdown",
   "metadata": {},
   "source": [
    "## Tamanho da base de dados"
   ]
  },
  {
   "cell_type": "code",
   "execution_count": 18,
   "metadata": {},
   "outputs": [
    {
     "name": "stdout",
     "output_type": "stream",
     "text": [
      "O Tamanho da base é de 7100 linhas e 10 colunas.\n"
     ]
    }
   ],
   "source": [
    "print(f'O Tamanho da base é de {df_netflix_daily_top.shape[0]} linhas e {df_netflix_daily_top.shape[1]} colunas.')"
   ]
  },
  {
   "cell_type": "markdown",
   "metadata": {},
   "source": [
    "## Verificar dados nulos"
   ]
  },
  {
   "cell_type": "code",
   "execution_count": 19,
   "metadata": {},
   "outputs": [
    {
     "data": {
      "text/plain": [
       "data_posicao                    0\n",
       "posicao                         0\n",
       "posicao_ano                     0\n",
       "posicao_semana_anterior         0\n",
       "titulo                          0\n",
       "tipo                            0\n",
       "exclusivo_netflix            2501\n",
       "data_lancamento_netflix         0\n",
       "dias_no_Top10                   0\n",
       "pontuacao_de_visualização       0\n",
       "dtype: int64"
      ]
     },
     "execution_count": 19,
     "metadata": {},
     "output_type": "execute_result"
    }
   ],
   "source": [
    "# Somando os nulos das colunas quando ouver\n",
    "df_netflix_daily_top.isnull().sum()"
   ]
  },
  {
   "cell_type": "code",
   "execution_count": 20,
   "metadata": {},
   "outputs": [
    {
     "data": {
      "text/plain": [
       "posicao_semana_anterior\n",
       "-     3968\n",
       "1      653\n",
       "2      564\n",
       "3      452\n",
       "4      336\n",
       "5      282\n",
       "6      240\n",
       "7      193\n",
       "8      167\n",
       "9      133\n",
       "10     112\n",
       "Name: count, dtype: int64"
      ]
     },
     "execution_count": 20,
     "metadata": {},
     "output_type": "execute_result"
    }
   ],
   "source": [
    "df_netflix_daily_top['posicao_semana_anterior'].value_counts()"
   ]
  },
  {
   "cell_type": "code",
   "execution_count": 21,
   "metadata": {},
   "outputs": [
    {
     "data": {
      "text/plain": [
       "posicao_ano\n",
       "-     859\n",
       "2     708\n",
       "1     708\n",
       "3     706\n",
       "4     705\n",
       "5     699\n",
       "6     675\n",
       "7     633\n",
       "8     554\n",
       "9     481\n",
       "10    372\n",
       "Name: count, dtype: int64"
      ]
     },
     "execution_count": 21,
     "metadata": {},
     "output_type": "execute_result"
    }
   ],
   "source": [
    "df_netflix_daily_top['posicao_ano'].value_counts()"
   ]
  },
  {
   "cell_type": "code",
   "execution_count": 22,
   "metadata": {},
   "outputs": [
    {
     "data": {
      "text/html": [
       "<div>\n",
       "<style scoped>\n",
       "    .dataframe tbody tr th:only-of-type {\n",
       "        vertical-align: middle;\n",
       "    }\n",
       "\n",
       "    .dataframe tbody tr th {\n",
       "        vertical-align: top;\n",
       "    }\n",
       "\n",
       "    .dataframe thead th {\n",
       "        text-align: right;\n",
       "    }\n",
       "</style>\n",
       "<table border=\"1\" class=\"dataframe\">\n",
       "  <thead>\n",
       "    <tr style=\"text-align: right;\">\n",
       "      <th></th>\n",
       "      <th>data_posicao</th>\n",
       "      <th>posicao</th>\n",
       "      <th>posicao_ano</th>\n",
       "      <th>posicao_semana_anterior</th>\n",
       "      <th>titulo</th>\n",
       "      <th>tipo</th>\n",
       "      <th>exclusivo_netflix</th>\n",
       "      <th>data_lancamento_netflix</th>\n",
       "      <th>dias_no_Top10</th>\n",
       "      <th>pontuacao_de_visualização</th>\n",
       "    </tr>\n",
       "  </thead>\n",
       "  <tbody>\n",
       "    <tr>\n",
       "      <th>0</th>\n",
       "      <td>2020-04-01</td>\n",
       "      <td>1</td>\n",
       "      <td>1</td>\n",
       "      <td>1</td>\n",
       "      <td>Tiger King: Murder, Mayhem …</td>\n",
       "      <td>TV Show</td>\n",
       "      <td>Yes</td>\n",
       "      <td>Mar 20, 2020</td>\n",
       "      <td>9</td>\n",
       "      <td>90</td>\n",
       "    </tr>\n",
       "    <tr>\n",
       "      <th>1</th>\n",
       "      <td>2020-04-01</td>\n",
       "      <td>2</td>\n",
       "      <td>2</td>\n",
       "      <td>0</td>\n",
       "      <td>Ozark</td>\n",
       "      <td>TV Show</td>\n",
       "      <td>Yes</td>\n",
       "      <td>Jul 21, 2017</td>\n",
       "      <td>5</td>\n",
       "      <td>45</td>\n",
       "    </tr>\n",
       "    <tr>\n",
       "      <th>2</th>\n",
       "      <td>2020-04-01</td>\n",
       "      <td>3</td>\n",
       "      <td>3</td>\n",
       "      <td>2</td>\n",
       "      <td>All American</td>\n",
       "      <td>TV Show</td>\n",
       "      <td>No</td>\n",
       "      <td>Mar 28, 2019</td>\n",
       "      <td>9</td>\n",
       "      <td>76</td>\n",
       "    </tr>\n",
       "    <tr>\n",
       "      <th>3</th>\n",
       "      <td>2020-04-01</td>\n",
       "      <td>4</td>\n",
       "      <td>4</td>\n",
       "      <td>0</td>\n",
       "      <td>Blood Father</td>\n",
       "      <td>Movie</td>\n",
       "      <td>No</td>\n",
       "      <td>Mar 26, 2020</td>\n",
       "      <td>5</td>\n",
       "      <td>30</td>\n",
       "    </tr>\n",
       "    <tr>\n",
       "      <th>4</th>\n",
       "      <td>2020-04-01</td>\n",
       "      <td>5</td>\n",
       "      <td>5</td>\n",
       "      <td>4</td>\n",
       "      <td>The Platform</td>\n",
       "      <td>Movie</td>\n",
       "      <td>Yes</td>\n",
       "      <td>Mar 20, 2020</td>\n",
       "      <td>9</td>\n",
       "      <td>55</td>\n",
       "    </tr>\n",
       "  </tbody>\n",
       "</table>\n",
       "</div>"
      ],
      "text/plain": [
       "  data_posicao  posicao posicao_ano posicao_semana_anterior  \\\n",
       "0   2020-04-01        1           1                       1   \n",
       "1   2020-04-01        2           2                       0   \n",
       "2   2020-04-01        3           3                       2   \n",
       "3   2020-04-01        4           4                       0   \n",
       "4   2020-04-01        5           5                       4   \n",
       "\n",
       "                         titulo     tipo exclusivo_netflix  \\\n",
       "0  Tiger King: Murder, Mayhem …  TV Show               Yes   \n",
       "1                         Ozark  TV Show               Yes   \n",
       "2                  All American  TV Show                No   \n",
       "3                  Blood Father    Movie                No   \n",
       "4                  The Platform    Movie               Yes   \n",
       "\n",
       "  data_lancamento_netflix  dias_no_Top10  pontuacao_de_visualização  \n",
       "0            Mar 20, 2020              9                         90  \n",
       "1            Jul 21, 2017              5                         45  \n",
       "2            Mar 28, 2019              9                         76  \n",
       "3            Mar 26, 2020              5                         30  \n",
       "4            Mar 20, 2020              9                         55  "
      ]
     },
     "execution_count": 22,
     "metadata": {},
     "output_type": "execute_result"
    }
   ],
   "source": [
    "# tratando os nulos e strings sem significado\n",
    "# Substituindo os valores '-' por '0' na coluna 'posicao_semana_anterior'\n",
    "df_netflix_daily_top['posicao_semana_anterior'] = df_netflix_daily_top['posicao_semana_anterior'].replace('-', '0')\n",
    "df_netflix_daily_top['posicao_ano'] = df_netflix_daily_top['posicao_ano'].replace('-', '0')\n",
    "# Substituindo os valores nulos (NaN) por 'No' na coluna 'exclusivo_netflix'\n",
    "df_netflix_daily_top['exclusivo_netflix'] = df_netflix_daily_top['exclusivo_netflix'].fillna('No')\n",
    "df_netflix_daily_top.head()\n"
   ]
  },
  {
   "cell_type": "code",
   "execution_count": 23,
   "metadata": {},
   "outputs": [
    {
     "name": "stdout",
     "output_type": "stream",
     "text": [
      "<class 'pandas.core.frame.DataFrame'>\n",
      "RangeIndex: 7100 entries, 0 to 7099\n",
      "Data columns (total 10 columns):\n",
      " #   Column                     Non-Null Count  Dtype \n",
      "---  ------                     --------------  ----- \n",
      " 0   data_posicao               7100 non-null   object\n",
      " 1   posicao                    7100 non-null   int64 \n",
      " 2   posicao_ano                7100 non-null   object\n",
      " 3   posicao_semana_anterior    7100 non-null   object\n",
      " 4   titulo                     7100 non-null   object\n",
      " 5   tipo                       7100 non-null   object\n",
      " 6   exclusivo_netflix          7100 non-null   object\n",
      " 7   data_lancamento_netflix    7100 non-null   object\n",
      " 8   dias_no_Top10              7100 non-null   int64 \n",
      " 9   pontuacao_de_visualização  7100 non-null   int64 \n",
      "dtypes: int64(3), object(7)\n",
      "memory usage: 554.8+ KB\n"
     ]
    }
   ],
   "source": [
    "df_netflix_daily_top.info()"
   ]
  },
  {
   "cell_type": "markdown",
   "metadata": {},
   "source": [
    "## Outliers"
   ]
  },
  {
   "cell_type": "code",
   "execution_count": 24,
   "metadata": {},
   "outputs": [
    {
     "name": "stdout",
     "output_type": "stream",
     "text": [
      "<class 'pandas.core.frame.DataFrame'>\n",
      "RangeIndex: 7100 entries, 0 to 7099\n",
      "Data columns (total 10 columns):\n",
      " #   Column                     Non-Null Count  Dtype         \n",
      "---  ------                     --------------  -----         \n",
      " 0   data_posicao               7100 non-null   datetime64[ns]\n",
      " 1   posicao                    7100 non-null   int64         \n",
      " 2   posicao_ano                7100 non-null   int64         \n",
      " 3   posicao_semana_anterior    7100 non-null   int64         \n",
      " 4   titulo                     7100 non-null   object        \n",
      " 5   tipo                       7100 non-null   object        \n",
      " 6   exclusivo_netflix          7100 non-null   object        \n",
      " 7   data_lancamento_netflix    7100 non-null   datetime64[ns]\n",
      " 8   dias_no_Top10              7100 non-null   int64         \n",
      " 9   pontuacao_de_visualização  7100 non-null   int64         \n",
      "dtypes: datetime64[ns](2), int64(5), object(3)\n",
      "memory usage: 554.8+ KB\n"
     ]
    }
   ],
   "source": [
    "# Convertendo para o tipo mais adequado\n",
    "# Convertendo as colunas de string para datetime\n",
    "df_netflix_daily_top['data_posicao'] = pd.to_datetime(df_netflix_daily_top['data_posicao'])\n",
    "df_netflix_daily_top['data_lancamento_netflix'] = pd.to_datetime(df_netflix_daily_top['data_lancamento_netflix'])\n",
    "\n",
    "# Convertendo as colunas de string para int64\n",
    "df_netflix_daily_top['posicao_ano'] = df_netflix_daily_top['posicao_ano'].astype('int64')\n",
    "df_netflix_daily_top['posicao_semana_anterior'] = df_netflix_daily_top['posicao_semana_anterior'].astype('int64')\n",
    "df_netflix_daily_top.info()"
   ]
  },
  {
   "cell_type": "code",
   "execution_count": 25,
   "metadata": {},
   "outputs": [
    {
     "data": {
      "text/html": [
       "<div>\n",
       "<style scoped>\n",
       "    .dataframe tbody tr th:only-of-type {\n",
       "        vertical-align: middle;\n",
       "    }\n",
       "\n",
       "    .dataframe tbody tr th {\n",
       "        vertical-align: top;\n",
       "    }\n",
       "\n",
       "    .dataframe thead th {\n",
       "        text-align: right;\n",
       "    }\n",
       "</style>\n",
       "<table border=\"1\" class=\"dataframe\">\n",
       "  <thead>\n",
       "    <tr style=\"text-align: right;\">\n",
       "      <th></th>\n",
       "      <th>data_posicao</th>\n",
       "      <th>posicao</th>\n",
       "      <th>posicao_ano</th>\n",
       "      <th>posicao_semana_anterior</th>\n",
       "      <th>titulo</th>\n",
       "      <th>tipo</th>\n",
       "      <th>exclusivo_netflix</th>\n",
       "      <th>data_lancamento_netflix</th>\n",
       "      <th>dias_no_Top10</th>\n",
       "      <th>pontuacao_de_visualização</th>\n",
       "    </tr>\n",
       "  </thead>\n",
       "  <tbody>\n",
       "    <tr>\n",
       "      <th>0</th>\n",
       "      <td>2020-04-01</td>\n",
       "      <td>1</td>\n",
       "      <td>1</td>\n",
       "      <td>1</td>\n",
       "      <td>Tiger King: Murder, Mayhem …</td>\n",
       "      <td>TV Show</td>\n",
       "      <td>Yes</td>\n",
       "      <td>2020-03-20</td>\n",
       "      <td>9</td>\n",
       "      <td>90</td>\n",
       "    </tr>\n",
       "    <tr>\n",
       "      <th>1</th>\n",
       "      <td>2020-04-01</td>\n",
       "      <td>2</td>\n",
       "      <td>2</td>\n",
       "      <td>0</td>\n",
       "      <td>Ozark</td>\n",
       "      <td>TV Show</td>\n",
       "      <td>Yes</td>\n",
       "      <td>2017-07-21</td>\n",
       "      <td>5</td>\n",
       "      <td>45</td>\n",
       "    </tr>\n",
       "    <tr>\n",
       "      <th>2</th>\n",
       "      <td>2020-04-01</td>\n",
       "      <td>3</td>\n",
       "      <td>3</td>\n",
       "      <td>2</td>\n",
       "      <td>All American</td>\n",
       "      <td>TV Show</td>\n",
       "      <td>No</td>\n",
       "      <td>2019-03-28</td>\n",
       "      <td>9</td>\n",
       "      <td>76</td>\n",
       "    </tr>\n",
       "    <tr>\n",
       "      <th>3</th>\n",
       "      <td>2020-04-01</td>\n",
       "      <td>4</td>\n",
       "      <td>4</td>\n",
       "      <td>0</td>\n",
       "      <td>Blood Father</td>\n",
       "      <td>Movie</td>\n",
       "      <td>No</td>\n",
       "      <td>2020-03-26</td>\n",
       "      <td>5</td>\n",
       "      <td>30</td>\n",
       "    </tr>\n",
       "    <tr>\n",
       "      <th>4</th>\n",
       "      <td>2020-04-01</td>\n",
       "      <td>5</td>\n",
       "      <td>5</td>\n",
       "      <td>4</td>\n",
       "      <td>The Platform</td>\n",
       "      <td>Movie</td>\n",
       "      <td>Yes</td>\n",
       "      <td>2020-03-20</td>\n",
       "      <td>9</td>\n",
       "      <td>55</td>\n",
       "    </tr>\n",
       "  </tbody>\n",
       "</table>\n",
       "</div>"
      ],
      "text/plain": [
       "  data_posicao  posicao  posicao_ano  posicao_semana_anterior  \\\n",
       "0   2020-04-01        1            1                        1   \n",
       "1   2020-04-01        2            2                        0   \n",
       "2   2020-04-01        3            3                        2   \n",
       "3   2020-04-01        4            4                        0   \n",
       "4   2020-04-01        5            5                        4   \n",
       "\n",
       "                         titulo     tipo exclusivo_netflix  \\\n",
       "0  Tiger King: Murder, Mayhem …  TV Show               Yes   \n",
       "1                         Ozark  TV Show               Yes   \n",
       "2                  All American  TV Show                No   \n",
       "3                  Blood Father    Movie                No   \n",
       "4                  The Platform    Movie               Yes   \n",
       "\n",
       "  data_lancamento_netflix  dias_no_Top10  pontuacao_de_visualização  \n",
       "0              2020-03-20              9                         90  \n",
       "1              2017-07-21              5                         45  \n",
       "2              2019-03-28              9                         76  \n",
       "3              2020-03-26              5                         30  \n",
       "4              2020-03-20              9                         55  "
      ]
     },
     "execution_count": 25,
     "metadata": {},
     "output_type": "execute_result"
    }
   ],
   "source": [
    "df_netflix_daily_top.head()"
   ]
  },
  {
   "cell_type": "code",
   "execution_count": 26,
   "metadata": {},
   "outputs": [
    {
     "data": {
      "text/html": [
       "<div>\n",
       "<style scoped>\n",
       "    .dataframe tbody tr th:only-of-type {\n",
       "        vertical-align: middle;\n",
       "    }\n",
       "\n",
       "    .dataframe tbody tr th {\n",
       "        vertical-align: top;\n",
       "    }\n",
       "\n",
       "    .dataframe thead th {\n",
       "        text-align: right;\n",
       "    }\n",
       "</style>\n",
       "<table border=\"1\" class=\"dataframe\">\n",
       "  <thead>\n",
       "    <tr style=\"text-align: right;\">\n",
       "      <th></th>\n",
       "      <th>data_posicao</th>\n",
       "      <th>posicao</th>\n",
       "      <th>posicao_ano</th>\n",
       "      <th>posicao_semana_anterior</th>\n",
       "      <th>data_lancamento_netflix</th>\n",
       "      <th>dias_no_Top10</th>\n",
       "      <th>pontuacao_de_visualização</th>\n",
       "    </tr>\n",
       "  </thead>\n",
       "  <tbody>\n",
       "    <tr>\n",
       "      <th>count</th>\n",
       "      <td>7100</td>\n",
       "      <td>7100.000000</td>\n",
       "      <td>7100.000000</td>\n",
       "      <td>7100.000000</td>\n",
       "      <td>7100</td>\n",
       "      <td>7100.000000</td>\n",
       "      <td>7100.000000</td>\n",
       "    </tr>\n",
       "    <tr>\n",
       "      <th>mean</th>\n",
       "      <td>2021-03-21 12:00:00.000000256</td>\n",
       "      <td>5.500000</td>\n",
       "      <td>4.439296</td>\n",
       "      <td>1.737324</td>\n",
       "      <td>2020-06-21 08:05:32.619718144</td>\n",
       "      <td>24.123662</td>\n",
       "      <td>122.790141</td>\n",
       "    </tr>\n",
       "    <tr>\n",
       "      <th>min</th>\n",
       "      <td>2020-04-01 00:00:00</td>\n",
       "      <td>1.000000</td>\n",
       "      <td>0.000000</td>\n",
       "      <td>0.000000</td>\n",
       "      <td>2007-01-15 00:00:00</td>\n",
       "      <td>1.000000</td>\n",
       "      <td>1.000000</td>\n",
       "    </tr>\n",
       "    <tr>\n",
       "      <th>25%</th>\n",
       "      <td>2020-09-25 00:00:00</td>\n",
       "      <td>3.000000</td>\n",
       "      <td>2.000000</td>\n",
       "      <td>0.000000</td>\n",
       "      <td>2020-04-26 00:00:00</td>\n",
       "      <td>3.000000</td>\n",
       "      <td>19.000000</td>\n",
       "    </tr>\n",
       "    <tr>\n",
       "      <th>50%</th>\n",
       "      <td>2021-03-21 12:00:00</td>\n",
       "      <td>5.500000</td>\n",
       "      <td>4.000000</td>\n",
       "      <td>0.000000</td>\n",
       "      <td>2020-10-02 00:00:00</td>\n",
       "      <td>7.000000</td>\n",
       "      <td>50.000000</td>\n",
       "    </tr>\n",
       "    <tr>\n",
       "      <th>75%</th>\n",
       "      <td>2021-09-15 00:00:00</td>\n",
       "      <td>8.000000</td>\n",
       "      <td>7.000000</td>\n",
       "      <td>3.000000</td>\n",
       "      <td>2021-05-14 00:00:00</td>\n",
       "      <td>18.000000</td>\n",
       "      <td>128.000000</td>\n",
       "    </tr>\n",
       "    <tr>\n",
       "      <th>max</th>\n",
       "      <td>2022-03-11 00:00:00</td>\n",
       "      <td>10.000000</td>\n",
       "      <td>10.000000</td>\n",
       "      <td>10.000000</td>\n",
       "      <td>2022-03-04 00:00:00</td>\n",
       "      <td>428.000000</td>\n",
       "      <td>1474.000000</td>\n",
       "    </tr>\n",
       "    <tr>\n",
       "      <th>std</th>\n",
       "      <td>NaN</td>\n",
       "      <td>2.872484</td>\n",
       "      <td>3.041267</td>\n",
       "      <td>2.620020</td>\n",
       "      <td>NaN</td>\n",
       "      <td>58.473789</td>\n",
       "      <td>213.861642</td>\n",
       "    </tr>\n",
       "  </tbody>\n",
       "</table>\n",
       "</div>"
      ],
      "text/plain": [
       "                        data_posicao      posicao  posicao_ano  \\\n",
       "count                           7100  7100.000000  7100.000000   \n",
       "mean   2021-03-21 12:00:00.000000256     5.500000     4.439296   \n",
       "min              2020-04-01 00:00:00     1.000000     0.000000   \n",
       "25%              2020-09-25 00:00:00     3.000000     2.000000   \n",
       "50%              2021-03-21 12:00:00     5.500000     4.000000   \n",
       "75%              2021-09-15 00:00:00     8.000000     7.000000   \n",
       "max              2022-03-11 00:00:00    10.000000    10.000000   \n",
       "std                              NaN     2.872484     3.041267   \n",
       "\n",
       "       posicao_semana_anterior        data_lancamento_netflix  dias_no_Top10  \\\n",
       "count              7100.000000                           7100    7100.000000   \n",
       "mean                  1.737324  2020-06-21 08:05:32.619718144      24.123662   \n",
       "min                   0.000000            2007-01-15 00:00:00       1.000000   \n",
       "25%                   0.000000            2020-04-26 00:00:00       3.000000   \n",
       "50%                   0.000000            2020-10-02 00:00:00       7.000000   \n",
       "75%                   3.000000            2021-05-14 00:00:00      18.000000   \n",
       "max                  10.000000            2022-03-04 00:00:00     428.000000   \n",
       "std                   2.620020                            NaN      58.473789   \n",
       "\n",
       "       pontuacao_de_visualização  \n",
       "count                7100.000000  \n",
       "mean                  122.790141  \n",
       "min                     1.000000  \n",
       "25%                    19.000000  \n",
       "50%                    50.000000  \n",
       "75%                   128.000000  \n",
       "max                  1474.000000  \n",
       "std                   213.861642  "
      ]
     },
     "execution_count": 26,
     "metadata": {},
     "output_type": "execute_result"
    }
   ],
   "source": [
    "df_netflix_daily_top.describe() # Parei aqui!!!"
   ]
  },
  {
   "cell_type": "code",
   "execution_count": 33,
   "metadata": {},
   "outputs": [
    {
     "data": {
      "image/png": "[encoded data removed]",
      "text/plain": [
       "<Figure size 1500x600 with 1 Axes>"
      ]
     },
     "metadata": {},
     "output_type": "display_data"
    }
   ],
   "source": [
    "import seaborn as sns\n",
    "\n",
    "# Criando boxplot múltiplo em uma única figura\n",
    "plt.figure(figsize=(15, 6))\n",
    "sns.boxplot(data=df_netflix_daily_top[['posicao', 'posicao_ano', \n",
    "            'posicao_semana_anterior', 'dias_no_Top10', \n",
    "            'pontuacao_de_visualização']])\n",
    "\n",
    "#plt.xticks(rotation=45)\n",
    "plt.title('Boxplots das Variáveis Numéricas')\n",
    "plt.grid(True)\n",
    "plt.show()"
   ]
  },
  {
   "cell_type": "code",
   "execution_count": 27,
   "metadata": {},
   "outputs": [
    {
     "data": {
      "text/plain": [
       "<Axes: >"
      ]
     },
     "execution_count": 27,
     "metadata": {},
     "output_type": "execute_result"
    },
    {
     "data": {
      "image/png": "[encoded data removed]",
      "text/plain": [
       "<Figure size 300x400 with 1 Axes>"
      ]
     },
     "metadata": {},
     "output_type": "display_data"
    }
   ],
   "source": [
    "# Box plot da posicao\n",
    "ax = df_netflix_daily_top.posicao.plot.box()\n",
    "ax.figure.set_size_inches(3, 4)\n",
    "ax"
   ]
  },
  {
   "cell_type": "code",
   "execution_count": 28,
   "metadata": {},
   "outputs": [
    {
     "data": {
      "text/plain": [
       "<Axes: >"
      ]
     },
     "execution_count": 28,
     "metadata": {},
     "output_type": "execute_result"
    },
    {
     "data": {
      "image/png": "[encoded data removed]",
      "text/plain": [
       "<Figure size 300x400 with 1 Axes>"
      ]
     },
     "metadata": {},
     "output_type": "display_data"
    }
   ],
   "source": [
    "# Box plot da posicao no ano\n",
    "ax = df_netflix_daily_top.posicao_ano.plot.box()\n",
    "ax.figure.set_size_inches(3, 4)\n",
    "ax"
   ]
  },
  {
   "cell_type": "code",
   "execution_count": null,
   "metadata": {},
   "outputs": [],
   "source": []
  }
 ],
 "metadata": {
  "kernelspec": {
   "display_name": "Python 3",
   "language": "python",
   "name": "python3"
  },
  "language_info": {
   "codemirror_mode": {
    "name": "ipython",
    "version": 3
   },
   "file_extension": ".py",
   "mimetype": "text/x-python",
   "name": "python",
   "nbconvert_exporter": "python",
   "pygments_lexer": "ipython3",
   "version": "3.12.2"
  }
 },
 "nbformat": 4,
 "nbformat_minor": 2
}
