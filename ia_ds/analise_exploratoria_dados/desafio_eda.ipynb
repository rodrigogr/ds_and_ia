{
 "cells": [
  {
   "cell_type": "markdown",
   "metadata": {
    "vscode": {
     "languageId": "plaintext"
    }
   },
   "source": [
    "# Desafio EDA\n",
    "\n",
    "Dessa base, analise e extraia:\n",
    "\n",
    "- Tipos de dados disponíveis\n",
    "- Período da análise feita\n",
    "- Tamanho da base de dados\n",
    "- Verificar dados nulos\n",
    "- Outliers"
   ]
  },
  {
   "cell_type": "markdown",
   "metadata": {},
   "source": [
    "## Importando bibliotecas"
   ]
  },
  {
   "cell_type": "code",
   "execution_count": 2,
   "metadata": {},
   "outputs": [],
   "source": [
    "import pandas as pd\n",
    "import numpy as np\n",
    "import seaborn as sns\n",
    "from scipy.stats import chi2_contingency\n",
    "from scipy.stats import zscore\n",
    "import sweetviz as sv\n",
    "import matplotlib.pyplot as plt\n",
    "%matplotlib inline\n",
    "\n",
    "import warnings\n",
    "warnings.filterwarnings('ignore')\n",
    "\n",
    "#Configurações de Exibição\n",
    "pd.set_option('display.max_seq_items', None)  # Exibe todas as entradas em listas e arrays\n",
    "pd.set_option('display.max_rows', None)  # Exibe todas as linhas\n",
    "pd.set_option('display.max_columns', None)  # Exibe todas as colunas\n",
    "pd.set_option('display.max_colwidth', None) # Exibe todo o conteúdo da célula\n",
    "\n",
    "# Toda vez que trabalhar com número científico, podemos tranformar em um decimal para ficar mais coompreensivo\n",
    "pd.set_option('display.float_format', lambda x: '%.15f' % x)"
   ]
  },
  {
   "cell_type": "markdown",
   "metadata": {},
   "source": [
    "## Carregando o Dataframe e renomeando as colunas"
   ]
  },
  {
   "cell_type": "code",
   "execution_count": 43,
   "metadata": {},
   "outputs": [
    {
     "data": {
      "text/html": [
       "<div>\n",
       "<style scoped>\n",
       "    .dataframe tbody tr th:only-of-type {\n",
       "        vertical-align: middle;\n",
       "    }\n",
       "\n",
       "    .dataframe tbody tr th {\n",
       "        vertical-align: top;\n",
       "    }\n",
       "\n",
       "    .dataframe thead th {\n",
       "        text-align: right;\n",
       "    }\n",
       "</style>\n",
       "<table border=\"1\" class=\"dataframe\">\n",
       "  <thead>\n",
       "    <tr style=\"text-align: right;\">\n",
       "      <th></th>\n",
       "      <th>As of</th>\n",
       "      <th>Rank</th>\n",
       "      <th>Year to Date Rank</th>\n",
       "      <th>Last Week Rank</th>\n",
       "      <th>Title</th>\n",
       "      <th>Type</th>\n",
       "      <th>Netflix Exclusive</th>\n",
       "      <th>Netflix Release Date</th>\n",
       "      <th>Days In Top 10</th>\n",
       "      <th>Viewership Score</th>\n",
       "    </tr>\n",
       "  </thead>\n",
       "  <tbody>\n",
       "    <tr>\n",
       "      <th>0</th>\n",
       "      <td>2020-04-01</td>\n",
       "      <td>1</td>\n",
       "      <td>1</td>\n",
       "      <td>1</td>\n",
       "      <td>Tiger King: Murder, Mayhem …</td>\n",
       "      <td>TV Show</td>\n",
       "      <td>Yes</td>\n",
       "      <td>Mar 20, 2020</td>\n",
       "      <td>9</td>\n",
       "      <td>90</td>\n",
       "    </tr>\n",
       "    <tr>\n",
       "      <th>1</th>\n",
       "      <td>2020-04-01</td>\n",
       "      <td>2</td>\n",
       "      <td>2</td>\n",
       "      <td>-</td>\n",
       "      <td>Ozark</td>\n",
       "      <td>TV Show</td>\n",
       "      <td>Yes</td>\n",
       "      <td>Jul 21, 2017</td>\n",
       "      <td>5</td>\n",
       "      <td>45</td>\n",
       "    </tr>\n",
       "    <tr>\n",
       "      <th>2</th>\n",
       "      <td>2020-04-01</td>\n",
       "      <td>3</td>\n",
       "      <td>3</td>\n",
       "      <td>2</td>\n",
       "      <td>All American</td>\n",
       "      <td>TV Show</td>\n",
       "      <td>NaN</td>\n",
       "      <td>Mar 28, 2019</td>\n",
       "      <td>9</td>\n",
       "      <td>76</td>\n",
       "    </tr>\n",
       "    <tr>\n",
       "      <th>3</th>\n",
       "      <td>2020-04-01</td>\n",
       "      <td>4</td>\n",
       "      <td>4</td>\n",
       "      <td>-</td>\n",
       "      <td>Blood Father</td>\n",
       "      <td>Movie</td>\n",
       "      <td>NaN</td>\n",
       "      <td>Mar 26, 2020</td>\n",
       "      <td>5</td>\n",
       "      <td>30</td>\n",
       "    </tr>\n",
       "    <tr>\n",
       "      <th>4</th>\n",
       "      <td>2020-04-01</td>\n",
       "      <td>5</td>\n",
       "      <td>5</td>\n",
       "      <td>4</td>\n",
       "      <td>The Platform</td>\n",
       "      <td>Movie</td>\n",
       "      <td>Yes</td>\n",
       "      <td>Mar 20, 2020</td>\n",
       "      <td>9</td>\n",
       "      <td>55</td>\n",
       "    </tr>\n",
       "  </tbody>\n",
       "</table>\n",
       "</div>"
      ],
      "text/plain": [
       "        As of  Rank Year to Date Rank Last Week Rank  \\\n",
       "0  2020-04-01     1                 1              1   \n",
       "1  2020-04-01     2                 2              -   \n",
       "2  2020-04-01     3                 3              2   \n",
       "3  2020-04-01     4                 4              -   \n",
       "4  2020-04-01     5                 5              4   \n",
       "\n",
       "                          Title     Type Netflix Exclusive  \\\n",
       "0  Tiger King: Murder, Mayhem …  TV Show               Yes   \n",
       "1                         Ozark  TV Show               Yes   \n",
       "2                  All American  TV Show               NaN   \n",
       "3                  Blood Father    Movie               NaN   \n",
       "4                  The Platform    Movie               Yes   \n",
       "\n",
       "  Netflix Release Date  Days In Top 10  Viewership Score  \n",
       "0         Mar 20, 2020               9                90  \n",
       "1         Jul 21, 2017               5                45  \n",
       "2         Mar 28, 2019               9                76  \n",
       "3         Mar 26, 2020               5                30  \n",
       "4         Mar 20, 2020               9                55  "
      ]
     },
     "execution_count": 43,
     "metadata": {},
     "output_type": "execute_result"
    }
   ],
   "source": [
    "df_netflix = pd.read_csv('./datasets/netflix_daily_top_10.csv')\n",
    "df_netflix.head()"
   ]
  },
  {
   "cell_type": "code",
   "execution_count": null,
   "metadata": {},
   "outputs": [],
   "source": [
    "# Renomeando as colunas do DataFrame df_netflix\n",
    "df_netflix.rename(columns={\n",
    "    'As of': 'Até',\n",
    "    'Rank': 'Posição',\n",
    "    'Year to Date Rank': 'Posição no Ano',\n",
    "    'Last Week Rank': 'Posição na Semana Passada',\n",
    "    'Title': 'Título',\n",
    "    'Type': 'Tipo',\n",
    "    'Netflix Exclusive': 'Exclusivo Netflix',\n",
    "    'Netflix Release Date': 'Data de Lançamento Netflix',\n",
    "    'Days In Top 10': 'Dias no Top 10',\n",
    "    'Viewership Score': 'Pontuação de Audiência'\n",
    "}, inplace=True)\n",
    "\n",
    "# Verificando as novas colunas\n",
    "df_netflix.head()"
   ]
  },
  {
   "cell_type": "markdown",
   "metadata": {},
   "source": [
    "## Resolvendo os exercícios\n",
    "\n",
    "- Tipos de dados disponíveis - OK\n",
    "- Tamanho da base de dados - OK\n",
    "- Período da análise feita - \n",
    "- Verificar dados nulos - OK\n",
    "- Outliers - \n"
   ]
  },
  {
   "cell_type": "markdown",
   "metadata": {},
   "source": [
    "### Tipos de dados disponíveis E Verificar Dados Nulos"
   ]
  },
  {
   "cell_type": "code",
   "execution_count": 81,
   "metadata": {},
   "outputs": [
    {
     "data": {
      "text/html": [
       "<div>\n",
       "<style scoped>\n",
       "    .dataframe tbody tr th:only-of-type {\n",
       "        vertical-align: middle;\n",
       "    }\n",
       "\n",
       "    .dataframe tbody tr th {\n",
       "        vertical-align: top;\n",
       "    }\n",
       "\n",
       "    .dataframe thead th {\n",
       "        text-align: right;\n",
       "    }\n",
       "</style>\n",
       "<table border=\"1\" class=\"dataframe\">\n",
       "  <thead>\n",
       "    <tr style=\"text-align: right;\">\n",
       "      <th></th>\n",
       "      <th>Até</th>\n",
       "      <th>Posição</th>\n",
       "      <th>Posição no Ano</th>\n",
       "      <th>Posição na Semana Passada</th>\n",
       "      <th>Título</th>\n",
       "      <th>Tipo</th>\n",
       "      <th>Exclusivo Netflix</th>\n",
       "      <th>Data de Lançamento Netflix</th>\n",
       "      <th>Dias no Top 10</th>\n",
       "      <th>Pontuação de Audiência</th>\n",
       "    </tr>\n",
       "  </thead>\n",
       "  <tbody>\n",
       "    <tr>\n",
       "      <th>0</th>\n",
       "      <td>2020-04-01</td>\n",
       "      <td>1</td>\n",
       "      <td>1</td>\n",
       "      <td>1</td>\n",
       "      <td>Tiger King: Murder, Mayhem …</td>\n",
       "      <td>TV Show</td>\n",
       "      <td>Yes</td>\n",
       "      <td>2020-03-20</td>\n",
       "      <td>9</td>\n",
       "      <td>90</td>\n",
       "    </tr>\n",
       "    <tr>\n",
       "      <th>1</th>\n",
       "      <td>2020-04-01</td>\n",
       "      <td>2</td>\n",
       "      <td>2</td>\n",
       "      <td>0</td>\n",
       "      <td>Ozark</td>\n",
       "      <td>TV Show</td>\n",
       "      <td>Yes</td>\n",
       "      <td>2017-07-21</td>\n",
       "      <td>5</td>\n",
       "      <td>45</td>\n",
       "    </tr>\n",
       "    <tr>\n",
       "      <th>2</th>\n",
       "      <td>2020-04-01</td>\n",
       "      <td>3</td>\n",
       "      <td>3</td>\n",
       "      <td>2</td>\n",
       "      <td>All American</td>\n",
       "      <td>TV Show</td>\n",
       "      <td>No</td>\n",
       "      <td>2019-03-28</td>\n",
       "      <td>9</td>\n",
       "      <td>76</td>\n",
       "    </tr>\n",
       "    <tr>\n",
       "      <th>3</th>\n",
       "      <td>2020-04-01</td>\n",
       "      <td>4</td>\n",
       "      <td>4</td>\n",
       "      <td>0</td>\n",
       "      <td>Blood Father</td>\n",
       "      <td>Movie</td>\n",
       "      <td>No</td>\n",
       "      <td>2020-03-26</td>\n",
       "      <td>5</td>\n",
       "      <td>30</td>\n",
       "    </tr>\n",
       "    <tr>\n",
       "      <th>4</th>\n",
       "      <td>2020-04-01</td>\n",
       "      <td>5</td>\n",
       "      <td>5</td>\n",
       "      <td>4</td>\n",
       "      <td>The Platform</td>\n",
       "      <td>Movie</td>\n",
       "      <td>Yes</td>\n",
       "      <td>2020-03-20</td>\n",
       "      <td>9</td>\n",
       "      <td>55</td>\n",
       "    </tr>\n",
       "  </tbody>\n",
       "</table>\n",
       "</div>"
      ],
      "text/plain": [
       "         Até  Posição  Posição no Ano  Posição na Semana Passada  \\\n",
       "0 2020-04-01        1               1                          1   \n",
       "1 2020-04-01        2               2                          0   \n",
       "2 2020-04-01        3               3                          2   \n",
       "3 2020-04-01        4               4                          0   \n",
       "4 2020-04-01        5               5                          4   \n",
       "\n",
       "                         Título     Tipo Exclusivo Netflix  \\\n",
       "0  Tiger King: Murder, Mayhem …  TV Show               Yes   \n",
       "1                         Ozark  TV Show               Yes   \n",
       "2                  All American  TV Show                No   \n",
       "3                  Blood Father    Movie                No   \n",
       "4                  The Platform    Movie               Yes   \n",
       "\n",
       "  Data de Lançamento Netflix  Dias no Top 10  Pontuação de Audiência  \n",
       "0                 2020-03-20               9                      90  \n",
       "1                 2017-07-21               5                      45  \n",
       "2                 2019-03-28               9                      76  \n",
       "3                 2020-03-26               5                      30  \n",
       "4                 2020-03-20               9                      55  "
      ]
     },
     "execution_count": 81,
     "metadata": {},
     "output_type": "execute_result"
    }
   ],
   "source": [
    "# Verificando as novas colunas\n",
    "df_netflix.head()"
   ]
  },
  {
   "cell_type": "code",
   "execution_count": 82,
   "metadata": {},
   "outputs": [
    {
     "name": "stdout",
     "output_type": "stream",
     "text": [
      "<class 'pandas.core.frame.DataFrame'>\n",
      "RangeIndex: 7100 entries, 0 to 7099\n",
      "Data columns (total 10 columns):\n",
      " #   Column                      Non-Null Count  Dtype         \n",
      "---  ------                      --------------  -----         \n",
      " 0   Até                         7100 non-null   datetime64[ns]\n",
      " 1   Posição                     7100 non-null   int64         \n",
      " 2   Posição no Ano              7100 non-null   int64         \n",
      " 3   Posição na Semana Passada   7100 non-null   int64         \n",
      " 4   Título                      7100 non-null   object        \n",
      " 5   Tipo                        7100 non-null   object        \n",
      " 6   Exclusivo Netflix           7100 non-null   object        \n",
      " 7   Data de Lançamento Netflix  7100 non-null   datetime64[ns]\n",
      " 8   Dias no Top 10              7100 non-null   int64         \n",
      " 9   Pontuação de Audiência      7100 non-null   int64         \n",
      "dtypes: datetime64[ns](2), int64(5), object(3)\n",
      "memory usage: 554.8+ KB\n"
     ]
    }
   ],
   "source": [
    "df_netflix.info()"
   ]
  },
  {
   "cell_type": "markdown",
   "metadata": {},
   "source": [
    "#### Coluna Até"
   ]
  },
  {
   "cell_type": "code",
   "execution_count": 53,
   "metadata": {},
   "outputs": [],
   "source": [
    "# Converter a coluna 'Até' para o formato de data\n",
    "df_netflix['Até'] = pd.to_datetime(df_netflix['Até'], format='%Y-%m-%d', errors='coerce')"
   ]
  },
  {
   "cell_type": "markdown",
   "metadata": {},
   "source": [
    "#### Coluna Posição no Ano"
   ]
  },
  {
   "cell_type": "code",
   "execution_count": 55,
   "metadata": {},
   "outputs": [
    {
     "data": {
      "text/plain": [
       "Posição no Ano\n",
       "0     859\n",
       "1     708\n",
       "2     708\n",
       "3     706\n",
       "4     705\n",
       "5     699\n",
       "6     675\n",
       "7     633\n",
       "8     554\n",
       "9     481\n",
       "10    372\n",
       "Name: count, dtype: int64"
      ]
     },
     "execution_count": 55,
     "metadata": {},
     "output_type": "execute_result"
    }
   ],
   "source": [
    "df_netflix['Posição no Ano'].value_counts(dropna=False)"
   ]
  },
  {
   "cell_type": "code",
   "execution_count": 54,
   "metadata": {},
   "outputs": [],
   "source": [
    "df_netflix['Posição no Ano'] = df_netflix['Posição no Ano'].str.strip().replace('-', 0)"
   ]
  },
  {
   "cell_type": "code",
   "execution_count": 56,
   "metadata": {},
   "outputs": [],
   "source": [
    "df_netflix['Posição no Ano'] = df_netflix['Posição no Ano'].astype('int64')"
   ]
  },
  {
   "cell_type": "markdown",
   "metadata": {},
   "source": [
    "#### Coluna Posição na Semana Passada"
   ]
  },
  {
   "cell_type": "code",
   "execution_count": 60,
   "metadata": {},
   "outputs": [
    {
     "data": {
      "text/plain": [
       "Posição na Semana Passada\n",
       "0     3968\n",
       "1      653\n",
       "2      564\n",
       "3      452\n",
       "4      336\n",
       "5      282\n",
       "6      240\n",
       "7      193\n",
       "8      167\n",
       "9      133\n",
       "10     112\n",
       "Name: count, dtype: int64"
      ]
     },
     "execution_count": 60,
     "metadata": {},
     "output_type": "execute_result"
    }
   ],
   "source": [
    "df_netflix['Posição na Semana Passada'].value_counts(dropna=False)"
   ]
  },
  {
   "cell_type": "code",
   "execution_count": 59,
   "metadata": {},
   "outputs": [],
   "source": [
    "df_netflix['Posição na Semana Passada'] = df_netflix['Posição na Semana Passada'].str.strip().replace('-', 0)"
   ]
  },
  {
   "cell_type": "code",
   "execution_count": 61,
   "metadata": {},
   "outputs": [],
   "source": [
    "df_netflix['Posição na Semana Passada'] = df_netflix['Posição na Semana Passada'].astype('int64')"
   ]
  },
  {
   "cell_type": "markdown",
   "metadata": {},
   "source": [
    "#### Coluna Exclusivo Netflix "
   ]
  },
  {
   "cell_type": "code",
   "execution_count": 70,
   "metadata": {},
   "outputs": [
    {
     "data": {
      "text/plain": [
       "Exclusivo Netflix\n",
       "Yes    4599\n",
       "NaN    2501\n",
       "Name: count, dtype: int64"
      ]
     },
     "execution_count": 70,
     "metadata": {},
     "output_type": "execute_result"
    }
   ],
   "source": [
    "df_netflix['Exclusivo Netflix'].value_counts(dropna=False)"
   ]
  },
  {
   "cell_type": "code",
   "execution_count": 72,
   "metadata": {},
   "outputs": [],
   "source": [
    "# Substituir valores nulos na coluna 'Exclusivo Netflix' por 'No'\n",
    "df_netflix['Exclusivo Netflix'] = df_netflix['Exclusivo Netflix'].fillna('No')"
   ]
  },
  {
   "cell_type": "markdown",
   "metadata": {},
   "source": [
    "#### Coluna Data de Lançamento Netflix"
   ]
  },
  {
   "cell_type": "code",
   "execution_count": 77,
   "metadata": {},
   "outputs": [],
   "source": [
    "# Converter a coluna 'Data de Lançamento Netflix' para o tipo datetime\n",
    "df_netflix['Data de Lançamento Netflix'] = pd.to_datetime(df_netflix['Data de Lançamento Netflix'], format='%b %d, %Y', errors='coerce')"
   ]
  },
  {
   "cell_type": "markdown",
   "metadata": {},
   "source": [
    "#### Tamanho da base de dados"
   ]
  },
  {
   "cell_type": "code",
   "execution_count": 84,
   "metadata": {},
   "outputs": [
    {
     "data": {
      "text/plain": [
       "(7100, 10)"
      ]
     },
     "execution_count": 84,
     "metadata": {},
     "output_type": "execute_result"
    }
   ],
   "source": [
    "df_netflix.shape"
   ]
  },
  {
   "cell_type": "markdown",
   "metadata": {},
   "source": [
    "#### Período da análise feita"
   ]
  },
  {
   "cell_type": "code",
   "execution_count": 98,
   "metadata": {},
   "outputs": [
    {
     "name": "stdout",
     "output_type": "stream",
     "text": [
      "O período do DataFrame é de 5527 dias.\n"
     ]
    }
   ],
   "source": [
    "min_date = df_netflix['Data de Lançamento Netflix'].min()\n",
    "max_date = df_netflix['Data de Lançamento Netflix'].max()\n",
    "\n",
    "periodo = max_date - min_date\n",
    "print(f\"O período do DataFrame é de {periodo.days} dias.\")"
   ]
  },
  {
   "cell_type": "markdown",
   "metadata": {},
   "source": [
    "#### Outliers"
   ]
  },
  {
   "cell_type": "code",
   "execution_count": 86,
   "metadata": {},
   "outputs": [
    {
     "data": {
      "text/plain": [
       "Index(['Até', 'Posição', 'Posição no Ano', 'Posição na Semana Passada',\n",
       "       'Título', 'Tipo', 'Exclusivo Netflix', 'Data de Lançamento Netflix',\n",
       "       'Dias no Top 10', 'Pontuação de Audiência'],\n",
       "      dtype='object')"
      ]
     },
     "execution_count": 86,
     "metadata": {},
     "output_type": "execute_result"
    }
   ],
   "source": [
    "df_netflix.columns"
   ]
  },
  {
   "cell_type": "code",
   "execution_count": 89,
   "metadata": {},
   "outputs": [
    {
     "data": {
      "text/plain": [
       "<Axes: >"
      ]
     },
     "execution_count": 89,
     "metadata": {},
     "output_type": "execute_result"
    },
    {
     "data": {
      "image/png": "[encoded data removed]",
      "text/plain": [
       "<Figure size 400x500 with 1 Axes>"
      ]
     },
     "metadata": {},
     "output_type": "display_data"
    }
   ],
   "source": [
    "ax = df_netflix['Pontuação de Audiência'].plot.box()\n",
    "ax.figure.set_size_inches(4, 5)\n",
    "ax"
   ]
  },
  {
   "cell_type": "code",
   "execution_count": 91,
   "metadata": {},
   "outputs": [
    {
     "data": {
      "text/plain": [
       "<Axes: ylabel='Frequency'>"
      ]
     },
     "execution_count": 91,
     "metadata": {},
     "output_type": "execute_result"
    },
    {
     "data": {
      "image/png": "[encoded data removed]",
      "text/plain": [
       "<Figure size 640x480 with 1 Axes>"
      ]
     },
     "metadata": {},
     "output_type": "display_data"
    }
   ],
   "source": [
    "df_netflix['Pontuação de Audiência'].plot.hist()"
   ]
  },
  {
   "cell_type": "markdown",
   "metadata": {},
   "source": [
    "##### Tukey (Distribuição Não Normal)"
   ]
  },
  {
   "cell_type": "code",
   "execution_count": 93,
   "metadata": {},
   "outputs": [
    {
     "data": {
      "text/plain": [
       "109.0"
      ]
     },
     "execution_count": 93,
     "metadata": {},
     "output_type": "execute_result"
    }
   ],
   "source": [
    "# IQR = 3º quartil - 1º quartil\n",
    "# IQR = $ 1906.4\n",
    "q1_pontuacao_audiencia = df_netflix['Pontuação de Audiência'].quantile(0.25)\n",
    "q3_pontuacao_audiencia = df_netflix['Pontuação de Audiência'].quantile(0.75)\n",
    "iqr_pontuacao_audiencia = q3_pontuacao_audiencia - q1_pontuacao_audiencia\n",
    "iqr_pontuacao_audiencia"
   ]
  },
  {
   "cell_type": "code",
   "execution_count": 94,
   "metadata": {},
   "outputs": [
    {
     "data": {
      "text/plain": [
       "(-144.5, 291.5)"
      ]
     },
     "execution_count": 94,
     "metadata": {},
     "output_type": "execute_result"
    }
   ],
   "source": [
    "# Calcular Limite Inferior e Superior\n",
    "limInf_pontuacao_audiencia = q1_pontuacao_audiencia - (iqr_pontuacao_audiencia * 1.5)\n",
    "limSup_pontuacao_audiencia = q3_pontuacao_audiencia + (iqr_pontuacao_audiencia * 1.5)\n",
    "limInf_pontuacao_audiencia, limSup_pontuacao_audiencia"
   ]
  },
  {
   "cell_type": "code",
   "execution_count": null,
   "metadata": {},
   "outputs": [
    {
     "data": {
      "text/plain": [
       "(7100, 698)"
      ]
     },
     "execution_count": 95,
     "metadata": {},
     "output_type": "execute_result"
    }
   ],
   "source": [
    "# A quantidade de outliers, ou seja, bolinhas abaixo do Limite Inferior ou acima do Limite Superior resultou em 698 em um total de 7100 registros\n",
    "qtde_outliers = df_netflix[(df_netflix['Pontuação de Audiência'] < limInf_pontuacao_audiencia) | (df_netflix['Pontuação de Audiência'] > limSup_pontuacao_audiencia)]\n",
    "df_netflix.shape[0], qtde_outliers.shape[0]"
   ]
  },
  {
   "cell_type": "markdown",
   "metadata": {},
   "source": [
    "##### ZScore (Distribuição normal)"
   ]
  },
  {
   "cell_type": "code",
   "execution_count": 101,
   "metadata": {},
   "outputs": [],
   "source": [
    "# Usando o método zscore do scipy\n",
    "# Desvios padrões maiores que 3, sendo negatio ou possitivo, é uma boa referência para definir se é outlier ou não\n",
    "z_score = zscore(df_netflix['Pontuação de Audiência'])"
   ]
  },
  {
   "cell_type": "code",
   "execution_count": 102,
   "metadata": {},
   "outputs": [],
   "source": [
    "# Simplificando convertendo para valores absolutos removendo os sinais\n",
    "z_score = np.abs(zscore(df_netflix['Pontuação de Audiência']))"
   ]
  },
  {
   "cell_type": "code",
   "execution_count": 103,
   "metadata": {},
   "outputs": [
    {
     "data": {
      "text/plain": [
       "201"
      ]
     },
     "execution_count": 103,
     "metadata": {},
     "output_type": "execute_result"
    }
   ],
   "source": [
    "# Quais são os outliers do churn contratos mensais\n",
    "df_netflix[z_score > 3.0].shape[0]"
   ]
  },
  {
   "cell_type": "code",
   "execution_count": null,
   "metadata": {},
   "outputs": [],
   "source": []
  }
 ],
 "metadata": {
  "kernelspec": {
   "display_name": "Python 3",
   "language": "python",
   "name": "python3"
  },
  "language_info": {
   "codemirror_mode": {
    "name": "ipython",
    "version": 3
   },
   "file_extension": ".py",
   "mimetype": "text/x-python",
   "name": "python",
   "nbconvert_exporter": "python",
   "pygments_lexer": "ipython3",
   "version": "3.12.2"
  }
 },
 "nbformat": 4,
 "nbformat_minor": 2
}
