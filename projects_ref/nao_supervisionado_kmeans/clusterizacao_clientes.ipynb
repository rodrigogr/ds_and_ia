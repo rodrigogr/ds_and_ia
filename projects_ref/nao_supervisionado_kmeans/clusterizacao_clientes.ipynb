{
 "cells": [
  {
   "cell_type": "markdown",
   "metadata": {},
   "source": [
    "# 1 - Introdução\n",
    "vamos explorar os algoritmos não supervisionados, começando pelo algoritmo de clusterização K-Means. A ideia dos algoritmos não supervisionados é extrair padrões dos dados sem ter um objetivo pré-definido. Nosso objetivo é agrupar ou reduzir a dimensionalidade dos dados com base nos padrões que encontramos. Diferente dos algoritmos supervisionados, não fazemos um treinamento com dados de teste para avaliar a performance do modelo. Neste módulo, vamos apresentar os principais algoritmos de clusterização e desenvolver um projeto de machine learning utilizando o algoritmo K-Means. Vamos abordar conceitos como clusterização, medidas de distância e métricas de avaliação de performance."
   ]
  },
  {
   "cell_type": "markdown",
   "metadata": {
    "vscode": {
     "languageId": "plaintext"
    }
   },
   "source": [
    "## 1.1 - O que é Clusterização\n",
    "Um algoritmo de clusterização é uma técnica de aprendizado de máquina e mineração de dados que agrupa um conjunto de dados em clusters ou grupos com base em suas similaridades. Esses algoritmos são usados para identificar padrões nos dados e organizar as informações em grupos significativos. Alguns exemplos de uso incluem segmentação de mercado, análise de redes sociais e agrupamento de documentos. Essas aplicações permitem direcionar estratégias de marketing, personalizar conteúdo e facilitar a organização e recuperação de informações."
   ]
  },
  {
   "cell_type": "markdown",
   "metadata": {
    "vscode": {
     "languageId": "plaintext"
    }
   },
   "source": [
    "## 1.2 - Um Passeio Pelos Algoritmos de Clusterização\n",
    "vamos explorar os principais algoritmos de clusterização. Vamos focar mais no K-Means, que atribui pontos de dados aos clusters com base na proximidade dos centróides, recalculando-os iterativamente para minimizar a variância intra-cluster."
   ]
  },
  {
   "cell_type": "markdown",
   "metadata": {},
   "source": [
    "# 2 - Conceito K-Means\n",
    "O algoritmo do K-Means é um método de clusterização amplamente utilizado em análise de dados e aprendizado de máquina. Ele agrupa dados em k-clusters, onde k é definido pelos cientistas de dados. O algoritmo começa definindo centroides aleatórios para cada cluster e, em seguida, atribui pontos a cada cluster com base em uma medida de distância, geralmente a distância euclidiana. Os centróides são recalculados como a média dos pontos atribuídos a cada cluster, e esse processo de atribuição e recálculo é repetido até que não haja mudanças significativas ou um número máximo de iterações seja alcançado. O resultado final pode variar dependendo da inicialização aleatória dos centroides e do número de clusters escolhidos."
   ]
  },
  {
   "cell_type": "markdown",
   "metadata": {
    "vscode": {
     "languageId": "plaintext"
    }
   },
   "source": [
    "## 2.1 - Como Definir a Quantidade de Clusters\n",
    "Existem diferentes métodos para definir o número ideal de clusters em um algoritmo de caminhos. O método do cotovelo envolve plotar a função de custo em relação ao número de clusters e observar quando ocorre uma mudança significativa na inclinação da curva. O método da silhueta avalia a qualidade dos clusters formados por diferentes valores de K e escolhe o valor que maximiza a média da silhueta. O método Gap Statistics compara a dispersão intra-cluster para diferentes valores de K e escolhe o número ideal de clusters que maximiza a lacuna estatística. A validação externa utiliza informações externas sobre os dados para determinar o número correto de clusters. O conhecimento de domínio também pode ser usado para determinar o número de clusters de forma mais precisa."
   ]
  },
  {
   "cell_type": "markdown",
   "metadata": {},
   "source": [
    "# 3 - Demais Fundamentos para Algoritmos de Clusterizaçao"
   ]
  },
  {
   "cell_type": "markdown",
   "metadata": {
    "vscode": {
     "languageId": "plaintext"
    }
   },
   "source": [
    "## 3.1 - Medidas de Distância\n",
    " discutimos diferentes medidas de distância que nos permitem comparar objetos e itens em um plano multidimensional. A distância Euclidiana é a mais comum e simples, calculada como a raiz quadrada da soma dos quadrados das diferenças entre as coordenadas dos pontos em cada dimensão. A distância de Manhattan é a soma das diferenças absolutas entre as coordenadas dos pontos em cada dimensão. A distância de Minkowski é uma generalização das distâncias Euclidiana e Manhattan. Também exploramos a distância de Chebyshev, a distância de Cosseno e a distância de Hamming, cada uma com suas próprias características e aplicações."
   ]
  },
  {
   "cell_type": "markdown",
   "metadata": {
    "vscode": {
     "languageId": "plaintext"
    }
   },
   "source": [
    "## 3.2 - Métricas de Algoritmos de Clusterização\n",
    "As métricas dos algoritmos de clusterização são importantes para avaliar a qualidade dos resultados. O índice de silhueta mede a coesão intra-cluster e a separação inter-cluster, indicando o quão bem os pontos estão agrupados dentro de seus clusters e separados dos outros clusters. O índice Davies-Bouldin mede a dispersão dentro de cada cluster em relação à separação entre clusters. O índice Calinski-Harabasz calcula a relação entre a dispersão intra-cluster e a dispersão entre clusters, pontuando mais alto para clusters densos e bem separados. O índice Dunn mede a razão entre a menor distância inter-cluster e a maior distância intra-cluster, pontuando mais alto para clusters compactos e distantes uns dos outros. O índice Range Ajustado compara os rótulos atribuídos pelos algoritmos de classificação com os rótulos verdadeiros, sendo útil quando se deseja confrontar informações supervisionadas com algoritmos não supervisionados. O índice de Validade Interna consiste em várias medidas internas, como compacidade e separação dos clusters, para avaliar a qualidade da clusterização sem rótulos verdadeiros."
   ]
  },
  {
   "cell_type": "markdown",
   "metadata": {},
   "source": [
    "# 4 - Apresentação do Projeto\n",
    "vamos explorar o algoritmo K-Means e alguns conceitos de algoritmos não supervisionados de classificação. Vamos usar um exemplo de uma empresa de concessão de crédito que deseja agrupar seus clientes com base em características como idade, faturamento mensal e nível de inovação. Vamos construir um algoritmo de clusterização para agrupar os clientes em segmentos e, assim, poder classificar novos clientes. Projetos de algoritmos não supervisionados podem ser um ponto de partida para projetos de algoritmos supervisionados. Vamos seguir a estrutura usual do projeto, mas sem a necessidade de separar os dados em treino e teste, pois não temos os rótulos dos segmentos. Faremos um EDA diferente, treinaremos e validaremos o modelo, faremos ajustes de hiperparâmetros e entregaremos o modelo via aplicação Batch. Agora, vamos para o código!"
   ]
  },
  {
   "cell_type": "markdown",
   "metadata": {},
   "source": [
    "# 5 - EDA"
   ]
  },
  {
   "cell_type": "markdown",
   "metadata": {},
   "source": [
    "## 5.1 - Importação das Bibliotecas"
   ]
  },
  {
   "cell_type": "code",
   "execution_count": 2,
   "metadata": {},
   "outputs": [
    {
     "name": "stderr",
     "output_type": "stream",
     "text": [
      "c:\\Users\\rgreb\\AppData\\Local\\Programs\\Python\\Python312\\Lib\\site-packages\\tqdm\\auto.py:21: TqdmWarning: IProgress not found. Please update jupyter and ipywidgets. See https://ipywidgets.readthedocs.io/en/stable/user_install.html\n",
      "  from .autonotebook import tqdm as notebook_tqdm\n"
     ]
    }
   ],
   "source": [
    "# EDA e Visualização de Dados\n",
    "import pandas as pd\n",
    "import plotly.express as px\n",
    "pd.set_option('display.float_format', lambda x: '%.2f' % x)\n",
    "from scipy.stats import bartlett, shapiro\n",
    "from pingouin import welch_anova\n",
    "\n",
    "# Machine Learning\n",
    "from sklearn.cluster import KMeans\n",
    "from sklearn.metrics import silhouette_score, pairwise_distances\n",
    "from sklearn.preprocessing import StandardScaler, OneHotEncoder, OrdinalEncoder\n",
    "from sklearn.compose import ColumnTransformer\n",
    "\n",
    "# Otimização HP\n",
    "import optuna\n",
    "\n",
    "# Salvar modelo\n",
    "import joblib\n",
    "\n",
    "# Front-End\n",
    "import gradio as gr"
   ]
  },
  {
   "cell_type": "markdown",
   "metadata": {},
   "source": [
    "## 5.2 - Setup e Carga de Dados\n",
    "vamos começar a trabalhar com o algoritmo K-Means no contexto de clusterização de clientes. O objetivo é agrupar os clientes em clusters com base em suas características, para oferecer um atendimento personalizado. Vou criar um arquivo Jupyter Notebook chamado \"clusterização-clientes.ipynb\" e importar as bibliotecas necessárias, como Pandas, Plotly, Scikit-Learn, Optuna, entre outras. Também vamos utilizar algumas métricas específicas para avaliar os resultados da clusterização. Além disso, faremos a carga dos dados de clientes a partir de um arquivo CSV e faremos uma análise inicial da estrutura desses dados. No próximo vídeo, continuaremos com o desenvolvimento do projeto."
   ]
  },
  {
   "cell_type": "code",
   "execution_count": 3,
   "metadata": {},
   "outputs": [
    {
     "data": {
      "text/html": [
       "<div>\n",
       "<style scoped>\n",
       "    .dataframe tbody tr th:only-of-type {\n",
       "        vertical-align: middle;\n",
       "    }\n",
       "\n",
       "    .dataframe tbody tr th {\n",
       "        vertical-align: top;\n",
       "    }\n",
       "\n",
       "    .dataframe thead th {\n",
       "        text-align: right;\n",
       "    }\n",
       "</style>\n",
       "<table border=\"1\" class=\"dataframe\">\n",
       "  <thead>\n",
       "    <tr style=\"text-align: right;\">\n",
       "      <th></th>\n",
       "      <th>atividade_economica</th>\n",
       "      <th>faturamento_mensal</th>\n",
       "      <th>numero_de_funcionarios</th>\n",
       "      <th>localizacao</th>\n",
       "      <th>idade</th>\n",
       "      <th>inovacao</th>\n",
       "    </tr>\n",
       "  </thead>\n",
       "  <tbody>\n",
       "    <tr>\n",
       "      <th>0</th>\n",
       "      <td>Comércio</td>\n",
       "      <td>713109.95</td>\n",
       "      <td>12</td>\n",
       "      <td>Rio de Janeiro</td>\n",
       "      <td>6</td>\n",
       "      <td>1</td>\n",
       "    </tr>\n",
       "    <tr>\n",
       "      <th>1</th>\n",
       "      <td>Comércio</td>\n",
       "      <td>790714.38</td>\n",
       "      <td>9</td>\n",
       "      <td>São Paulo</td>\n",
       "      <td>15</td>\n",
       "      <td>0</td>\n",
       "    </tr>\n",
       "    <tr>\n",
       "      <th>2</th>\n",
       "      <td>Comércio</td>\n",
       "      <td>1197239.33</td>\n",
       "      <td>17</td>\n",
       "      <td>São Paulo</td>\n",
       "      <td>4</td>\n",
       "      <td>9</td>\n",
       "    </tr>\n",
       "    <tr>\n",
       "      <th>3</th>\n",
       "      <td>Indústria</td>\n",
       "      <td>449185.78</td>\n",
       "      <td>15</td>\n",
       "      <td>São Paulo</td>\n",
       "      <td>6</td>\n",
       "      <td>0</td>\n",
       "    </tr>\n",
       "    <tr>\n",
       "      <th>4</th>\n",
       "      <td>Agronegócio</td>\n",
       "      <td>1006373.16</td>\n",
       "      <td>15</td>\n",
       "      <td>São Paulo</td>\n",
       "      <td>15</td>\n",
       "      <td>8</td>\n",
       "    </tr>\n",
       "  </tbody>\n",
       "</table>\n",
       "</div>"
      ],
      "text/plain": [
       "  atividade_economica  faturamento_mensal  numero_de_funcionarios  \\\n",
       "0            Comércio           713109.95                      12   \n",
       "1            Comércio           790714.38                       9   \n",
       "2            Comércio          1197239.33                      17   \n",
       "3           Indústria           449185.78                      15   \n",
       "4         Agronegócio          1006373.16                      15   \n",
       "\n",
       "      localizacao  idade  inovacao  \n",
       "0  Rio de Janeiro      6         1  \n",
       "1       São Paulo     15         0  \n",
       "2       São Paulo      4         9  \n",
       "3       São Paulo      6         0  \n",
       "4       São Paulo     15         8  "
      ]
     },
     "execution_count": 3,
     "metadata": {},
     "output_type": "execute_result"
    }
   ],
   "source": [
    "# Carregar Dataset\n",
    "df_clientes = pd.read_csv('./dataset_clientes_pj.csv')\n",
    "df_clientes.head()"
   ]
  },
  {
   "cell_type": "code",
   "execution_count": 4,
   "metadata": {},
   "outputs": [
    {
     "name": "stdout",
     "output_type": "stream",
     "text": [
      "<class 'pandas.core.frame.DataFrame'>\n",
      "RangeIndex: 500 entries, 0 to 499\n",
      "Data columns (total 6 columns):\n",
      " #   Column                  Non-Null Count  Dtype  \n",
      "---  ------                  --------------  -----  \n",
      " 0   atividade_economica     500 non-null    object \n",
      " 1   faturamento_mensal      500 non-null    float64\n",
      " 2   numero_de_funcionarios  500 non-null    int64  \n",
      " 3   localizacao             500 non-null    object \n",
      " 4   idade                   500 non-null    int64  \n",
      " 5   inovacao                500 non-null    int64  \n",
      "dtypes: float64(1), int64(3), object(2)\n",
      "memory usage: 23.6+ KB\n"
     ]
    }
   ],
   "source": [
    "df_clientes.info()"
   ]
  },
  {
   "cell_type": "markdown",
   "metadata": {},
   "source": [
    "## 5.3 - EDA\n",
    "Vamos dar continuidade ao nosso projeto no Jupyter Notebook, focando agora na Análise Exploratória de Dados (EDA). A ideia aqui não é repetir o EDA que já fizemos nos módulos anteriores, mas sim explorar algumas técnicas novas, como testes estatísticos. Começaremos analisando a distribuição da variável \"inovação\" em nosso conjunto de dados. Em seguida, levantaremos a hipótese de que empresas com diferentes níveis de inovação possam ter médias de faturamento mensal distintas. Para testar essa hipótese, utilizaremos o teste estatístico ANOVA (Análise de Variância), que verifica se há variações significativas nas médias de diferentes grupos. No entanto, antes de aplicar o teste, precisamos validar algumas suposições, como a independência das observações, a normalidade dos dados e a homogeneidade das variâncias. Caso essas suposições não sejam atendidas, utilizaremos o teste de ANOVA de Welch, que é mais robusto nessas situações. Nos próximos vídeos, veremos como realizar essas validações e aplicar o teste de hipótese."
   ]
  },
  {
   "cell_type": "code",
   "execution_count": 5,
   "metadata": {},
   "outputs": [
    {
     "data": {
      "application/vnd.plotly.v1+json": {
       "config": {
        "plotlyServerURL": "https://plot.ly"
       },
       "data": [
        {
         "alignmentgroup": "True",
         "hovertemplate": "inovacao=%{marker.color}<br>value=%{y}<extra></extra>",
         "legendgroup": "",
         "marker": {
          "color": [
           1,
           2,
           6,
           7,
           0,
           3,
           8,
           9,
           4,
           5
          ],
          "coloraxis": "coloraxis",
          "pattern": {
           "shape": ""
          }
         },
         "name": "",
         "offsetgroup": "",
         "orientation": "v",
         "showlegend": false,
         "textposition": "auto",
         "type": "bar",
         "x": [
          1,
          2,
          6,
          7,
          0,
          3,
          8,
          9,
          4,
          5
         ],
         "xaxis": "x",
         "y": [
          11.4,
          11.200000000000001,
          10.8,
          10.6,
          10.4,
          9.6,
          9.4,
          9.4,
          8.6,
          8.6
         ],
         "yaxis": "y"
        }
       ],
       "layout": {
        "barmode": "relative",
        "coloraxis": {
         "colorbar": {
          "title": {
           "text": "inovacao"
          }
         },
         "colorscale": [
          [
           0,
           "#0d0887"
          ],
          [
           0.1111111111111111,
           "#46039f"
          ],
          [
           0.2222222222222222,
           "#7201a8"
          ],
          [
           0.3333333333333333,
           "#9c179e"
          ],
          [
           0.4444444444444444,
           "#bd3786"
          ],
          [
           0.5555555555555556,
           "#d8576b"
          ],
          [
           0.6666666666666666,
           "#ed7953"
          ],
          [
           0.7777777777777778,
           "#fb9f3a"
          ],
          [
           0.8888888888888888,
           "#fdca26"
          ],
          [
           1,
           "#f0f921"
          ]
         ]
        },
        "legend": {
         "tracegroupgap": 0
        },
        "margin": {
         "t": 60
        },
        "template": {
         "data": {
          "bar": [
           {
            "error_x": {
             "color": "#2a3f5f"
            },
            "error_y": {
             "color": "#2a3f5f"
            },
            "marker": {
             "line": {
              "color": "#E5ECF6",
              "width": 0.5
             },
             "pattern": {
              "fillmode": "overlay",
              "size": 10,
              "solidity": 0.2
             }
            },
            "type": "bar"
           }
          ],
          "barpolar": [
           {
            "marker": {
             "line": {
              "color": "#E5ECF6",
              "width": 0.5
             },
             "pattern": {
              "fillmode": "overlay",
              "size": 10,
              "solidity": 0.2
             }
            },
            "type": "barpolar"
           }
          ],
          "carpet": [
           {
            "aaxis": {
             "endlinecolor": "#2a3f5f",
             "gridcolor": "white",
             "linecolor": "white",
             "minorgridcolor": "white",
             "startlinecolor": "#2a3f5f"
            },
            "baxis": {
             "endlinecolor": "#2a3f5f",
             "gridcolor": "white",
             "linecolor": "white",
             "minorgridcolor": "white",
             "startlinecolor": "#2a3f5f"
            },
            "type": "carpet"
           }
          ],
          "choropleth": [
           {
            "colorbar": {
             "outlinewidth": 0,
             "ticks": ""
            },
            "type": "choropleth"
           }
          ],
          "contour": [
           {
            "colorbar": {
             "outlinewidth": 0,
             "ticks": ""
            },
            "colorscale": [
             [
              0,
              "#0d0887"
             ],
             [
              0.1111111111111111,
              "#46039f"
             ],
             [
              0.2222222222222222,
              "#7201a8"
             ],
             [
              0.3333333333333333,
              "#9c179e"
             ],
             [
              0.4444444444444444,
              "#bd3786"
             ],
             [
              0.5555555555555556,
              "#d8576b"
             ],
             [
              0.6666666666666666,
              "#ed7953"
             ],
             [
              0.7777777777777778,
              "#fb9f3a"
             ],
             [
              0.8888888888888888,
              "#fdca26"
             ],
             [
              1,
              "#f0f921"
             ]
            ],
            "type": "contour"
           }
          ],
          "contourcarpet": [
           {
            "colorbar": {
             "outlinewidth": 0,
             "ticks": ""
            },
            "type": "contourcarpet"
           }
          ],
          "heatmap": [
           {
            "colorbar": {
             "outlinewidth": 0,
             "ticks": ""
            },
            "colorscale": [
             [
              0,
              "#0d0887"
             ],
             [
              0.1111111111111111,
              "#46039f"
             ],
             [
              0.2222222222222222,
              "#7201a8"
             ],
             [
              0.3333333333333333,
              "#9c179e"
             ],
             [
              0.4444444444444444,
              "#bd3786"
             ],
             [
              0.5555555555555556,
              "#d8576b"
             ],
             [
              0.6666666666666666,
              "#ed7953"
             ],
             [
              0.7777777777777778,
              "#fb9f3a"
             ],
             [
              0.8888888888888888,
              "#fdca26"
             ],
             [
              1,
              "#f0f921"
             ]
            ],
            "type": "heatmap"
           }
          ],
          "heatmapgl": [
           {
            "colorbar": {
             "outlinewidth": 0,
             "ticks": ""
            },
            "colorscale": [
             [
              0,
              "#0d0887"
             ],
             [
              0.1111111111111111,
              "#46039f"
             ],
             [
              0.2222222222222222,
              "#7201a8"
             ],
             [
              0.3333333333333333,
              "#9c179e"
             ],
             [
              0.4444444444444444,
              "#bd3786"
             ],
             [
              0.5555555555555556,
              "#d8576b"
             ],
             [
              0.6666666666666666,
              "#ed7953"
             ],
             [
              0.7777777777777778,
              "#fb9f3a"
             ],
             [
              0.8888888888888888,
              "#fdca26"
             ],
             [
              1,
              "#f0f921"
             ]
            ],
            "type": "heatmapgl"
           }
          ],
          "histogram": [
           {
            "marker": {
             "pattern": {
              "fillmode": "overlay",
              "size": 10,
              "solidity": 0.2
             }
            },
            "type": "histogram"
           }
          ],
          "histogram2d": [
           {
            "colorbar": {
             "outlinewidth": 0,
             "ticks": ""
            },
            "colorscale": [
             [
              0,
              "#0d0887"
             ],
             [
              0.1111111111111111,
              "#46039f"
             ],
             [
              0.2222222222222222,
              "#7201a8"
             ],
             [
              0.3333333333333333,
              "#9c179e"
             ],
             [
              0.4444444444444444,
              "#bd3786"
             ],
             [
              0.5555555555555556,
              "#d8576b"
             ],
             [
              0.6666666666666666,
              "#ed7953"
             ],
             [
              0.7777777777777778,
              "#fb9f3a"
             ],
             [
              0.8888888888888888,
              "#fdca26"
             ],
             [
              1,
              "#f0f921"
             ]
            ],
            "type": "histogram2d"
           }
          ],
          "histogram2dcontour": [
           {
            "colorbar": {
             "outlinewidth": 0,
             "ticks": ""
            },
            "colorscale": [
             [
              0,
              "#0d0887"
             ],
             [
              0.1111111111111111,
              "#46039f"
             ],
             [
              0.2222222222222222,
              "#7201a8"
             ],
             [
              0.3333333333333333,
              "#9c179e"
             ],
             [
              0.4444444444444444,
              "#bd3786"
             ],
             [
              0.5555555555555556,
              "#d8576b"
             ],
             [
              0.6666666666666666,
              "#ed7953"
             ],
             [
              0.7777777777777778,
              "#fb9f3a"
             ],
             [
              0.8888888888888888,
              "#fdca26"
             ],
             [
              1,
              "#f0f921"
             ]
            ],
            "type": "histogram2dcontour"
           }
          ],
          "mesh3d": [
           {
            "colorbar": {
             "outlinewidth": 0,
             "ticks": ""
            },
            "type": "mesh3d"
           }
          ],
          "parcoords": [
           {
            "line": {
             "colorbar": {
              "outlinewidth": 0,
              "ticks": ""
             }
            },
            "type": "parcoords"
           }
          ],
          "pie": [
           {
            "automargin": true,
            "type": "pie"
           }
          ],
          "scatter": [
           {
            "fillpattern": {
             "fillmode": "overlay",
             "size": 10,
             "solidity": 0.2
            },
            "type": "scatter"
           }
          ],
          "scatter3d": [
           {
            "line": {
             "colorbar": {
              "outlinewidth": 0,
              "ticks": ""
             }
            },
            "marker": {
             "colorbar": {
              "outlinewidth": 0,
              "ticks": ""
             }
            },
            "type": "scatter3d"
           }
          ],
          "scattercarpet": [
           {
            "marker": {
             "colorbar": {
              "outlinewidth": 0,
              "ticks": ""
             }
            },
            "type": "scattercarpet"
           }
          ],
          "scattergeo": [
           {
            "marker": {
             "colorbar": {
              "outlinewidth": 0,
              "ticks": ""
             }
            },
            "type": "scattergeo"
           }
          ],
          "scattergl": [
           {
            "marker": {
             "colorbar": {
              "outlinewidth": 0,
              "ticks": ""
             }
            },
            "type": "scattergl"
           }
          ],
          "scattermapbox": [
           {
            "marker": {
             "colorbar": {
              "outlinewidth": 0,
              "ticks": ""
             }
            },
            "type": "scattermapbox"
           }
          ],
          "scatterpolar": [
           {
            "marker": {
             "colorbar": {
              "outlinewidth": 0,
              "ticks": ""
             }
            },
            "type": "scatterpolar"
           }
          ],
          "scatterpolargl": [
           {
            "marker": {
             "colorbar": {
              "outlinewidth": 0,
              "ticks": ""
             }
            },
            "type": "scatterpolargl"
           }
          ],
          "scatterternary": [
           {
            "marker": {
             "colorbar": {
              "outlinewidth": 0,
              "ticks": ""
             }
            },
            "type": "scatterternary"
           }
          ],
          "surface": [
           {
            "colorbar": {
             "outlinewidth": 0,
             "ticks": ""
            },
            "colorscale": [
             [
              0,
              "#0d0887"
             ],
             [
              0.1111111111111111,
              "#46039f"
             ],
             [
              0.2222222222222222,
              "#7201a8"
             ],
             [
              0.3333333333333333,
              "#9c179e"
             ],
             [
              0.4444444444444444,
              "#bd3786"
             ],
             [
              0.5555555555555556,
              "#d8576b"
             ],
             [
              0.6666666666666666,
              "#ed7953"
             ],
             [
              0.7777777777777778,
              "#fb9f3a"
             ],
             [
              0.8888888888888888,
              "#fdca26"
             ],
             [
              1,
              "#f0f921"
             ]
            ],
            "type": "surface"
           }
          ],
          "table": [
           {
            "cells": {
             "fill": {
              "color": "#EBF0F8"
             },
             "line": {
              "color": "white"
             }
            },
            "header": {
             "fill": {
              "color": "#C8D4E3"
             },
             "line": {
              "color": "white"
             }
            },
            "type": "table"
           }
          ]
         },
         "layout": {
          "annotationdefaults": {
           "arrowcolor": "#2a3f5f",
           "arrowhead": 0,
           "arrowwidth": 1
          },
          "autotypenumbers": "strict",
          "coloraxis": {
           "colorbar": {
            "outlinewidth": 0,
            "ticks": ""
           }
          },
          "colorscale": {
           "diverging": [
            [
             0,
             "#8e0152"
            ],
            [
             0.1,
             "#c51b7d"
            ],
            [
             0.2,
             "#de77ae"
            ],
            [
             0.3,
             "#f1b6da"
            ],
            [
             0.4,
             "#fde0ef"
            ],
            [
             0.5,
             "#f7f7f7"
            ],
            [
             0.6,
             "#e6f5d0"
            ],
            [
             0.7,
             "#b8e186"
            ],
            [
             0.8,
             "#7fbc41"
            ],
            [
             0.9,
             "#4d9221"
            ],
            [
             1,
             "#276419"
            ]
           ],
           "sequential": [
            [
             0,
             "#0d0887"
            ],
            [
             0.1111111111111111,
             "#46039f"
            ],
            [
             0.2222222222222222,
             "#7201a8"
            ],
            [
             0.3333333333333333,
             "#9c179e"
            ],
            [
             0.4444444444444444,
             "#bd3786"
            ],
            [
             0.5555555555555556,
             "#d8576b"
            ],
            [
             0.6666666666666666,
             "#ed7953"
            ],
            [
             0.7777777777777778,
             "#fb9f3a"
            ],
            [
             0.8888888888888888,
             "#fdca26"
            ],
            [
             1,
             "#f0f921"
            ]
           ],
           "sequentialminus": [
            [
             0,
             "#0d0887"
            ],
            [
             0.1111111111111111,
             "#46039f"
            ],
            [
             0.2222222222222222,
             "#7201a8"
            ],
            [
             0.3333333333333333,
             "#9c179e"
            ],
            [
             0.4444444444444444,
             "#bd3786"
            ],
            [
             0.5555555555555556,
             "#d8576b"
            ],
            [
             0.6666666666666666,
             "#ed7953"
            ],
            [
             0.7777777777777778,
             "#fb9f3a"
            ],
            [
             0.8888888888888888,
             "#fdca26"
            ],
            [
             1,
             "#f0f921"
            ]
           ]
          },
          "colorway": [
           "#636efa",
           "#EF553B",
           "#00cc96",
           "#ab63fa",
           "#FFA15A",
           "#19d3f3",
           "#FF6692",
           "#B6E880",
           "#FF97FF",
           "#FECB52"
          ],
          "font": {
           "color": "#2a3f5f"
          },
          "geo": {
           "bgcolor": "white",
           "lakecolor": "white",
           "landcolor": "#E5ECF6",
           "showlakes": true,
           "showland": true,
           "subunitcolor": "white"
          },
          "hoverlabel": {
           "align": "left"
          },
          "hovermode": "closest",
          "mapbox": {
           "style": "light"
          },
          "paper_bgcolor": "white",
          "plot_bgcolor": "#E5ECF6",
          "polar": {
           "angularaxis": {
            "gridcolor": "white",
            "linecolor": "white",
            "ticks": ""
           },
           "bgcolor": "#E5ECF6",
           "radialaxis": {
            "gridcolor": "white",
            "linecolor": "white",
            "ticks": ""
           }
          },
          "scene": {
           "xaxis": {
            "backgroundcolor": "#E5ECF6",
            "gridcolor": "white",
            "gridwidth": 2,
            "linecolor": "white",
            "showbackground": true,
            "ticks": "",
            "zerolinecolor": "white"
           },
           "yaxis": {
            "backgroundcolor": "#E5ECF6",
            "gridcolor": "white",
            "gridwidth": 2,
            "linecolor": "white",
            "showbackground": true,
            "ticks": "",
            "zerolinecolor": "white"
           },
           "zaxis": {
            "backgroundcolor": "#E5ECF6",
            "gridcolor": "white",
            "gridwidth": 2,
            "linecolor": "white",
            "showbackground": true,
            "ticks": "",
            "zerolinecolor": "white"
           }
          },
          "shapedefaults": {
           "line": {
            "color": "#2a3f5f"
           }
          },
          "ternary": {
           "aaxis": {
            "gridcolor": "white",
            "linecolor": "white",
            "ticks": ""
           },
           "baxis": {
            "gridcolor": "white",
            "linecolor": "white",
            "ticks": ""
           },
           "bgcolor": "#E5ECF6",
           "caxis": {
            "gridcolor": "white",
            "linecolor": "white",
            "ticks": ""
           }
          },
          "title": {
           "x": 0.05
          },
          "xaxis": {
           "automargin": true,
           "gridcolor": "white",
           "linecolor": "white",
           "ticks": "",
           "title": {
            "standoff": 15
           },
           "zerolinecolor": "white",
           "zerolinewidth": 2
          },
          "yaxis": {
           "automargin": true,
           "gridcolor": "white",
           "linecolor": "white",
           "ticks": "",
           "title": {
            "standoff": 15
           },
           "zerolinecolor": "white",
           "zerolinewidth": 2
          }
         }
        },
        "xaxis": {
         "anchor": "y",
         "domain": [
          0,
          1
         ],
         "title": {
          "text": "inovacao"
         }
        },
        "yaxis": {
         "anchor": "x",
         "domain": [
          0,
          1
         ],
         "title": {
          "text": "value"
         }
        }
       }
      }
     },
     "metadata": {},
     "output_type": "display_data"
    }
   ],
   "source": [
    "# Distribuição da variável Inovação\n",
    "percentual_inovacao = df_clientes.value_counts('inovacao')/len(df_clientes)*100\n",
    "px.bar(percentual_inovacao, color=percentual_inovacao.index)"
   ]
  },
  {
   "cell_type": "markdown",
   "metadata": {},
   "source": [
    "## 5.4 - Teste ANOVA (Análise de Variância): \n",
    "vamos analisar os pressupostos necessários para realizar um teste estatístico de ANOVA. Vamos verificar se as variâncias entre os grupos são homogêneas e se os dados seguem uma distribuição normal. Também vamos considerar que as observações são independentes e que a variável independente é contínua. Além disso, vamos observar que as amostras não têm tamanhos iguais. Para verificar a homogeneidade das variâncias, vamos utilizar o teste de Bartlett. Para verificar a distribuição normal, vamos utilizar o teste de Shapiro-Wilk. Com base nos resultados desses testes, poderemos determinar se os pressupostos foram atendidos e prosseguir com o teste de ANOVA adequado.\n",
    "\n",
    "Verificar se há variações significativas na média de faturamento mensal para diferentes nívels de inovação\n",
    "Suposições ou Pressupostos que devemos fazer ates do teste:\n",
    "- Observações precisam ser independentes umas das outras;\n",
    "- Variável dependente precisa ser contínia;\n",
    "- Os dados da variável dependente deve seguir uma distribuição normal;\n",
    "- Deve haver homogeneidade das variâncias;\n",
    "- As amostras devem tem tamanhos iguais"
   ]
  },
  {
   "cell_type": "markdown",
   "metadata": {},
   "source": [
    "### 5.4.1 - Teste estatístico de Bartlett"
   ]
  },
  {
   "cell_type": "code",
   "execution_count": 6,
   "metadata": {},
   "outputs": [
    {
     "name": "stdout",
     "output_type": "stream",
     "text": [
      "Estatística do Teste de Bartlett: 10.901203117231173\n",
      "P-Value do Teste de Bartlett: 0.28254182954905804\n"
     ]
    }
   ],
   "source": [
    "# Checar se as variâncias (faturamento) entre os grupos (inovação) são homogêneas\n",
    "# Aplicar Teste de Bartlett\n",
    "# H0 - Variâncias são iguais\n",
    "# H1 - Variâncias não são iguais\n",
    "\n",
    "# Separando os dados de faturamento com base na coluna 'inovacao'\n",
    "dados_agrupados = [df_clientes['faturamento_mensal'][df_clientes['inovacao'] == grupo] for grupo in df_clientes['inovacao'].unique()] # For em todos possíveis valores de inovação (0 a 9)\n",
    "\n",
    "# Executar o teste de Bartlett\n",
    "bartlett_test_statistic, bartlett_p_value = bartlett(*dados_agrupados)\n",
    "\n",
    "# Exibindo os resultados\n",
    "print(f'Estatística do Teste de Bartlett: {bartlett_test_statistic}')\n",
    "print(f'P-Value do Teste de Bartlett: {bartlett_p_value}')\n",
    "\n",
    "\n",
    "# Não rejeitamos H0, portanto as variâncias são iguais"
   ]
  },
  {
   "cell_type": "markdown",
   "metadata": {},
   "source": [
    "### 5.4.2 - Teste de Shapiro-Wilk"
   ]
  },
  {
   "cell_type": "code",
   "execution_count": 7,
   "metadata": {},
   "outputs": [
    {
     "name": "stdout",
     "output_type": "stream",
     "text": [
      "Estatística do Teste de Shapiro-Wilk: 0.9959857602472711\n",
      "P-Value do Teste de Shapiro-Wilk: 0.23513451034389005\n"
     ]
    }
   ],
   "source": [
    "# Checar se os dados seguem uma distribuição normal\n",
    "# Aplicar Teste de Shapiro-Wilk\n",
    "# H0 - Segue uma distribuição normal\n",
    "# H1 - Não segue uma distribuição normal\n",
    "\n",
    "# Executar o teste\n",
    "shapiro_test_statistic, shapiro_p_value = shapiro(df_clientes['faturamento_mensal'])\n",
    "\n",
    "# Exibindo os resultados\n",
    "print(f'Estatística do Teste de Shapiro-Wilk: {shapiro_test_statistic}')\n",
    "print(f'P-Value do Teste de Shapiro-Wilk: {shapiro_p_value}')\n",
    "\n",
    "# Não rejeitamos H0, portanto os valores de faturamento mensal segue uma distribuição normal"
   ]
  },
  {
   "cell_type": "markdown",
   "metadata": {},
   "source": [
    "## 5.5 - Teste de ANOVA\n",
    " concluímos a parte de EDA (Exploratory Data Analysis) com um teste de ANOVA para avaliar a relação entre as médias dos valores para cada nível de inovação. Utilizamos o teste de ANOVA de Welch, pois as amostras têm tamanhos diferentes. Para isso, utilizamos o pacote estatístico PINGUIM e importamos o módulo Welch ANOVA. O resultado do teste mostrou que não há diferenças significativas entre as médias dos grupos, independentemente do nível de inovação das empresas. Isso significa que empresas com diferentes níveis de inovação podem ter faturamentos semelhantes. No próximo vídeo, exploraremos o algoritmo de K-Means."
   ]
  },
  {
   "cell_type": "markdown",
   "metadata": {},
   "source": [
    "### 5.5.1 - ANOVA de Welch\n",
    "Pois as amostras são de tamanhos diferentes"
   ]
  },
  {
   "cell_type": "code",
   "execution_count": 8,
   "metadata": {},
   "outputs": [
    {
     "name": "stdout",
     "output_type": "stream",
     "text": [
      "Estatística do Teste de ANOVA Welch: 1.1269836194061693\n",
      "P-Value do Teste de ANOVA Welch: 0.34526211273911467\n"
     ]
    }
   ],
   "source": [
    "# H0 - Não há diferenças significativas entre as médias dos grupos\n",
    "# H1 - Há pelo menos uma diferença significativa entre as médias dos grupos\n",
    "\n",
    "aov = welch_anova(dv='faturamento_mensal', between='inovacao', data=df_clientes)\n",
    "\n",
    "# Exibindo Resultados\n",
    "print(f'Estatística do Teste de ANOVA Welch: {aov.loc[0,'F']}')\n",
    "print(f'P-Value do Teste de ANOVA Welch: {aov.loc[0,'p-unc']}')\n",
    "\n",
    "# Não rejeitamos H0, portanto Não há diferenças significativas entre as médias dos grupos"
   ]
  },
  {
   "cell_type": "markdown",
   "metadata": {},
   "source": [
    "# 6 - Treinamento do Modelo"
   ]
  },
  {
   "cell_type": "markdown",
   "metadata": {},
   "source": [
    "## 6.1 - Preparação dos Dados para o KMeans\n",
    "começamos a trabalhar com o algoritmo de K-Means. Para treinar o algoritmo, precisamos preparar os dados. Faremos transformações nas colunas para que estejam no formato correto. Selecionaremos todas as colunas, pois não temos um target específico. Separaremos as variáveis numéricas, categóricas e ordinais. Aplicaremos transformações em cada tipo de variável usando um standard scaler, one-hot-encoder e ordinal encoder. Em seguida, criaremos um pré-processador que transformará os dados em um novo dataset. Usaremos o column transformer para indicar quais transformadores usar. Por fim, faremos o fit transform no pré-processador para treinar os transformadores e aplicar as transformações nos dados."
   ]
  },
  {
   "cell_type": "code",
   "execution_count": 9,
   "metadata": {},
   "outputs": [],
   "source": [
    "# Selecionar as colunas para clusterização\n",
    "X = df_clientes.copy()\n",
    "\n",
    "# Separar as variáveis numéricas categóricas nominais e ordinais\n",
    "numeric_features = ['faturamento_mensal', 'numero_de_funcionarios', 'idade']\n",
    "categorical_features = ['localizacao', 'atividade_economica']\n",
    "ordinal_features = ['inovacao']\n",
    "\n",
    "# Aplicar Transformações por tipo\n",
    "numeric_transformer = StandardScaler()\n",
    "categorical_transformer = OrdinalEncoder()\n",
    "ordinal_transformer = OrdinalEncoder()\n",
    "\n",
    "preprocessor = ColumnTransformer(\n",
    "    transformers=[\n",
    "        ('num', numeric_transformer, numeric_features),\n",
    "        ('cat', categorical_transformer, categorical_features),\n",
    "        ('ord', ordinal_transformer, ordinal_features)\n",
    "    ]\n",
    ")\n",
    "\n",
    "# Tranformar os dados\n",
    "X_trasnformed = preprocessor.fit_transform(X)"
   ]
  },
  {
   "cell_type": "markdown",
   "metadata": {},
   "source": [
    "## 6.2 - Executando o KMeans com Optuna\n",
    "vamos preparar os dados para treinar nosso modelo de algoritmo. Vamos otimizar a métrica de silhueta usando o Optuna para ajustar os hiperparâmetros. Vamos definir uma função chamada K-Means Objective, que receberá uma tentativa de ajuste dos hiperparâmetros. Vamos ajustar dois hiperparâmetros: o número de clusters (K) e a métrica de distância (Euclidiana e Minkowski). Em seguida, vamos instanciar o K-Means com esses hiperparâmetros e treinar o modelo. Calcularemos o Silhouette Score usando a função pairwise distance e os rótulos do K-Means. Por fim, criaremos um estudo do Optuna e rodaremos o experimento para encontrar a melhor configuração de hiperparâmetros."
   ]
  },
  {
   "cell_type": "code",
   "execution_count": 10,
   "metadata": {},
   "outputs": [],
   "source": [
    "# Optuna para Otimização de Hiperparâmetros\n",
    "def kmeans_objective(trial):\n",
    "\n",
    "    # Definindo os hiperparâmetros a serem ajustados\n",
    "    n_clusters = trial.suggest_int('n_clusters', 3, 10)\n",
    "    distance_metric = trial.suggest_categorical('distance_metric', ['euclidean', 'minkowski'])\n",
    "\n",
    "    # Criar modelo\n",
    "    modelo_kmeans = KMeans(n_clusters=n_clusters, random_state=51)\n",
    "\n",
    "    # Treinar Modelo\n",
    "    modelo_kmeans.fit(X_trasnformed)\n",
    "\n",
    "    # Calculando o Silhouette Score\n",
    "    distances = pairwise_distances(X_trasnformed, metric=distance_metric)\n",
    "    silhouette_avg = silhouette_score(distances, modelo_kmeans.labels_)\n",
    "\n",
    "    return silhouette_avg"
   ]
  },
  {
   "cell_type": "code",
   "execution_count": 11,
   "metadata": {},
   "outputs": [
    {
     "name": "stderr",
     "output_type": "stream",
     "text": [
      "[I 2024-04-21 15:44:24,687] A new study created in memory with name: no-name-9bd2d48e-bb3a-4c5d-b3aa-8e49e2097488\n",
      "[I 2024-04-21 15:44:24,862] Trial 0 finished with value: 0.2718697231215197 and parameters: {'n_clusters': 4, 'distance_metric': 'minkowski'}. Best is trial 0 with value: 0.2718697231215197.\n",
      "[I 2024-04-21 15:44:24,880] Trial 1 finished with value: 0.10693622457017327 and parameters: {'n_clusters': 8, 'distance_metric': 'minkowski'}. Best is trial 0 with value: 0.2718697231215197.\n",
      "[I 2024-04-21 15:44:24,903] Trial 2 finished with value: 0.13455028171512043 and parameters: {'n_clusters': 7, 'distance_metric': 'minkowski'}. Best is trial 0 with value: 0.2718697231215197.\n",
      "[I 2024-04-21 15:44:24,922] Trial 3 finished with value: 0.13455028171512048 and parameters: {'n_clusters': 7, 'distance_metric': 'euclidean'}. Best is trial 0 with value: 0.2718697231215197.\n",
      "[I 2024-04-21 15:44:24,939] Trial 4 finished with value: 0.10693622457017342 and parameters: {'n_clusters': 8, 'distance_metric': 'euclidean'}. Best is trial 0 with value: 0.2718697231215197.\n",
      "[I 2024-04-21 15:44:24,958] Trial 5 finished with value: 0.190213769634286 and parameters: {'n_clusters': 5, 'distance_metric': 'minkowski'}. Best is trial 0 with value: 0.2718697231215197.\n",
      "[I 2024-04-21 15:44:24,976] Trial 6 finished with value: 0.39151107473864566 and parameters: {'n_clusters': 3, 'distance_metric': 'euclidean'}. Best is trial 6 with value: 0.39151107473864566.\n",
      "[I 2024-04-21 15:44:24,991] Trial 7 finished with value: 0.1832077449309818 and parameters: {'n_clusters': 6, 'distance_metric': 'minkowski'}. Best is trial 6 with value: 0.39151107473864566.\n",
      "[I 2024-04-21 15:44:25,010] Trial 8 finished with value: 0.10497107569835788 and parameters: {'n_clusters': 9, 'distance_metric': 'minkowski'}. Best is trial 6 with value: 0.39151107473864566.\n",
      "[I 2024-04-21 15:44:25,029] Trial 9 finished with value: 0.10497107569835805 and parameters: {'n_clusters': 9, 'distance_metric': 'euclidean'}. Best is trial 6 with value: 0.39151107473864566.\n",
      "[I 2024-04-21 15:44:25,047] Trial 10 finished with value: 0.09714503158877211 and parameters: {'n_clusters': 10, 'distance_metric': 'euclidean'}. Best is trial 6 with value: 0.39151107473864566.\n",
      "[I 2024-04-21 15:44:25,061] Trial 11 finished with value: 0.39151107473864566 and parameters: {'n_clusters': 3, 'distance_metric': 'minkowski'}. Best is trial 6 with value: 0.39151107473864566.\n",
      "[I 2024-04-21 15:44:25,075] Trial 12 finished with value: 0.09714503158877198 and parameters: {'n_clusters': 10, 'distance_metric': 'minkowski'}. Best is trial 6 with value: 0.39151107473864566.\n",
      "[I 2024-04-21 15:44:25,091] Trial 13 finished with value: 0.19021376963428602 and parameters: {'n_clusters': 5, 'distance_metric': 'euclidean'}. Best is trial 6 with value: 0.39151107473864566.\n",
      "[I 2024-04-21 15:44:25,108] Trial 14 finished with value: 0.2718697231215197 and parameters: {'n_clusters': 4, 'distance_metric': 'euclidean'}. Best is trial 6 with value: 0.39151107473864566.\n",
      "[I 2024-04-21 15:44:25,123] Trial 15 finished with value: 0.18320774493098185 and parameters: {'n_clusters': 6, 'distance_metric': 'euclidean'}. Best is trial 6 with value: 0.39151107473864566.\n"
     ]
    }
   ],
   "source": [
    "# Criar estudo do Optuna\n",
    "search_space = {'n_clusters': [3, 4, 5, 6, 7, 8, 9, 10], 'distance_metric': ['euclidean', 'minkowski']}\n",
    "sampler = optuna.samplers.GridSampler(search_space=search_space)\n",
    "estudo_kmeans = optuna.create_study(direction='maximize', sampler=sampler)\n",
    "\n",
    "# Rodar Estudo\n",
    "estudo_kmeans.optimize(kmeans_objective, n_trials=100)"
   ]
  },
  {
   "cell_type": "markdown",
   "metadata": {},
   "source": [
    "# 7 - Análise de Resultados"
   ]
  },
  {
   "cell_type": "markdown",
   "metadata": {},
   "source": [
    "## 7.1 - Analisando Resultados do KMeans\n",
    "vamos analisar os resultados do Optuna e treinar um modelo com os melhores parâmetros encontrados. Primeiro, vamos guardar a melhor configuração em uma variável chamada \"best_params\". Em seguida, vamos criar o modelo usando esses melhores parâmetros e ajustá-lo aos dados. Calcularemos o score de silhueta para avaliar o desempenho do modelo. O Optuna determinou que o número de clusters ideal é 3, a métrica de distância escolhida foi a euclidiana e o score de silhueta foi de 0.44. Agora, vamos atribuir os clusters aos registros do nosso dataset e visualizar os primeiros registros com a coluna de cluster atualizada. No próximo vídeo, iremos explorar esses clusters em uma visualização de dados."
   ]
  },
  {
   "cell_type": "code",
   "execution_count": 12,
   "metadata": {},
   "outputs": [
    {
     "name": "stdout",
     "output_type": "stream",
     "text": [
      "k (Número de Clusters): 3\n",
      "Métrica de Distância selecionada: euclidean\n",
      "Silhouette Score: 0.39151107473864566\n"
     ]
    }
   ],
   "source": [
    "# Melhor configuração encontrada pelo Optuna\n",
    "best_params = estudo_kmeans.best_params\n",
    "\n",
    "# Instanciando o modelo K-means com melhores parâmetros\n",
    "best_kmeans = KMeans(n_clusters=best_params['n_clusters'], random_state=51)\n",
    "best_kmeans.fit(X_trasnformed)\n",
    "\n",
    "# Calculando o Silhouette Score\n",
    "distances = pairwise_distances(X_trasnformed, metric=best_params['distance_metric'])\n",
    "best_silhouette = silhouette_score(distances, best_kmeans.labels_)\n",
    "\n",
    "# Exibindo Resultados\n",
    "print(f'k (Número de Clusters): {best_params['n_clusters']}')\n",
    "print(f'Métrica de Distância selecionada: {best_params['distance_metric']}')\n",
    "print(f'Silhouette Score: {best_silhouette}')"
   ]
  },
  {
   "cell_type": "code",
   "execution_count": 13,
   "metadata": {},
   "outputs": [
    {
     "data": {
      "text/html": [
       "<div>\n",
       "<style scoped>\n",
       "    .dataframe tbody tr th:only-of-type {\n",
       "        vertical-align: middle;\n",
       "    }\n",
       "\n",
       "    .dataframe tbody tr th {\n",
       "        vertical-align: top;\n",
       "    }\n",
       "\n",
       "    .dataframe thead th {\n",
       "        text-align: right;\n",
       "    }\n",
       "</style>\n",
       "<table border=\"1\" class=\"dataframe\">\n",
       "  <thead>\n",
       "    <tr style=\"text-align: right;\">\n",
       "      <th></th>\n",
       "      <th>atividade_economica</th>\n",
       "      <th>faturamento_mensal</th>\n",
       "      <th>numero_de_funcionarios</th>\n",
       "      <th>localizacao</th>\n",
       "      <th>idade</th>\n",
       "      <th>inovacao</th>\n",
       "      <th>cluster</th>\n",
       "    </tr>\n",
       "  </thead>\n",
       "  <tbody>\n",
       "    <tr>\n",
       "      <th>0</th>\n",
       "      <td>Comércio</td>\n",
       "      <td>713109.95</td>\n",
       "      <td>12</td>\n",
       "      <td>Rio de Janeiro</td>\n",
       "      <td>6</td>\n",
       "      <td>1</td>\n",
       "      <td>0</td>\n",
       "    </tr>\n",
       "    <tr>\n",
       "      <th>1</th>\n",
       "      <td>Comércio</td>\n",
       "      <td>790714.38</td>\n",
       "      <td>9</td>\n",
       "      <td>São Paulo</td>\n",
       "      <td>15</td>\n",
       "      <td>0</td>\n",
       "      <td>0</td>\n",
       "    </tr>\n",
       "    <tr>\n",
       "      <th>2</th>\n",
       "      <td>Comércio</td>\n",
       "      <td>1197239.33</td>\n",
       "      <td>17</td>\n",
       "      <td>São Paulo</td>\n",
       "      <td>4</td>\n",
       "      <td>9</td>\n",
       "      <td>1</td>\n",
       "    </tr>\n",
       "    <tr>\n",
       "      <th>3</th>\n",
       "      <td>Indústria</td>\n",
       "      <td>449185.78</td>\n",
       "      <td>15</td>\n",
       "      <td>São Paulo</td>\n",
       "      <td>6</td>\n",
       "      <td>0</td>\n",
       "      <td>0</td>\n",
       "    </tr>\n",
       "    <tr>\n",
       "      <th>4</th>\n",
       "      <td>Agronegócio</td>\n",
       "      <td>1006373.16</td>\n",
       "      <td>15</td>\n",
       "      <td>São Paulo</td>\n",
       "      <td>15</td>\n",
       "      <td>8</td>\n",
       "      <td>1</td>\n",
       "    </tr>\n",
       "  </tbody>\n",
       "</table>\n",
       "</div>"
      ],
      "text/plain": [
       "  atividade_economica  faturamento_mensal  numero_de_funcionarios  \\\n",
       "0            Comércio           713109.95                      12   \n",
       "1            Comércio           790714.38                       9   \n",
       "2            Comércio          1197239.33                      17   \n",
       "3           Indústria           449185.78                      15   \n",
       "4         Agronegócio          1006373.16                      15   \n",
       "\n",
       "      localizacao  idade  inovacao  cluster  \n",
       "0  Rio de Janeiro      6         1        0  \n",
       "1       São Paulo     15         0        0  \n",
       "2       São Paulo      4         9        1  \n",
       "3       São Paulo      6         0        0  \n",
       "4       São Paulo     15         8        1  "
      ]
     },
     "execution_count": 13,
     "metadata": {},
     "output_type": "execute_result"
    }
   ],
   "source": [
    "# Criar coluna com cluster escolhido\n",
    "df_clientes['cluster'] = best_kmeans.labels_\n",
    "df_clientes.head()"
   ]
  },
  {
   "cell_type": "markdown",
   "metadata": {},
   "source": [
    "## 7.2 - Visualização Decisões do KMeans\n",
    "vamos analisar os clusters gerados pelo algoritmo e tentar entender os critérios utilizados para organizá-los. Faremos cruzamentos de dados, como idade e faturamento mensal, e criaremos visualizações para identificar padrões. Observamos que não há um padrão claro baseado no faturamento, mas encontramos um padrão interessante relacionado à inovação. Empresas com níveis de inovação baixos foram agrupadas em um cluster, independentemente do faturamento, enquanto empresas com níveis de inovação moderados e avançados foram agrupadas em outros clusters. Isso nos revela a possibilidade de personalizar o atendimento aos clientes com base em seu nível de inovação. Salvamos o modelo e o pipeline para uso futuro na aplicação batch."
   ]
  },
  {
   "cell_type": "code",
   "execution_count": 14,
   "metadata": {},
   "outputs": [
    {
     "data": {
      "application/vnd.plotly.v1+json": {
       "config": {
        "plotlyServerURL": "https://plot.ly"
       },
       "data": [
        {
         "hovertemplate": "idade=%{x}<br>faturamento_mensal=%{y}<br>cluster=%{marker.color}<extra></extra>",
         "legendgroup": "",
         "marker": {
          "color": [
           0,
           0,
           1,
           0,
           1,
           2,
           0,
           2,
           0,
           2,
           2,
           2,
           2,
           2,
           1,
           1,
           1,
           0,
           1,
           2,
           0,
           0,
           2,
           2,
           0,
           0,
           1,
           1,
           0,
           0,
           0,
           1,
           2,
           1,
           2,
           2,
           2,
           2,
           1,
           1,
           1,
           2,
           2,
           2,
           0,
           1,
           2,
           0,
           1,
           1,
           2,
           0,
           0,
           2,
           0,
           0,
           0,
           0,
           2,
           1,
           1,
           2,
           0,
           1,
           1,
           2,
           2,
           0,
           0,
           0,
           2,
           0,
           0,
           1,
           2,
           0,
           0,
           2,
           2,
           1,
           1,
           0,
           0,
           1,
           2,
           1,
           1,
           0,
           0,
           2,
           0,
           2,
           2,
           0,
           0,
           1,
           1,
           1,
           1,
           2,
           0,
           0,
           2,
           2,
           0,
           2,
           1,
           2,
           2,
           1,
           1,
           1,
           1,
           1,
           0,
           0,
           1,
           0,
           2,
           2,
           0,
           0,
           2,
           2,
           1,
           0,
           1,
           2,
           2,
           1,
           1,
           0,
           0,
           2,
           0,
           0,
           1,
           1,
           0,
           2,
           1,
           0,
           0,
           0,
           1,
           0,
           1,
           0,
           1,
           1,
           0,
           2,
           2,
           1,
           0,
           1,
           1,
           1,
           0,
           0,
           2,
           1,
           1,
           2,
           2,
           2,
           0,
           0,
           1,
           1,
           1,
           1,
           0,
           2,
           1,
           0,
           1,
           1,
           1,
           1,
           0,
           2,
           1,
           1,
           2,
           2,
           1,
           0,
           1,
           1,
           1,
           0,
           2,
           1,
           0,
           1,
           0,
           0,
           2,
           2,
           2,
           1,
           1,
           0,
           0,
           1,
           2,
           0,
           2,
           0,
           0,
           0,
           0,
           0,
           0,
           2,
           2,
           1,
           0,
           0,
           1,
           2,
           2,
           2,
           1,
           1,
           0,
           1,
           0,
           2,
           0,
           2,
           1,
           1,
           0,
           1,
           2,
           2,
           1,
           2,
           1,
           2,
           0,
           0,
           0,
           1,
           2,
           1,
           1,
           1,
           1,
           0,
           0,
           0,
           1,
           2,
           1,
           1,
           1,
           0,
           2,
           1,
           0,
           1,
           0,
           2,
           1,
           1,
           0,
           2,
           1,
           2,
           0,
           1,
           1,
           2,
           2,
           1,
           2,
           2,
           2,
           1,
           0,
           0,
           1,
           1,
           1,
           1,
           2,
           0,
           0,
           1,
           0,
           2,
           1,
           0,
           1,
           2,
           1,
           0,
           2,
           1,
           1,
           0,
           0,
           1,
           1,
           2,
           2,
           0,
           0,
           2,
           0,
           0,
           0,
           0,
           1,
           2,
           1,
           0,
           0,
           2,
           0,
           1,
           1,
           1,
           1,
           2,
           0,
           1,
           1,
           0,
           2,
           1,
           2,
           2,
           0,
           0,
           1,
           1,
           1,
           2,
           1,
           0,
           0,
           1,
           0,
           1,
           2,
           1,
           2,
           0,
           1,
           1,
           2,
           1,
           2,
           2,
           1,
           2,
           1,
           0,
           1,
           1,
           2,
           0,
           0,
           0,
           1,
           2,
           0,
           0,
           2,
           2,
           1,
           1,
           2,
           2,
           0,
           1,
           2,
           1,
           0,
           1,
           1,
           2,
           0,
           1,
           1,
           1,
           1,
           2,
           0,
           2,
           1,
           1,
           0,
           1,
           1,
           2,
           0,
           2,
           1,
           0,
           2,
           1,
           1,
           2,
           0,
           0,
           0,
           1,
           2,
           1,
           2,
           2,
           2,
           2,
           1,
           2,
           1,
           2,
           2,
           2,
           0,
           2,
           2,
           2,
           0,
           1,
           2,
           0,
           0,
           0,
           1,
           2,
           1,
           1,
           0,
           1,
           2,
           1,
           1,
           1,
           2,
           0,
           0,
           2,
           1,
           2,
           0,
           2,
           0,
           2,
           0,
           2,
           1,
           1,
           2,
           1,
           2,
           1,
           2,
           0,
           0,
           0,
           2,
           1,
           0,
           2,
           0,
           0,
           1,
           1,
           2,
           2,
           2,
           1,
           0,
           0,
           2,
           1,
           1,
           0,
           1,
           0,
           0,
           2,
           2,
           0,
           2,
           0,
           0,
           1,
           0,
           0,
           1,
           0,
           2,
           1
          ],
          "coloraxis": "coloraxis",
          "symbol": "circle"
         },
         "mode": "markers",
         "name": "",
         "orientation": "v",
         "showlegend": false,
         "type": "scatter",
         "x": [
          6,
          15,
          4,
          6,
          15,
          11,
          0,
          10,
          10,
          9,
          10,
          9,
          11,
          9,
          8,
          8,
          8,
          12,
          10,
          12,
          6,
          16,
          9,
          13,
          15,
          7,
          7,
          9,
          4,
          12,
          3,
          7,
          12,
          7,
          5,
          12,
          12,
          9,
          11,
          7,
          6,
          9,
          7,
          6,
          14,
          13,
          12,
          8,
          9,
          9,
          13,
          8,
          12,
          12,
          3,
          12,
          8,
          9,
          10,
          7,
          7,
          10,
          6,
          10,
          8,
          9,
          10,
          2,
          10,
          14,
          6,
          13,
          11,
          6,
          13,
          12,
          8,
          10,
          9,
          9,
          9,
          12,
          13,
          4,
          7,
          10,
          7,
          13,
          10,
          11,
          9,
          10,
          9,
          7,
          10,
          12,
          10,
          7,
          15,
          3,
          5,
          8,
          9,
          4,
          11,
          10,
          7,
          7,
          9,
          14,
          9,
          12,
          11,
          14,
          10,
          8,
          14,
          9,
          12,
          11,
          11,
          16,
          3,
          7,
          11,
          7,
          10,
          7,
          11,
          5,
          8,
          11,
          9,
          8,
          12,
          10,
          10,
          7,
          7,
          10,
          10,
          6,
          16,
          12,
          7,
          12,
          7,
          6,
          5,
          7,
          11,
          13,
          10,
          10,
          11,
          7,
          13,
          10,
          13,
          15,
          13,
          2,
          11,
          9,
          9,
          12,
          10,
          5,
          4,
          11,
          16,
          7,
          4,
          8,
          9,
          8,
          7,
          6,
          13,
          8,
          12,
          6,
          9,
          11,
          7,
          5,
          12,
          6,
          10,
          8,
          10,
          10,
          7,
          12,
          6,
          10,
          7,
          8,
          10,
          15,
          5,
          8,
          10,
          12,
          9,
          8,
          8,
          10,
          4,
          13,
          12,
          9,
          7,
          9,
          6,
          14,
          7,
          9,
          10,
          6,
          6,
          12,
          9,
          11,
          10,
          8,
          9,
          2,
          13,
          9,
          7,
          8,
          7,
          12,
          8,
          7,
          5,
          5,
          13,
          7,
          5,
          13,
          6,
          9,
          5,
          11,
          8,
          4,
          11,
          6,
          9,
          13,
          7,
          6,
          9,
          8,
          8,
          10,
          16,
          10,
          9,
          8,
          9,
          7,
          10,
          12,
          10,
          9,
          8,
          5,
          5,
          9,
          11,
          11,
          14,
          13,
          9,
          8,
          9,
          12,
          9,
          10,
          12,
          12,
          12,
          9,
          10,
          5,
          13,
          7,
          13,
          11,
          7,
          7,
          16,
          11,
          12,
          15,
          4,
          7,
          12,
          7,
          11,
          13,
          12,
          11,
          9,
          9,
          6,
          4,
          14,
          11,
          11,
          6,
          7,
          14,
          6,
          11,
          7,
          12,
          9,
          9,
          10,
          7,
          6,
          12,
          10,
          9,
          6,
          8,
          2,
          14,
          5,
          9,
          10,
          3,
          11,
          9,
          10,
          12,
          10,
          13,
          8,
          9,
          6,
          12,
          10,
          6,
          10,
          11,
          8,
          7,
          13,
          11,
          7,
          8,
          10,
          10,
          13,
          9,
          8,
          7,
          9,
          10,
          8,
          8,
          8,
          8,
          9,
          15,
          11,
          15,
          11,
          10,
          13,
          12,
          6,
          12,
          7,
          6,
          4,
          10,
          8,
          8,
          8,
          7,
          8,
          11,
          8,
          12,
          8,
          16,
          12,
          11,
          12,
          10,
          16,
          7,
          11,
          11,
          5,
          10,
          10,
          8,
          8,
          12,
          12,
          7,
          12,
          14,
          10,
          6,
          8,
          8,
          14,
          3,
          11,
          12,
          13,
          6,
          6,
          13,
          9,
          8,
          11,
          11,
          8,
          11,
          11,
          7,
          10,
          13,
          9,
          12,
          9,
          11,
          10,
          15,
          10,
          4,
          13,
          7,
          10,
          10,
          8,
          10,
          5,
          16,
          8,
          7,
          10,
          10,
          5,
          11,
          5,
          10,
          10,
          4,
          6,
          11,
          9,
          15,
          7,
          16,
          11,
          12,
          11,
          10,
          15,
          13,
          7,
          8,
          4,
          11,
          6,
          9,
          11,
          11,
          8,
          6,
          5,
          1,
          13,
          11,
          5,
          12,
          13,
          7,
          13,
          7,
          7,
          8,
          9,
          4,
          10,
          8,
          6,
          10,
          5,
          4
         ],
         "xaxis": "x",
         "y": [
          713109.95,
          790714.38,
          1197239.33,
          449185.78,
          1006373.16,
          1629562.41,
          771179.95,
          707837.61,
          888983.66,
          1098512.64,
          695548.78,
          556632.55,
          800123.32,
          1544423.2,
          1058543.63,
          783081.11,
          566156.05,
          1047680.24,
          836793.37,
          1072955.49,
          1125089.99,
          1424196.41,
          1376884.23,
          1240936.73,
          947515.95,
          1237763.98,
          1181642.63,
          782097.18,
          111926.48,
          489936.94,
          1164187.89,
          1418374.5,
          1325421.71,
          445704.4,
          958656.71,
          1207754.02,
          1258551.12,
          1051870.82,
          1116791.99,
          944040.44,
          878314.15,
          645734.68,
          1197770.02,
          619332.74,
          973809.28,
          1055849.89,
          743078.06,
          853682.38,
          1188462.86,
          1922245.53,
          854257.82,
          296714.92,
          1398126.07,
          1366079.54,
          615848.03,
          95680.54,
          588181.56,
          2263343.91,
          992946.81,
          990270.34,
          899158.38,
          969864.84,
          866778.96,
          1523849.47,
          842146.63,
          431140.66,
          1102025.65,
          837639.72,
          1539172.91,
          662659.12,
          873208.52,
          1191112.82,
          936929.11,
          653645.84,
          914998.87,
          931561.93,
          1489753.71,
          389151.32,
          734331.53,
          1195418.56,
          1077111.04,
          1098366.38,
          1578288.81,
          903521.24,
          1293348.75,
          559870.94,
          1378891.79,
          1124033.51,
          1239188.62,
          241891.6,
          226715.57,
          316147.85,
          983027.55,
          1081112.62,
          1351509.91,
          705494.09,
          1616152.72,
          121410.81,
          1379112.59,
          371592.27,
          1005847.92,
          909973.14,
          717966.54,
          1079558.76,
          348577.69,
          1419109.8,
          785108.04,
          2083352.96,
          705535.84,
          1102257.75,
          184770.26,
          1146243.42,
          1706382.47,
          1932443.78,
          1443795.53,
          1388175.16,
          1033935.28,
          1506130.56,
          971873.18,
          1231155.45,
          856263.52,
          789695.82,
          617845.52,
          997025.99,
          993329.43,
          1439742.37,
          1083390.19,
          763290.3,
          1132167.53,
          1404262.26,
          833741.24,
          833486.37,
          949003.35,
          1383614.28,
          603109.29,
          810709.96,
          735388.51,
          1574289.73,
          1589880.1,
          993467.4,
          863881.59,
          332979.68,
          831586.64,
          18421.22,
          823011.86,
          643092.4,
          958451.91,
          1841715.96,
          1114979.28,
          843237.64,
          853807.58,
          1267527.12,
          722272.13,
          580396.98,
          1153343.69,
          1243667.61,
          1655885.31,
          1563607.42,
          1404873.5,
          723535.75,
          1276078.67,
          810805.33,
          1555042.97,
          1142214.41,
          1272544.7,
          983440.97,
          103994.8,
          1236114.44,
          1565259.29,
          909928.51,
          1518495.54,
          1353384.97,
          1050126.53,
          1094043.53,
          1078181.16,
          1480465.17,
          267812.36,
          1754666.01,
          1070918.51,
          334835.36,
          1290549.96,
          1363863.52,
          834438.57,
          1301428.04,
          148061.36,
          850020.42,
          650241.43,
          494926.48,
          1057767.62,
          627273.65,
          665358.48,
          740201.08,
          991762.16,
          1230575.08,
          174738.56,
          1407737.12,
          1376121.85,
          763143.44,
          1009984.8,
          965508.49,
          1118393.81,
          1094810.2,
          1093585.71,
          1248640.73,
          1475870,
          564348.59,
          768322.67,
          1032819.03,
          816484.64,
          535199.75,
          743926.38,
          852074.86,
          1194723.4,
          849942.63,
          1330082.14,
          861194.33,
          312067.61,
          554967.95,
          608858.82,
          271560.28,
          1171807.82,
          1063111.93,
          726828.81,
          864076.14,
          1134311.38,
          1220385.54,
          988495.51,
          769054.24,
          1027960.98,
          1063262.79,
          910568.59,
          1716130.92,
          1230763.9,
          1014070.01,
          989109.67,
          531384.99,
          84497.94,
          1385339.46,
          1009392.87,
          787481.84,
          679053.92,
          1100001.65,
          2390677.22,
          977980.47,
          598717.71,
          1025701.64,
          788278.22,
          64711.22,
          1570819.07,
          1993908.63,
          785668.64,
          1258737.22,
          1320450.27,
          911615.28,
          533072.17,
          659624.71,
          1367765.95,
          1370699.52,
          757658.35,
          1286670.98,
          1650111.3,
          803823.34,
          1133686.14,
          1016606.48,
          1209830.96,
          768946.51,
          1236870.36,
          1373604.43,
          791201.94,
          470253.72,
          1244020.43,
          323593.53,
          839638.4,
          1460403.03,
          1255764.84,
          915799.22,
          1541762.74,
          429688.53,
          800004.44,
          1017325.17,
          60516.83,
          1207098.74,
          791704.75,
          1655693.05,
          1281521.01,
          1902144.56,
          853723.67,
          1344366.16,
          884940.1,
          625599.74,
          908289.25,
          1032183.53,
          2107306.42,
          481595.99,
          663326.41,
          1588245.25,
          921770.07,
          163682.26,
          1247176.41,
          1212901.4,
          851080.66,
          942883.08,
          1707923.52,
          1177227.98,
          499441.3,
          1395925.1,
          1456142.58,
          693629.48,
          1209549.81,
          1713025.38,
          1292741.18,
          911521.72,
          1094337.38,
          880090.72,
          1015654.17,
          1398871.6,
          1327130.38,
          1129203.5,
          941612.29,
          854382.67,
          1318621.28,
          1458066.67,
          1728544.72,
          1161568.8,
          780121.59,
          1298316.46,
          1337880.08,
          231562.65,
          823374.93,
          356229.62,
          1532181.14,
          1006625.13,
          1104801.34,
          722920.8,
          734238.96,
          805436.7,
          1647453.28,
          898610.61,
          626629.6,
          1794352.93,
          1043981.61,
          665572.04,
          932845.17,
          1569380.97,
          1216938.1,
          1093042.03,
          1348626.67,
          203045.12,
          602393.66,
          1010038.24,
          929711.04,
          1116387.07,
          1683711.93,
          626776.88,
          1219653.63,
          1314583.32,
          1535533.76,
          1936486.41,
          1382271.23,
          1238547.54,
          944765.54,
          1057982.09,
          1046845.34,
          333127.92,
          1189103.92,
          1003981.55,
          629572.6,
          753664.57,
          549149.57,
          1288325.43,
          928727.24,
          1843761.24,
          244825,
          656377.77,
          1574626.03,
          1439950.65,
          721463.53,
          1436673,
          841346.81,
          1485834.15,
          1459878,
          1349860.72,
          1952250.45,
          1027285.87,
          1053130.05,
          990690.47,
          1118793.07,
          1902367.98,
          981440.96,
          506672.67,
          1735063.39,
          686102.63,
          715243.69,
          1193834.4,
          1743573.32,
          1167501.7,
          989883.92,
          1058929.85,
          673865.11,
          591593.3,
          916748.4,
          1694996.88,
          550053.3,
          1195575.01,
          1867234.3,
          1077943.15,
          1228736.22,
          1003381.76,
          603305.03,
          1220941.7,
          545859.25,
          1124754.89,
          1167866.74,
          1362343.3,
          1103149.26,
          743480.47,
          434194.11,
          479869.9,
          1071831.13,
          593531.52,
          1492116.94,
          658580.22,
          869605.13,
          879688.87,
          725022.65,
          1316076.16,
          1056532.62,
          836973.51,
          79015.03,
          1780802.99,
          1328577.86,
          435489.53,
          844782.42,
          1298004.31,
          1662826.01,
          970959.21,
          869638.69,
          1009839.03,
          1021085.99,
          1239494.05,
          1536684.3,
          1068322.53,
          983540.2,
          880695.38,
          119950.58,
          1346978.95,
          1752009.96,
          1061121.78,
          1358513.26,
          254263.2,
          475032.23,
          1330014.86,
          1042344.43,
          429809.37,
          1198949.59,
          1024828.18,
          1878689.05,
          1635893.76,
          1147381.02,
          1155825.73,
          1295183.25,
          654953.48,
          1130027.72,
          25576.28,
          1227045.41,
          805517.39,
          1169132.47,
          1109076.58,
          695368.23,
          1355673.25,
          809933.42,
          1229181.97,
          1693342.51,
          618250.8,
          811781.56,
          745302.32,
          1052598.3,
          1103740.65,
          1810013.45,
          1334308.97,
          1425718.91,
          1662467.08,
          1681458.49,
          1509385.85,
          1533062.06,
          786224.94,
          445571.87,
          505124.91,
          2006688.81,
          416429.3,
          215580.61,
          1050776.57,
          785671.05,
          658330.45,
          1643153.26,
          1581841.42,
          1291309.57,
          2211489.85,
          1460860.46,
          173684.43
         ],
         "yaxis": "y"
        }
       ],
       "layout": {
        "coloraxis": {
         "colorbar": {
          "title": {
           "text": "cluster"
          }
         },
         "colorscale": [
          [
           0,
           "#0d0887"
          ],
          [
           0.1111111111111111,
           "#46039f"
          ],
          [
           0.2222222222222222,
           "#7201a8"
          ],
          [
           0.3333333333333333,
           "#9c179e"
          ],
          [
           0.4444444444444444,
           "#bd3786"
          ],
          [
           0.5555555555555556,
           "#d8576b"
          ],
          [
           0.6666666666666666,
           "#ed7953"
          ],
          [
           0.7777777777777778,
           "#fb9f3a"
          ],
          [
           0.8888888888888888,
           "#fdca26"
          ],
          [
           1,
           "#f0f921"
          ]
         ]
        },
        "legend": {
         "tracegroupgap": 0
        },
        "margin": {
         "t": 60
        },
        "template": {
         "data": {
          "bar": [
           {
            "error_x": {
             "color": "#2a3f5f"
            },
            "error_y": {
             "color": "#2a3f5f"
            },
            "marker": {
             "line": {
              "color": "#E5ECF6",
              "width": 0.5
             },
             "pattern": {
              "fillmode": "overlay",
              "size": 10,
              "solidity": 0.2
             }
            },
            "type": "bar"
           }
          ],
          "barpolar": [
           {
            "marker": {
             "line": {
              "color": "#E5ECF6",
              "width": 0.5
             },
             "pattern": {
              "fillmode": "overlay",
              "size": 10,
              "solidity": 0.2
             }
            },
            "type": "barpolar"
           }
          ],
          "carpet": [
           {
            "aaxis": {
             "endlinecolor": "#2a3f5f",
             "gridcolor": "white",
             "linecolor": "white",
             "minorgridcolor": "white",
             "startlinecolor": "#2a3f5f"
            },
            "baxis": {
             "endlinecolor": "#2a3f5f",
             "gridcolor": "white",
             "linecolor": "white",
             "minorgridcolor": "white",
             "startlinecolor": "#2a3f5f"
            },
            "type": "carpet"
           }
          ],
          "choropleth": [
           {
            "colorbar": {
             "outlinewidth": 0,
             "ticks": ""
            },
            "type": "choropleth"
           }
          ],
          "contour": [
           {
            "colorbar": {
             "outlinewidth": 0,
             "ticks": ""
            },
            "colorscale": [
             [
              0,
              "#0d0887"
             ],
             [
              0.1111111111111111,
              "#46039f"
             ],
             [
              0.2222222222222222,
              "#7201a8"
             ],
             [
              0.3333333333333333,
              "#9c179e"
             ],
             [
              0.4444444444444444,
              "#bd3786"
             ],
             [
              0.5555555555555556,
              "#d8576b"
             ],
             [
              0.6666666666666666,
              "#ed7953"
             ],
             [
              0.7777777777777778,
              "#fb9f3a"
             ],
             [
              0.8888888888888888,
              "#fdca26"
             ],
             [
              1,
              "#f0f921"
             ]
            ],
            "type": "contour"
           }
          ],
          "contourcarpet": [
           {
            "colorbar": {
             "outlinewidth": 0,
             "ticks": ""
            },
            "type": "contourcarpet"
           }
          ],
          "heatmap": [
           {
            "colorbar": {
             "outlinewidth": 0,
             "ticks": ""
            },
            "colorscale": [
             [
              0,
              "#0d0887"
             ],
             [
              0.1111111111111111,
              "#46039f"
             ],
             [
              0.2222222222222222,
              "#7201a8"
             ],
             [
              0.3333333333333333,
              "#9c179e"
             ],
             [
              0.4444444444444444,
              "#bd3786"
             ],
             [
              0.5555555555555556,
              "#d8576b"
             ],
             [
              0.6666666666666666,
              "#ed7953"
             ],
             [
              0.7777777777777778,
              "#fb9f3a"
             ],
             [
              0.8888888888888888,
              "#fdca26"
             ],
             [
              1,
              "#f0f921"
             ]
            ],
            "type": "heatmap"
           }
          ],
          "heatmapgl": [
           {
            "colorbar": {
             "outlinewidth": 0,
             "ticks": ""
            },
            "colorscale": [
             [
              0,
              "#0d0887"
             ],
             [
              0.1111111111111111,
              "#46039f"
             ],
             [
              0.2222222222222222,
              "#7201a8"
             ],
             [
              0.3333333333333333,
              "#9c179e"
             ],
             [
              0.4444444444444444,
              "#bd3786"
             ],
             [
              0.5555555555555556,
              "#d8576b"
             ],
             [
              0.6666666666666666,
              "#ed7953"
             ],
             [
              0.7777777777777778,
              "#fb9f3a"
             ],
             [
              0.8888888888888888,
              "#fdca26"
             ],
             [
              1,
              "#f0f921"
             ]
            ],
            "type": "heatmapgl"
           }
          ],
          "histogram": [
           {
            "marker": {
             "pattern": {
              "fillmode": "overlay",
              "size": 10,
              "solidity": 0.2
             }
            },
            "type": "histogram"
           }
          ],
          "histogram2d": [
           {
            "colorbar": {
             "outlinewidth": 0,
             "ticks": ""
            },
            "colorscale": [
             [
              0,
              "#0d0887"
             ],
             [
              0.1111111111111111,
              "#46039f"
             ],
             [
              0.2222222222222222,
              "#7201a8"
             ],
             [
              0.3333333333333333,
              "#9c179e"
             ],
             [
              0.4444444444444444,
              "#bd3786"
             ],
             [
              0.5555555555555556,
              "#d8576b"
             ],
             [
              0.6666666666666666,
              "#ed7953"
             ],
             [
              0.7777777777777778,
              "#fb9f3a"
             ],
             [
              0.8888888888888888,
              "#fdca26"
             ],
             [
              1,
              "#f0f921"
             ]
            ],
            "type": "histogram2d"
           }
          ],
          "histogram2dcontour": [
           {
            "colorbar": {
             "outlinewidth": 0,
             "ticks": ""
            },
            "colorscale": [
             [
              0,
              "#0d0887"
             ],
             [
              0.1111111111111111,
              "#46039f"
             ],
             [
              0.2222222222222222,
              "#7201a8"
             ],
             [
              0.3333333333333333,
              "#9c179e"
             ],
             [
              0.4444444444444444,
              "#bd3786"
             ],
             [
              0.5555555555555556,
              "#d8576b"
             ],
             [
              0.6666666666666666,
              "#ed7953"
             ],
             [
              0.7777777777777778,
              "#fb9f3a"
             ],
             [
              0.8888888888888888,
              "#fdca26"
             ],
             [
              1,
              "#f0f921"
             ]
            ],
            "type": "histogram2dcontour"
           }
          ],
          "mesh3d": [
           {
            "colorbar": {
             "outlinewidth": 0,
             "ticks": ""
            },
            "type": "mesh3d"
           }
          ],
          "parcoords": [
           {
            "line": {
             "colorbar": {
              "outlinewidth": 0,
              "ticks": ""
             }
            },
            "type": "parcoords"
           }
          ],
          "pie": [
           {
            "automargin": true,
            "type": "pie"
           }
          ],
          "scatter": [
           {
            "fillpattern": {
             "fillmode": "overlay",
             "size": 10,
             "solidity": 0.2
            },
            "type": "scatter"
           }
          ],
          "scatter3d": [
           {
            "line": {
             "colorbar": {
              "outlinewidth": 0,
              "ticks": ""
             }
            },
            "marker": {
             "colorbar": {
              "outlinewidth": 0,
              "ticks": ""
             }
            },
            "type": "scatter3d"
           }
          ],
          "scattercarpet": [
           {
            "marker": {
             "colorbar": {
              "outlinewidth": 0,
              "ticks": ""
             }
            },
            "type": "scattercarpet"
           }
          ],
          "scattergeo": [
           {
            "marker": {
             "colorbar": {
              "outlinewidth": 0,
              "ticks": ""
             }
            },
            "type": "scattergeo"
           }
          ],
          "scattergl": [
           {
            "marker": {
             "colorbar": {
              "outlinewidth": 0,
              "ticks": ""
             }
            },
            "type": "scattergl"
           }
          ],
          "scattermapbox": [
           {
            "marker": {
             "colorbar": {
              "outlinewidth": 0,
              "ticks": ""
             }
            },
            "type": "scattermapbox"
           }
          ],
          "scatterpolar": [
           {
            "marker": {
             "colorbar": {
              "outlinewidth": 0,
              "ticks": ""
             }
            },
            "type": "scatterpolar"
           }
          ],
          "scatterpolargl": [
           {
            "marker": {
             "colorbar": {
              "outlinewidth": 0,
              "ticks": ""
             }
            },
            "type": "scatterpolargl"
           }
          ],
          "scatterternary": [
           {
            "marker": {
             "colorbar": {
              "outlinewidth": 0,
              "ticks": ""
             }
            },
            "type": "scatterternary"
           }
          ],
          "surface": [
           {
            "colorbar": {
             "outlinewidth": 0,
             "ticks": ""
            },
            "colorscale": [
             [
              0,
              "#0d0887"
             ],
             [
              0.1111111111111111,
              "#46039f"
             ],
             [
              0.2222222222222222,
              "#7201a8"
             ],
             [
              0.3333333333333333,
              "#9c179e"
             ],
             [
              0.4444444444444444,
              "#bd3786"
             ],
             [
              0.5555555555555556,
              "#d8576b"
             ],
             [
              0.6666666666666666,
              "#ed7953"
             ],
             [
              0.7777777777777778,
              "#fb9f3a"
             ],
             [
              0.8888888888888888,
              "#fdca26"
             ],
             [
              1,
              "#f0f921"
             ]
            ],
            "type": "surface"
           }
          ],
          "table": [
           {
            "cells": {
             "fill": {
              "color": "#EBF0F8"
             },
             "line": {
              "color": "white"
             }
            },
            "header": {
             "fill": {
              "color": "#C8D4E3"
             },
             "line": {
              "color": "white"
             }
            },
            "type": "table"
           }
          ]
         },
         "layout": {
          "annotationdefaults": {
           "arrowcolor": "#2a3f5f",
           "arrowhead": 0,
           "arrowwidth": 1
          },
          "autotypenumbers": "strict",
          "coloraxis": {
           "colorbar": {
            "outlinewidth": 0,
            "ticks": ""
           }
          },
          "colorscale": {
           "diverging": [
            [
             0,
             "#8e0152"
            ],
            [
             0.1,
             "#c51b7d"
            ],
            [
             0.2,
             "#de77ae"
            ],
            [
             0.3,
             "#f1b6da"
            ],
            [
             0.4,
             "#fde0ef"
            ],
            [
             0.5,
             "#f7f7f7"
            ],
            [
             0.6,
             "#e6f5d0"
            ],
            [
             0.7,
             "#b8e186"
            ],
            [
             0.8,
             "#7fbc41"
            ],
            [
             0.9,
             "#4d9221"
            ],
            [
             1,
             "#276419"
            ]
           ],
           "sequential": [
            [
             0,
             "#0d0887"
            ],
            [
             0.1111111111111111,
             "#46039f"
            ],
            [
             0.2222222222222222,
             "#7201a8"
            ],
            [
             0.3333333333333333,
             "#9c179e"
            ],
            [
             0.4444444444444444,
             "#bd3786"
            ],
            [
             0.5555555555555556,
             "#d8576b"
            ],
            [
             0.6666666666666666,
             "#ed7953"
            ],
            [
             0.7777777777777778,
             "#fb9f3a"
            ],
            [
             0.8888888888888888,
             "#fdca26"
            ],
            [
             1,
             "#f0f921"
            ]
           ],
           "sequentialminus": [
            [
             0,
             "#0d0887"
            ],
            [
             0.1111111111111111,
             "#46039f"
            ],
            [
             0.2222222222222222,
             "#7201a8"
            ],
            [
             0.3333333333333333,
             "#9c179e"
            ],
            [
             0.4444444444444444,
             "#bd3786"
            ],
            [
             0.5555555555555556,
             "#d8576b"
            ],
            [
             0.6666666666666666,
             "#ed7953"
            ],
            [
             0.7777777777777778,
             "#fb9f3a"
            ],
            [
             0.8888888888888888,
             "#fdca26"
            ],
            [
             1,
             "#f0f921"
            ]
           ]
          },
          "colorway": [
           "#636efa",
           "#EF553B",
           "#00cc96",
           "#ab63fa",
           "#FFA15A",
           "#19d3f3",
           "#FF6692",
           "#B6E880",
           "#FF97FF",
           "#FECB52"
          ],
          "font": {
           "color": "#2a3f5f"
          },
          "geo": {
           "bgcolor": "white",
           "lakecolor": "white",
           "landcolor": "#E5ECF6",
           "showlakes": true,
           "showland": true,
           "subunitcolor": "white"
          },
          "hoverlabel": {
           "align": "left"
          },
          "hovermode": "closest",
          "mapbox": {
           "style": "light"
          },
          "paper_bgcolor": "white",
          "plot_bgcolor": "#E5ECF6",
          "polar": {
           "angularaxis": {
            "gridcolor": "white",
            "linecolor": "white",
            "ticks": ""
           },
           "bgcolor": "#E5ECF6",
           "radialaxis": {
            "gridcolor": "white",
            "linecolor": "white",
            "ticks": ""
           }
          },
          "scene": {
           "xaxis": {
            "backgroundcolor": "#E5ECF6",
            "gridcolor": "white",
            "gridwidth": 2,
            "linecolor": "white",
            "showbackground": true,
            "ticks": "",
            "zerolinecolor": "white"
           },
           "yaxis": {
            "backgroundcolor": "#E5ECF6",
            "gridcolor": "white",
            "gridwidth": 2,
            "linecolor": "white",
            "showbackground": true,
            "ticks": "",
            "zerolinecolor": "white"
           },
           "zaxis": {
            "backgroundcolor": "#E5ECF6",
            "gridcolor": "white",
            "gridwidth": 2,
            "linecolor": "white",
            "showbackground": true,
            "ticks": "",
            "zerolinecolor": "white"
           }
          },
          "shapedefaults": {
           "line": {
            "color": "#2a3f5f"
           }
          },
          "ternary": {
           "aaxis": {
            "gridcolor": "white",
            "linecolor": "white",
            "ticks": ""
           },
           "baxis": {
            "gridcolor": "white",
            "linecolor": "white",
            "ticks": ""
           },
           "bgcolor": "#E5ECF6",
           "caxis": {
            "gridcolor": "white",
            "linecolor": "white",
            "ticks": ""
           }
          },
          "title": {
           "x": 0.05
          },
          "xaxis": {
           "automargin": true,
           "gridcolor": "white",
           "linecolor": "white",
           "ticks": "",
           "title": {
            "standoff": 15
           },
           "zerolinecolor": "white",
           "zerolinewidth": 2
          },
          "yaxis": {
           "automargin": true,
           "gridcolor": "white",
           "linecolor": "white",
           "ticks": "",
           "title": {
            "standoff": 15
           },
           "zerolinecolor": "white",
           "zerolinewidth": 2
          }
         }
        },
        "xaxis": {
         "anchor": "y",
         "domain": [
          0,
          1
         ],
         "title": {
          "text": "idade"
         }
        },
        "yaxis": {
         "anchor": "x",
         "domain": [
          0,
          1
         ],
         "title": {
          "text": "faturamento_mensal"
         }
        }
       }
      }
     },
     "metadata": {},
     "output_type": "display_data"
    }
   ],
   "source": [
    "# Visualizar Resultados\n",
    "# Cruzar Idade e Faruramento, apresentando os clusters\n",
    "px.scatter(df_clientes, x='idade', y='faturamento_mensal', color='cluster')"
   ]
  },
  {
   "cell_type": "code",
   "execution_count": 15,
   "metadata": {},
   "outputs": [
    {
     "data": {
      "application/vnd.plotly.v1+json": {
       "config": {
        "plotlyServerURL": "https://plot.ly"
       },
       "data": [
        {
         "hovertemplate": "inovacao=%{x}<br>faturamento_mensal=%{y}<br>cluster=%{marker.color}<extra></extra>",
         "legendgroup": "",
         "marker": {
          "color": [
           0,
           0,
           1,
           0,
           1,
           2,
           0,
           2,
           0,
           2,
           2,
           2,
           2,
           2,
           1,
           1,
           1,
           0,
           1,
           2,
           0,
           0,
           2,
           2,
           0,
           0,
           1,
           1,
           0,
           0,
           0,
           1,
           2,
           1,
           2,
           2,
           2,
           2,
           1,
           1,
           1,
           2,
           2,
           2,
           0,
           1,
           2,
           0,
           1,
           1,
           2,
           0,
           0,
           2,
           0,
           0,
           0,
           0,
           2,
           1,
           1,
           2,
           0,
           1,
           1,
           2,
           2,
           0,
           0,
           0,
           2,
           0,
           0,
           1,
           2,
           0,
           0,
           2,
           2,
           1,
           1,
           0,
           0,
           1,
           2,
           1,
           1,
           0,
           0,
           2,
           0,
           2,
           2,
           0,
           0,
           1,
           1,
           1,
           1,
           2,
           0,
           0,
           2,
           2,
           0,
           2,
           1,
           2,
           2,
           1,
           1,
           1,
           1,
           1,
           0,
           0,
           1,
           0,
           2,
           2,
           0,
           0,
           2,
           2,
           1,
           0,
           1,
           2,
           2,
           1,
           1,
           0,
           0,
           2,
           0,
           0,
           1,
           1,
           0,
           2,
           1,
           0,
           0,
           0,
           1,
           0,
           1,
           0,
           1,
           1,
           0,
           2,
           2,
           1,
           0,
           1,
           1,
           1,
           0,
           0,
           2,
           1,
           1,
           2,
           2,
           2,
           0,
           0,
           1,
           1,
           1,
           1,
           0,
           2,
           1,
           0,
           1,
           1,
           1,
           1,
           0,
           2,
           1,
           1,
           2,
           2,
           1,
           0,
           1,
           1,
           1,
           0,
           2,
           1,
           0,
           1,
           0,
           0,
           2,
           2,
           2,
           1,
           1,
           0,
           0,
           1,
           2,
           0,
           2,
           0,
           0,
           0,
           0,
           0,
           0,
           2,
           2,
           1,
           0,
           0,
           1,
           2,
           2,
           2,
           1,
           1,
           0,
           1,
           0,
           2,
           0,
           2,
           1,
           1,
           0,
           1,
           2,
           2,
           1,
           2,
           1,
           2,
           0,
           0,
           0,
           1,
           2,
           1,
           1,
           1,
           1,
           0,
           0,
           0,
           1,
           2,
           1,
           1,
           1,
           0,
           2,
           1,
           0,
           1,
           0,
           2,
           1,
           1,
           0,
           2,
           1,
           2,
           0,
           1,
           1,
           2,
           2,
           1,
           2,
           2,
           2,
           1,
           0,
           0,
           1,
           1,
           1,
           1,
           2,
           0,
           0,
           1,
           0,
           2,
           1,
           0,
           1,
           2,
           1,
           0,
           2,
           1,
           1,
           0,
           0,
           1,
           1,
           2,
           2,
           0,
           0,
           2,
           0,
           0,
           0,
           0,
           1,
           2,
           1,
           0,
           0,
           2,
           0,
           1,
           1,
           1,
           1,
           2,
           0,
           1,
           1,
           0,
           2,
           1,
           2,
           2,
           0,
           0,
           1,
           1,
           1,
           2,
           1,
           0,
           0,
           1,
           0,
           1,
           2,
           1,
           2,
           0,
           1,
           1,
           2,
           1,
           2,
           2,
           1,
           2,
           1,
           0,
           1,
           1,
           2,
           0,
           0,
           0,
           1,
           2,
           0,
           0,
           2,
           2,
           1,
           1,
           2,
           2,
           0,
           1,
           2,
           1,
           0,
           1,
           1,
           2,
           0,
           1,
           1,
           1,
           1,
           2,
           0,
           2,
           1,
           1,
           0,
           1,
           1,
           2,
           0,
           2,
           1,
           0,
           2,
           1,
           1,
           2,
           0,
           0,
           0,
           1,
           2,
           1,
           2,
           2,
           2,
           2,
           1,
           2,
           1,
           2,
           2,
           2,
           0,
           2,
           2,
           2,
           0,
           1,
           2,
           0,
           0,
           0,
           1,
           2,
           1,
           1,
           0,
           1,
           2,
           1,
           1,
           1,
           2,
           0,
           0,
           2,
           1,
           2,
           0,
           2,
           0,
           2,
           0,
           2,
           1,
           1,
           2,
           1,
           2,
           1,
           2,
           0,
           0,
           0,
           2,
           1,
           0,
           2,
           0,
           0,
           1,
           1,
           2,
           2,
           2,
           1,
           0,
           0,
           2,
           1,
           1,
           0,
           1,
           0,
           0,
           2,
           2,
           0,
           2,
           0,
           0,
           1,
           0,
           0,
           1,
           0,
           2,
           1
          ],
          "coloraxis": "coloraxis",
          "symbol": "circle"
         },
         "mode": "markers",
         "name": "",
         "orientation": "v",
         "showlegend": false,
         "type": "scatter",
         "x": [
          1,
          0,
          9,
          0,
          8,
          4,
          1,
          6,
          1,
          3,
          4,
          4,
          6,
          3,
          8,
          7,
          8,
          0,
          7,
          5,
          2,
          2,
          4,
          5,
          2,
          1,
          7,
          6,
          2,
          1,
          2,
          9,
          5,
          6,
          5,
          3,
          5,
          6,
          8,
          7,
          6,
          3,
          3,
          4,
          1,
          9,
          3,
          0,
          8,
          7,
          6,
          1,
          2,
          3,
          0,
          0,
          2,
          1,
          5,
          9,
          9,
          4,
          1,
          7,
          8,
          3,
          5,
          2,
          0,
          1,
          5,
          1,
          1,
          7,
          5,
          2,
          2,
          3,
          5,
          8,
          7,
          2,
          2,
          7,
          3,
          9,
          6,
          1,
          0,
          6,
          0,
          3,
          4,
          1,
          2,
          8,
          7,
          6,
          9,
          4,
          1,
          1,
          4,
          5,
          0,
          3,
          8,
          3,
          5,
          9,
          8,
          7,
          7,
          7,
          0,
          2,
          8,
          0,
          4,
          3,
          0,
          2,
          5,
          4,
          9,
          2,
          9,
          4,
          4,
          9,
          6,
          0,
          1,
          3,
          2,
          2,
          9,
          6,
          0,
          4,
          7,
          0,
          1,
          2,
          9,
          2,
          7,
          0,
          6,
          6,
          2,
          3,
          5,
          7,
          2,
          6,
          7,
          7,
          2,
          2,
          4,
          9,
          8,
          6,
          3,
          5,
          1,
          1,
          9,
          7,
          9,
          6,
          2,
          4,
          6,
          0,
          9,
          9,
          8,
          7,
          0,
          4,
          7,
          9,
          6,
          5,
          8,
          1,
          9,
          8,
          9,
          0,
          3,
          8,
          1,
          8,
          1,
          0,
          4,
          4,
          3,
          8,
          7,
          1,
          0,
          7,
          4,
          1,
          5,
          0,
          0,
          2,
          1,
          0,
          2,
          4,
          3,
          9,
          1,
          0,
          9,
          5,
          6,
          6,
          7,
          8,
          2,
          8,
          0,
          3,
          0,
          3,
          7,
          6,
          2,
          7,
          5,
          4,
          8,
          4,
          7,
          3,
          1,
          2,
          2,
          9,
          3,
          6,
          8,
          6,
          9,
          0,
          0,
          1,
          6,
          5,
          7,
          6,
          7,
          0,
          5,
          9,
          2,
          8,
          2,
          4,
          9,
          7,
          0,
          3,
          7,
          6,
          0,
          8,
          6,
          5,
          4,
          7,
          5,
          6,
          4,
          9,
          2,
          0,
          7,
          7,
          8,
          8,
          4,
          2,
          1,
          8,
          1,
          3,
          9,
          0,
          6,
          4,
          8,
          1,
          5,
          8,
          6,
          1,
          1,
          8,
          8,
          3,
          5,
          2,
          0,
          3,
          1,
          1,
          2,
          0,
          7,
          3,
          9,
          1,
          2,
          6,
          2,
          7,
          7,
          6,
          9,
          6,
          1,
          9,
          6,
          1,
          3,
          8,
          3,
          4,
          2,
          0,
          9,
          9,
          9,
          4,
          6,
          1,
          2,
          7,
          0,
          6,
          3,
          8,
          5,
          0,
          6,
          7,
          5,
          6,
          3,
          5,
          7,
          3,
          7,
          0,
          8,
          8,
          5,
          2,
          1,
          0,
          8,
          4,
          2,
          1,
          4,
          4,
          9,
          7,
          5,
          3,
          2,
          6,
          5,
          9,
          0,
          8,
          9,
          3,
          2,
          7,
          8,
          8,
          6,
          3,
          1,
          5,
          6,
          7,
          1,
          8,
          7,
          6,
          2,
          4,
          9,
          1,
          4,
          9,
          8,
          3,
          1,
          1,
          2,
          6,
          5,
          7,
          6,
          4,
          6,
          3,
          9,
          3,
          7,
          3,
          4,
          3,
          1,
          3,
          5,
          6,
          2,
          7,
          3,
          0,
          1,
          2,
          9,
          5,
          6,
          6,
          1,
          6,
          5,
          9,
          6,
          9,
          4,
          2,
          0,
          4,
          8,
          5,
          1,
          5,
          1,
          6,
          1,
          4,
          7,
          6,
          4,
          7,
          6,
          7,
          5,
          2,
          0,
          1,
          3,
          8,
          2,
          5,
          0,
          0,
          7,
          8,
          4,
          3,
          4,
          8,
          0,
          2,
          5,
          7,
          8,
          0,
          9,
          2,
          1,
          5,
          5,
          1,
          3,
          0,
          2,
          8,
          1,
          2,
          9,
          0,
          3,
          9
         ],
         "xaxis": "x",
         "y": [
          713109.95,
          790714.38,
          1197239.33,
          449185.78,
          1006373.16,
          1629562.41,
          771179.95,
          707837.61,
          888983.66,
          1098512.64,
          695548.78,
          556632.55,
          800123.32,
          1544423.2,
          1058543.63,
          783081.11,
          566156.05,
          1047680.24,
          836793.37,
          1072955.49,
          1125089.99,
          1424196.41,
          1376884.23,
          1240936.73,
          947515.95,
          1237763.98,
          1181642.63,
          782097.18,
          111926.48,
          489936.94,
          1164187.89,
          1418374.5,
          1325421.71,
          445704.4,
          958656.71,
          1207754.02,
          1258551.12,
          1051870.82,
          1116791.99,
          944040.44,
          878314.15,
          645734.68,
          1197770.02,
          619332.74,
          973809.28,
          1055849.89,
          743078.06,
          853682.38,
          1188462.86,
          1922245.53,
          854257.82,
          296714.92,
          1398126.07,
          1366079.54,
          615848.03,
          95680.54,
          588181.56,
          2263343.91,
          992946.81,
          990270.34,
          899158.38,
          969864.84,
          866778.96,
          1523849.47,
          842146.63,
          431140.66,
          1102025.65,
          837639.72,
          1539172.91,
          662659.12,
          873208.52,
          1191112.82,
          936929.11,
          653645.84,
          914998.87,
          931561.93,
          1489753.71,
          389151.32,
          734331.53,
          1195418.56,
          1077111.04,
          1098366.38,
          1578288.81,
          903521.24,
          1293348.75,
          559870.94,
          1378891.79,
          1124033.51,
          1239188.62,
          241891.6,
          226715.57,
          316147.85,
          983027.55,
          1081112.62,
          1351509.91,
          705494.09,
          1616152.72,
          121410.81,
          1379112.59,
          371592.27,
          1005847.92,
          909973.14,
          717966.54,
          1079558.76,
          348577.69,
          1419109.8,
          785108.04,
          2083352.96,
          705535.84,
          1102257.75,
          184770.26,
          1146243.42,
          1706382.47,
          1932443.78,
          1443795.53,
          1388175.16,
          1033935.28,
          1506130.56,
          971873.18,
          1231155.45,
          856263.52,
          789695.82,
          617845.52,
          997025.99,
          993329.43,
          1439742.37,
          1083390.19,
          763290.3,
          1132167.53,
          1404262.26,
          833741.24,
          833486.37,
          949003.35,
          1383614.28,
          603109.29,
          810709.96,
          735388.51,
          1574289.73,
          1589880.1,
          993467.4,
          863881.59,
          332979.68,
          831586.64,
          18421.22,
          823011.86,
          643092.4,
          958451.91,
          1841715.96,
          1114979.28,
          843237.64,
          853807.58,
          1267527.12,
          722272.13,
          580396.98,
          1153343.69,
          1243667.61,
          1655885.31,
          1563607.42,
          1404873.5,
          723535.75,
          1276078.67,
          810805.33,
          1555042.97,
          1142214.41,
          1272544.7,
          983440.97,
          103994.8,
          1236114.44,
          1565259.29,
          909928.51,
          1518495.54,
          1353384.97,
          1050126.53,
          1094043.53,
          1078181.16,
          1480465.17,
          267812.36,
          1754666.01,
          1070918.51,
          334835.36,
          1290549.96,
          1363863.52,
          834438.57,
          1301428.04,
          148061.36,
          850020.42,
          650241.43,
          494926.48,
          1057767.62,
          627273.65,
          665358.48,
          740201.08,
          991762.16,
          1230575.08,
          174738.56,
          1407737.12,
          1376121.85,
          763143.44,
          1009984.8,
          965508.49,
          1118393.81,
          1094810.2,
          1093585.71,
          1248640.73,
          1475870,
          564348.59,
          768322.67,
          1032819.03,
          816484.64,
          535199.75,
          743926.38,
          852074.86,
          1194723.4,
          849942.63,
          1330082.14,
          861194.33,
          312067.61,
          554967.95,
          608858.82,
          271560.28,
          1171807.82,
          1063111.93,
          726828.81,
          864076.14,
          1134311.38,
          1220385.54,
          988495.51,
          769054.24,
          1027960.98,
          1063262.79,
          910568.59,
          1716130.92,
          1230763.9,
          1014070.01,
          989109.67,
          531384.99,
          84497.94,
          1385339.46,
          1009392.87,
          787481.84,
          679053.92,
          1100001.65,
          2390677.22,
          977980.47,
          598717.71,
          1025701.64,
          788278.22,
          64711.22,
          1570819.07,
          1993908.63,
          785668.64,
          1258737.22,
          1320450.27,
          911615.28,
          533072.17,
          659624.71,
          1367765.95,
          1370699.52,
          757658.35,
          1286670.98,
          1650111.3,
          803823.34,
          1133686.14,
          1016606.48,
          1209830.96,
          768946.51,
          1236870.36,
          1373604.43,
          791201.94,
          470253.72,
          1244020.43,
          323593.53,
          839638.4,
          1460403.03,
          1255764.84,
          915799.22,
          1541762.74,
          429688.53,
          800004.44,
          1017325.17,
          60516.83,
          1207098.74,
          791704.75,
          1655693.05,
          1281521.01,
          1902144.56,
          853723.67,
          1344366.16,
          884940.1,
          625599.74,
          908289.25,
          1032183.53,
          2107306.42,
          481595.99,
          663326.41,
          1588245.25,
          921770.07,
          163682.26,
          1247176.41,
          1212901.4,
          851080.66,
          942883.08,
          1707923.52,
          1177227.98,
          499441.3,
          1395925.1,
          1456142.58,
          693629.48,
          1209549.81,
          1713025.38,
          1292741.18,
          911521.72,
          1094337.38,
          880090.72,
          1015654.17,
          1398871.6,
          1327130.38,
          1129203.5,
          941612.29,
          854382.67,
          1318621.28,
          1458066.67,
          1728544.72,
          1161568.8,
          780121.59,
          1298316.46,
          1337880.08,
          231562.65,
          823374.93,
          356229.62,
          1532181.14,
          1006625.13,
          1104801.34,
          722920.8,
          734238.96,
          805436.7,
          1647453.28,
          898610.61,
          626629.6,
          1794352.93,
          1043981.61,
          665572.04,
          932845.17,
          1569380.97,
          1216938.1,
          1093042.03,
          1348626.67,
          203045.12,
          602393.66,
          1010038.24,
          929711.04,
          1116387.07,
          1683711.93,
          626776.88,
          1219653.63,
          1314583.32,
          1535533.76,
          1936486.41,
          1382271.23,
          1238547.54,
          944765.54,
          1057982.09,
          1046845.34,
          333127.92,
          1189103.92,
          1003981.55,
          629572.6,
          753664.57,
          549149.57,
          1288325.43,
          928727.24,
          1843761.24,
          244825,
          656377.77,
          1574626.03,
          1439950.65,
          721463.53,
          1436673,
          841346.81,
          1485834.15,
          1459878,
          1349860.72,
          1952250.45,
          1027285.87,
          1053130.05,
          990690.47,
          1118793.07,
          1902367.98,
          981440.96,
          506672.67,
          1735063.39,
          686102.63,
          715243.69,
          1193834.4,
          1743573.32,
          1167501.7,
          989883.92,
          1058929.85,
          673865.11,
          591593.3,
          916748.4,
          1694996.88,
          550053.3,
          1195575.01,
          1867234.3,
          1077943.15,
          1228736.22,
          1003381.76,
          603305.03,
          1220941.7,
          545859.25,
          1124754.89,
          1167866.74,
          1362343.3,
          1103149.26,
          743480.47,
          434194.11,
          479869.9,
          1071831.13,
          593531.52,
          1492116.94,
          658580.22,
          869605.13,
          879688.87,
          725022.65,
          1316076.16,
          1056532.62,
          836973.51,
          79015.03,
          1780802.99,
          1328577.86,
          435489.53,
          844782.42,
          1298004.31,
          1662826.01,
          970959.21,
          869638.69,
          1009839.03,
          1021085.99,
          1239494.05,
          1536684.3,
          1068322.53,
          983540.2,
          880695.38,
          119950.58,
          1346978.95,
          1752009.96,
          1061121.78,
          1358513.26,
          254263.2,
          475032.23,
          1330014.86,
          1042344.43,
          429809.37,
          1198949.59,
          1024828.18,
          1878689.05,
          1635893.76,
          1147381.02,
          1155825.73,
          1295183.25,
          654953.48,
          1130027.72,
          25576.28,
          1227045.41,
          805517.39,
          1169132.47,
          1109076.58,
          695368.23,
          1355673.25,
          809933.42,
          1229181.97,
          1693342.51,
          618250.8,
          811781.56,
          745302.32,
          1052598.3,
          1103740.65,
          1810013.45,
          1334308.97,
          1425718.91,
          1662467.08,
          1681458.49,
          1509385.85,
          1533062.06,
          786224.94,
          445571.87,
          505124.91,
          2006688.81,
          416429.3,
          215580.61,
          1050776.57,
          785671.05,
          658330.45,
          1643153.26,
          1581841.42,
          1291309.57,
          2211489.85,
          1460860.46,
          173684.43
         ],
         "yaxis": "y"
        }
       ],
       "layout": {
        "coloraxis": {
         "colorbar": {
          "title": {
           "text": "cluster"
          }
         },
         "colorscale": [
          [
           0,
           "#0d0887"
          ],
          [
           0.1111111111111111,
           "#46039f"
          ],
          [
           0.2222222222222222,
           "#7201a8"
          ],
          [
           0.3333333333333333,
           "#9c179e"
          ],
          [
           0.4444444444444444,
           "#bd3786"
          ],
          [
           0.5555555555555556,
           "#d8576b"
          ],
          [
           0.6666666666666666,
           "#ed7953"
          ],
          [
           0.7777777777777778,
           "#fb9f3a"
          ],
          [
           0.8888888888888888,
           "#fdca26"
          ],
          [
           1,
           "#f0f921"
          ]
         ]
        },
        "legend": {
         "tracegroupgap": 0
        },
        "margin": {
         "t": 60
        },
        "template": {
         "data": {
          "bar": [
           {
            "error_x": {
             "color": "#2a3f5f"
            },
            "error_y": {
             "color": "#2a3f5f"
            },
            "marker": {
             "line": {
              "color": "#E5ECF6",
              "width": 0.5
             },
             "pattern": {
              "fillmode": "overlay",
              "size": 10,
              "solidity": 0.2
             }
            },
            "type": "bar"
           }
          ],
          "barpolar": [
           {
            "marker": {
             "line": {
              "color": "#E5ECF6",
              "width": 0.5
             },
             "pattern": {
              "fillmode": "overlay",
              "size": 10,
              "solidity": 0.2
             }
            },
            "type": "barpolar"
           }
          ],
          "carpet": [
           {
            "aaxis": {
             "endlinecolor": "#2a3f5f",
             "gridcolor": "white",
             "linecolor": "white",
             "minorgridcolor": "white",
             "startlinecolor": "#2a3f5f"
            },
            "baxis": {
             "endlinecolor": "#2a3f5f",
             "gridcolor": "white",
             "linecolor": "white",
             "minorgridcolor": "white",
             "startlinecolor": "#2a3f5f"
            },
            "type": "carpet"
           }
          ],
          "choropleth": [
           {
            "colorbar": {
             "outlinewidth": 0,
             "ticks": ""
            },
            "type": "choropleth"
           }
          ],
          "contour": [
           {
            "colorbar": {
             "outlinewidth": 0,
             "ticks": ""
            },
            "colorscale": [
             [
              0,
              "#0d0887"
             ],
             [
              0.1111111111111111,
              "#46039f"
             ],
             [
              0.2222222222222222,
              "#7201a8"
             ],
             [
              0.3333333333333333,
              "#9c179e"
             ],
             [
              0.4444444444444444,
              "#bd3786"
             ],
             [
              0.5555555555555556,
              "#d8576b"
             ],
             [
              0.6666666666666666,
              "#ed7953"
             ],
             [
              0.7777777777777778,
              "#fb9f3a"
             ],
             [
              0.8888888888888888,
              "#fdca26"
             ],
             [
              1,
              "#f0f921"
             ]
            ],
            "type": "contour"
           }
          ],
          "contourcarpet": [
           {
            "colorbar": {
             "outlinewidth": 0,
             "ticks": ""
            },
            "type": "contourcarpet"
           }
          ],
          "heatmap": [
           {
            "colorbar": {
             "outlinewidth": 0,
             "ticks": ""
            },
            "colorscale": [
             [
              0,
              "#0d0887"
             ],
             [
              0.1111111111111111,
              "#46039f"
             ],
             [
              0.2222222222222222,
              "#7201a8"
             ],
             [
              0.3333333333333333,
              "#9c179e"
             ],
             [
              0.4444444444444444,
              "#bd3786"
             ],
             [
              0.5555555555555556,
              "#d8576b"
             ],
             [
              0.6666666666666666,
              "#ed7953"
             ],
             [
              0.7777777777777778,
              "#fb9f3a"
             ],
             [
              0.8888888888888888,
              "#fdca26"
             ],
             [
              1,
              "#f0f921"
             ]
            ],
            "type": "heatmap"
           }
          ],
          "heatmapgl": [
           {
            "colorbar": {
             "outlinewidth": 0,
             "ticks": ""
            },
            "colorscale": [
             [
              0,
              "#0d0887"
             ],
             [
              0.1111111111111111,
              "#46039f"
             ],
             [
              0.2222222222222222,
              "#7201a8"
             ],
             [
              0.3333333333333333,
              "#9c179e"
             ],
             [
              0.4444444444444444,
              "#bd3786"
             ],
             [
              0.5555555555555556,
              "#d8576b"
             ],
             [
              0.6666666666666666,
              "#ed7953"
             ],
             [
              0.7777777777777778,
              "#fb9f3a"
             ],
             [
              0.8888888888888888,
              "#fdca26"
             ],
             [
              1,
              "#f0f921"
             ]
            ],
            "type": "heatmapgl"
           }
          ],
          "histogram": [
           {
            "marker": {
             "pattern": {
              "fillmode": "overlay",
              "size": 10,
              "solidity": 0.2
             }
            },
            "type": "histogram"
           }
          ],
          "histogram2d": [
           {
            "colorbar": {
             "outlinewidth": 0,
             "ticks": ""
            },
            "colorscale": [
             [
              0,
              "#0d0887"
             ],
             [
              0.1111111111111111,
              "#46039f"
             ],
             [
              0.2222222222222222,
              "#7201a8"
             ],
             [
              0.3333333333333333,
              "#9c179e"
             ],
             [
              0.4444444444444444,
              "#bd3786"
             ],
             [
              0.5555555555555556,
              "#d8576b"
             ],
             [
              0.6666666666666666,
              "#ed7953"
             ],
             [
              0.7777777777777778,
              "#fb9f3a"
             ],
             [
              0.8888888888888888,
              "#fdca26"
             ],
             [
              1,
              "#f0f921"
             ]
            ],
            "type": "histogram2d"
           }
          ],
          "histogram2dcontour": [
           {
            "colorbar": {
             "outlinewidth": 0,
             "ticks": ""
            },
            "colorscale": [
             [
              0,
              "#0d0887"
             ],
             [
              0.1111111111111111,
              "#46039f"
             ],
             [
              0.2222222222222222,
              "#7201a8"
             ],
             [
              0.3333333333333333,
              "#9c179e"
             ],
             [
              0.4444444444444444,
              "#bd3786"
             ],
             [
              0.5555555555555556,
              "#d8576b"
             ],
             [
              0.6666666666666666,
              "#ed7953"
             ],
             [
              0.7777777777777778,
              "#fb9f3a"
             ],
             [
              0.8888888888888888,
              "#fdca26"
             ],
             [
              1,
              "#f0f921"
             ]
            ],
            "type": "histogram2dcontour"
           }
          ],
          "mesh3d": [
           {
            "colorbar": {
             "outlinewidth": 0,
             "ticks": ""
            },
            "type": "mesh3d"
           }
          ],
          "parcoords": [
           {
            "line": {
             "colorbar": {
              "outlinewidth": 0,
              "ticks": ""
             }
            },
            "type": "parcoords"
           }
          ],
          "pie": [
           {
            "automargin": true,
            "type": "pie"
           }
          ],
          "scatter": [
           {
            "fillpattern": {
             "fillmode": "overlay",
             "size": 10,
             "solidity": 0.2
            },
            "type": "scatter"
           }
          ],
          "scatter3d": [
           {
            "line": {
             "colorbar": {
              "outlinewidth": 0,
              "ticks": ""
             }
            },
            "marker": {
             "colorbar": {
              "outlinewidth": 0,
              "ticks": ""
             }
            },
            "type": "scatter3d"
           }
          ],
          "scattercarpet": [
           {
            "marker": {
             "colorbar": {
              "outlinewidth": 0,
              "ticks": ""
             }
            },
            "type": "scattercarpet"
           }
          ],
          "scattergeo": [
           {
            "marker": {
             "colorbar": {
              "outlinewidth": 0,
              "ticks": ""
             }
            },
            "type": "scattergeo"
           }
          ],
          "scattergl": [
           {
            "marker": {
             "colorbar": {
              "outlinewidth": 0,
              "ticks": ""
             }
            },
            "type": "scattergl"
           }
          ],
          "scattermapbox": [
           {
            "marker": {
             "colorbar": {
              "outlinewidth": 0,
              "ticks": ""
             }
            },
            "type": "scattermapbox"
           }
          ],
          "scatterpolar": [
           {
            "marker": {
             "colorbar": {
              "outlinewidth": 0,
              "ticks": ""
             }
            },
            "type": "scatterpolar"
           }
          ],
          "scatterpolargl": [
           {
            "marker": {
             "colorbar": {
              "outlinewidth": 0,
              "ticks": ""
             }
            },
            "type": "scatterpolargl"
           }
          ],
          "scatterternary": [
           {
            "marker": {
             "colorbar": {
              "outlinewidth": 0,
              "ticks": ""
             }
            },
            "type": "scatterternary"
           }
          ],
          "surface": [
           {
            "colorbar": {
             "outlinewidth": 0,
             "ticks": ""
            },
            "colorscale": [
             [
              0,
              "#0d0887"
             ],
             [
              0.1111111111111111,
              "#46039f"
             ],
             [
              0.2222222222222222,
              "#7201a8"
             ],
             [
              0.3333333333333333,
              "#9c179e"
             ],
             [
              0.4444444444444444,
              "#bd3786"
             ],
             [
              0.5555555555555556,
              "#d8576b"
             ],
             [
              0.6666666666666666,
              "#ed7953"
             ],
             [
              0.7777777777777778,
              "#fb9f3a"
             ],
             [
              0.8888888888888888,
              "#fdca26"
             ],
             [
              1,
              "#f0f921"
             ]
            ],
            "type": "surface"
           }
          ],
          "table": [
           {
            "cells": {
             "fill": {
              "color": "#EBF0F8"
             },
             "line": {
              "color": "white"
             }
            },
            "header": {
             "fill": {
              "color": "#C8D4E3"
             },
             "line": {
              "color": "white"
             }
            },
            "type": "table"
           }
          ]
         },
         "layout": {
          "annotationdefaults": {
           "arrowcolor": "#2a3f5f",
           "arrowhead": 0,
           "arrowwidth": 1
          },
          "autotypenumbers": "strict",
          "coloraxis": {
           "colorbar": {
            "outlinewidth": 0,
            "ticks": ""
           }
          },
          "colorscale": {
           "diverging": [
            [
             0,
             "#8e0152"
            ],
            [
             0.1,
             "#c51b7d"
            ],
            [
             0.2,
             "#de77ae"
            ],
            [
             0.3,
             "#f1b6da"
            ],
            [
             0.4,
             "#fde0ef"
            ],
            [
             0.5,
             "#f7f7f7"
            ],
            [
             0.6,
             "#e6f5d0"
            ],
            [
             0.7,
             "#b8e186"
            ],
            [
             0.8,
             "#7fbc41"
            ],
            [
             0.9,
             "#4d9221"
            ],
            [
             1,
             "#276419"
            ]
           ],
           "sequential": [
            [
             0,
             "#0d0887"
            ],
            [
             0.1111111111111111,
             "#46039f"
            ],
            [
             0.2222222222222222,
             "#7201a8"
            ],
            [
             0.3333333333333333,
             "#9c179e"
            ],
            [
             0.4444444444444444,
             "#bd3786"
            ],
            [
             0.5555555555555556,
             "#d8576b"
            ],
            [
             0.6666666666666666,
             "#ed7953"
            ],
            [
             0.7777777777777778,
             "#fb9f3a"
            ],
            [
             0.8888888888888888,
             "#fdca26"
            ],
            [
             1,
             "#f0f921"
            ]
           ],
           "sequentialminus": [
            [
             0,
             "#0d0887"
            ],
            [
             0.1111111111111111,
             "#46039f"
            ],
            [
             0.2222222222222222,
             "#7201a8"
            ],
            [
             0.3333333333333333,
             "#9c179e"
            ],
            [
             0.4444444444444444,
             "#bd3786"
            ],
            [
             0.5555555555555556,
             "#d8576b"
            ],
            [
             0.6666666666666666,
             "#ed7953"
            ],
            [
             0.7777777777777778,
             "#fb9f3a"
            ],
            [
             0.8888888888888888,
             "#fdca26"
            ],
            [
             1,
             "#f0f921"
            ]
           ]
          },
          "colorway": [
           "#636efa",
           "#EF553B",
           "#00cc96",
           "#ab63fa",
           "#FFA15A",
           "#19d3f3",
           "#FF6692",
           "#B6E880",
           "#FF97FF",
           "#FECB52"
          ],
          "font": {
           "color": "#2a3f5f"
          },
          "geo": {
           "bgcolor": "white",
           "lakecolor": "white",
           "landcolor": "#E5ECF6",
           "showlakes": true,
           "showland": true,
           "subunitcolor": "white"
          },
          "hoverlabel": {
           "align": "left"
          },
          "hovermode": "closest",
          "mapbox": {
           "style": "light"
          },
          "paper_bgcolor": "white",
          "plot_bgcolor": "#E5ECF6",
          "polar": {
           "angularaxis": {
            "gridcolor": "white",
            "linecolor": "white",
            "ticks": ""
           },
           "bgcolor": "#E5ECF6",
           "radialaxis": {
            "gridcolor": "white",
            "linecolor": "white",
            "ticks": ""
           }
          },
          "scene": {
           "xaxis": {
            "backgroundcolor": "#E5ECF6",
            "gridcolor": "white",
            "gridwidth": 2,
            "linecolor": "white",
            "showbackground": true,
            "ticks": "",
            "zerolinecolor": "white"
           },
           "yaxis": {
            "backgroundcolor": "#E5ECF6",
            "gridcolor": "white",
            "gridwidth": 2,
            "linecolor": "white",
            "showbackground": true,
            "ticks": "",
            "zerolinecolor": "white"
           },
           "zaxis": {
            "backgroundcolor": "#E5ECF6",
            "gridcolor": "white",
            "gridwidth": 2,
            "linecolor": "white",
            "showbackground": true,
            "ticks": "",
            "zerolinecolor": "white"
           }
          },
          "shapedefaults": {
           "line": {
            "color": "#2a3f5f"
           }
          },
          "ternary": {
           "aaxis": {
            "gridcolor": "white",
            "linecolor": "white",
            "ticks": ""
           },
           "baxis": {
            "gridcolor": "white",
            "linecolor": "white",
            "ticks": ""
           },
           "bgcolor": "#E5ECF6",
           "caxis": {
            "gridcolor": "white",
            "linecolor": "white",
            "ticks": ""
           }
          },
          "title": {
           "x": 0.05
          },
          "xaxis": {
           "automargin": true,
           "gridcolor": "white",
           "linecolor": "white",
           "ticks": "",
           "title": {
            "standoff": 15
           },
           "zerolinecolor": "white",
           "zerolinewidth": 2
          },
          "yaxis": {
           "automargin": true,
           "gridcolor": "white",
           "linecolor": "white",
           "ticks": "",
           "title": {
            "standoff": 15
           },
           "zerolinecolor": "white",
           "zerolinewidth": 2
          }
         }
        },
        "xaxis": {
         "anchor": "y",
         "domain": [
          0,
          1
         ],
         "title": {
          "text": "inovacao"
         }
        },
        "yaxis": {
         "anchor": "x",
         "domain": [
          0,
          1
         ],
         "title": {
          "text": "faturamento_mensal"
         }
        }
       }
      }
     },
     "metadata": {},
     "output_type": "display_data"
    }
   ],
   "source": [
    "# Cruzar Inovacao e Faruramento, apresentando os clusters\n",
    "px.scatter(df_clientes, x='inovacao', y='faturamento_mensal', color='cluster')"
   ]
  },
  {
   "cell_type": "code",
   "execution_count": 16,
   "metadata": {},
   "outputs": [
    {
     "data": {
      "application/vnd.plotly.v1+json": {
       "config": {
        "plotlyServerURL": "https://plot.ly"
       },
       "data": [
        {
         "hovertemplate": "numero_de_funcionarios=%{x}<br>faturamento_mensal=%{y}<br>cluster=%{marker.color}<extra></extra>",
         "legendgroup": "",
         "marker": {
          "color": [
           0,
           0,
           1,
           0,
           1,
           2,
           0,
           2,
           0,
           2,
           2,
           2,
           2,
           2,
           1,
           1,
           1,
           0,
           1,
           2,
           0,
           0,
           2,
           2,
           0,
           0,
           1,
           1,
           0,
           0,
           0,
           1,
           2,
           1,
           2,
           2,
           2,
           2,
           1,
           1,
           1,
           2,
           2,
           2,
           0,
           1,
           2,
           0,
           1,
           1,
           2,
           0,
           0,
           2,
           0,
           0,
           0,
           0,
           2,
           1,
           1,
           2,
           0,
           1,
           1,
           2,
           2,
           0,
           0,
           0,
           2,
           0,
           0,
           1,
           2,
           0,
           0,
           2,
           2,
           1,
           1,
           0,
           0,
           1,
           2,
           1,
           1,
           0,
           0,
           2,
           0,
           2,
           2,
           0,
           0,
           1,
           1,
           1,
           1,
           2,
           0,
           0,
           2,
           2,
           0,
           2,
           1,
           2,
           2,
           1,
           1,
           1,
           1,
           1,
           0,
           0,
           1,
           0,
           2,
           2,
           0,
           0,
           2,
           2,
           1,
           0,
           1,
           2,
           2,
           1,
           1,
           0,
           0,
           2,
           0,
           0,
           1,
           1,
           0,
           2,
           1,
           0,
           0,
           0,
           1,
           0,
           1,
           0,
           1,
           1,
           0,
           2,
           2,
           1,
           0,
           1,
           1,
           1,
           0,
           0,
           2,
           1,
           1,
           2,
           2,
           2,
           0,
           0,
           1,
           1,
           1,
           1,
           0,
           2,
           1,
           0,
           1,
           1,
           1,
           1,
           0,
           2,
           1,
           1,
           2,
           2,
           1,
           0,
           1,
           1,
           1,
           0,
           2,
           1,
           0,
           1,
           0,
           0,
           2,
           2,
           2,
           1,
           1,
           0,
           0,
           1,
           2,
           0,
           2,
           0,
           0,
           0,
           0,
           0,
           0,
           2,
           2,
           1,
           0,
           0,
           1,
           2,
           2,
           2,
           1,
           1,
           0,
           1,
           0,
           2,
           0,
           2,
           1,
           1,
           0,
           1,
           2,
           2,
           1,
           2,
           1,
           2,
           0,
           0,
           0,
           1,
           2,
           1,
           1,
           1,
           1,
           0,
           0,
           0,
           1,
           2,
           1,
           1,
           1,
           0,
           2,
           1,
           0,
           1,
           0,
           2,
           1,
           1,
           0,
           2,
           1,
           2,
           0,
           1,
           1,
           2,
           2,
           1,
           2,
           2,
           2,
           1,
           0,
           0,
           1,
           1,
           1,
           1,
           2,
           0,
           0,
           1,
           0,
           2,
           1,
           0,
           1,
           2,
           1,
           0,
           2,
           1,
           1,
           0,
           0,
           1,
           1,
           2,
           2,
           0,
           0,
           2,
           0,
           0,
           0,
           0,
           1,
           2,
           1,
           0,
           0,
           2,
           0,
           1,
           1,
           1,
           1,
           2,
           0,
           1,
           1,
           0,
           2,
           1,
           2,
           2,
           0,
           0,
           1,
           1,
           1,
           2,
           1,
           0,
           0,
           1,
           0,
           1,
           2,
           1,
           2,
           0,
           1,
           1,
           2,
           1,
           2,
           2,
           1,
           2,
           1,
           0,
           1,
           1,
           2,
           0,
           0,
           0,
           1,
           2,
           0,
           0,
           2,
           2,
           1,
           1,
           2,
           2,
           0,
           1,
           2,
           1,
           0,
           1,
           1,
           2,
           0,
           1,
           1,
           1,
           1,
           2,
           0,
           2,
           1,
           1,
           0,
           1,
           1,
           2,
           0,
           2,
           1,
           0,
           2,
           1,
           1,
           2,
           0,
           0,
           0,
           1,
           2,
           1,
           2,
           2,
           2,
           2,
           1,
           2,
           1,
           2,
           2,
           2,
           0,
           2,
           2,
           2,
           0,
           1,
           2,
           0,
           0,
           0,
           1,
           2,
           1,
           1,
           0,
           1,
           2,
           1,
           1,
           1,
           2,
           0,
           0,
           2,
           1,
           2,
           0,
           2,
           0,
           2,
           0,
           2,
           1,
           1,
           2,
           1,
           2,
           1,
           2,
           0,
           0,
           0,
           2,
           1,
           0,
           2,
           0,
           0,
           1,
           1,
           2,
           2,
           2,
           1,
           0,
           0,
           2,
           1,
           1,
           0,
           1,
           0,
           0,
           2,
           2,
           0,
           2,
           0,
           0,
           1,
           0,
           0,
           1,
           0,
           2,
           1
          ],
          "coloraxis": "coloraxis",
          "symbol": "circle"
         },
         "mode": "markers",
         "name": "",
         "orientation": "v",
         "showlegend": false,
         "type": "scatter",
         "x": [
          12,
          9,
          17,
          15,
          15,
          16,
          13,
          16,
          17,
          13,
          11,
          14,
          15,
          15,
          12,
          10,
          15,
          14,
          12,
          14,
          16,
          17,
          17,
          19,
          18,
          18,
          10,
          11,
          13,
          13,
          13,
          16,
          14,
          13,
          4,
          12,
          15,
          16,
          17,
          10,
          9,
          15,
          17,
          17,
          17,
          16,
          12,
          11,
          17,
          10,
          13,
          8,
          12,
          15,
          15,
          12,
          16,
          12,
          16,
          16,
          10,
          17,
          15,
          16,
          12,
          10,
          6,
          14,
          12,
          15,
          13,
          15,
          14,
          10,
          14,
          9,
          11,
          13,
          15,
          14,
          9,
          13,
          13,
          18,
          18,
          17,
          13,
          12,
          16,
          13,
          16,
          15,
          19,
          16,
          16,
          18,
          16,
          3,
          9,
          14,
          13,
          17,
          14,
          12,
          17,
          13,
          14,
          4,
          16,
          12,
          11,
          16,
          15,
          13,
          14,
          13,
          9,
          18,
          13,
          11,
          14,
          14,
          13,
          19,
          18,
          15,
          17,
          11,
          7,
          15,
          12,
          18,
          12,
          14,
          18,
          14,
          17,
          16,
          9,
          9,
          15,
          12,
          13,
          14,
          13,
          7,
          9,
          14,
          2,
          14,
          18,
          14,
          17,
          15,
          13,
          14,
          9,
          11,
          13,
          6,
          13,
          15,
          8,
          16,
          16,
          7,
          13,
          7,
          16,
          13,
          15,
          13,
          12,
          14,
          20,
          19,
          3,
          16,
          15,
          17,
          16,
          11,
          18,
          18,
          19,
          17,
          10,
          16,
          3,
          17,
          16,
          11,
          19,
          16,
          16,
          16,
          14,
          17,
          14,
          18,
          13,
          14,
          14,
          14,
          10,
          15,
          12,
          12,
          17,
          21,
          14,
          16,
          13,
          12,
          17,
          13,
          15,
          13,
          18,
          14,
          15,
          15,
          18,
          17,
          14,
          15,
          13,
          11,
          13,
          8,
          16,
          16,
          15,
          11,
          14,
          17,
          7,
          15,
          11,
          18,
          13,
          19,
          10,
          18,
          13,
          15,
          13,
          17,
          15,
          14,
          15,
          15,
          15,
          15,
          12,
          14,
          14,
          14,
          8,
          14,
          12,
          15,
          10,
          15,
          15,
          14,
          14,
          11,
          12,
          13,
          11,
          16,
          12,
          11,
          17,
          14,
          8,
          13,
          17,
          18,
          14,
          12,
          13,
          13,
          6,
          10,
          8,
          12,
          17,
          15,
          16,
          14,
          11,
          13,
          18,
          10,
          9,
          18,
          10,
          15,
          15,
          15,
          6,
          16,
          13,
          14,
          15,
          15,
          12,
          14,
          11,
          18,
          15,
          13,
          14,
          14,
          14,
          18,
          13,
          15,
          14,
          20,
          18,
          9,
          14,
          16,
          18,
          13,
          10,
          14,
          8,
          12,
          12,
          8,
          15,
          15,
          17,
          11,
          17,
          3,
          11,
          15,
          11,
          10,
          17,
          9,
          12,
          12,
          17,
          14,
          17,
          12,
          16,
          17,
          12,
          14,
          14,
          18,
          15,
          13,
          15,
          17,
          2,
          17,
          16,
          13,
          16,
          14,
          9,
          15,
          10,
          17,
          15,
          10,
          11,
          10,
          16,
          12,
          14,
          14,
          15,
          17,
          12,
          15,
          19,
          16,
          19,
          15,
          14,
          14,
          10,
          12,
          13,
          15,
          17,
          17,
          13,
          11,
          9,
          16,
          19,
          15,
          10,
          16,
          12,
          12,
          14,
          12,
          14,
          16,
          14,
          10,
          17,
          14,
          13,
          11,
          10,
          16,
          14,
          12,
          15,
          18,
          13,
          15,
          13,
          16,
          13,
          17,
          5,
          13,
          14,
          14,
          5,
          15,
          13,
          15,
          18,
          14,
          12,
          14,
          15,
          13,
          13,
          14,
          15,
          14,
          13,
          14,
          17,
          13,
          16,
          12,
          12,
          12,
          15,
          14,
          17,
          18,
          17,
          13,
          17,
          11,
          8,
          12,
          15,
          11,
          15,
          15,
          15,
          15,
          16,
          11,
          14,
          9,
          14,
          13,
          15,
          18,
          12,
          14,
          17,
          8,
          14,
          13,
          18,
          9,
          15,
          14,
          13,
          14,
          11,
          14,
          15,
          20,
          14,
          17,
          9,
          10,
          12,
          13
         ],
         "xaxis": "x",
         "y": [
          713109.95,
          790714.38,
          1197239.33,
          449185.78,
          1006373.16,
          1629562.41,
          771179.95,
          707837.61,
          888983.66,
          1098512.64,
          695548.78,
          556632.55,
          800123.32,
          1544423.2,
          1058543.63,
          783081.11,
          566156.05,
          1047680.24,
          836793.37,
          1072955.49,
          1125089.99,
          1424196.41,
          1376884.23,
          1240936.73,
          947515.95,
          1237763.98,
          1181642.63,
          782097.18,
          111926.48,
          489936.94,
          1164187.89,
          1418374.5,
          1325421.71,
          445704.4,
          958656.71,
          1207754.02,
          1258551.12,
          1051870.82,
          1116791.99,
          944040.44,
          878314.15,
          645734.68,
          1197770.02,
          619332.74,
          973809.28,
          1055849.89,
          743078.06,
          853682.38,
          1188462.86,
          1922245.53,
          854257.82,
          296714.92,
          1398126.07,
          1366079.54,
          615848.03,
          95680.54,
          588181.56,
          2263343.91,
          992946.81,
          990270.34,
          899158.38,
          969864.84,
          866778.96,
          1523849.47,
          842146.63,
          431140.66,
          1102025.65,
          837639.72,
          1539172.91,
          662659.12,
          873208.52,
          1191112.82,
          936929.11,
          653645.84,
          914998.87,
          931561.93,
          1489753.71,
          389151.32,
          734331.53,
          1195418.56,
          1077111.04,
          1098366.38,
          1578288.81,
          903521.24,
          1293348.75,
          559870.94,
          1378891.79,
          1124033.51,
          1239188.62,
          241891.6,
          226715.57,
          316147.85,
          983027.55,
          1081112.62,
          1351509.91,
          705494.09,
          1616152.72,
          121410.81,
          1379112.59,
          371592.27,
          1005847.92,
          909973.14,
          717966.54,
          1079558.76,
          348577.69,
          1419109.8,
          785108.04,
          2083352.96,
          705535.84,
          1102257.75,
          184770.26,
          1146243.42,
          1706382.47,
          1932443.78,
          1443795.53,
          1388175.16,
          1033935.28,
          1506130.56,
          971873.18,
          1231155.45,
          856263.52,
          789695.82,
          617845.52,
          997025.99,
          993329.43,
          1439742.37,
          1083390.19,
          763290.3,
          1132167.53,
          1404262.26,
          833741.24,
          833486.37,
          949003.35,
          1383614.28,
          603109.29,
          810709.96,
          735388.51,
          1574289.73,
          1589880.1,
          993467.4,
          863881.59,
          332979.68,
          831586.64,
          18421.22,
          823011.86,
          643092.4,
          958451.91,
          1841715.96,
          1114979.28,
          843237.64,
          853807.58,
          1267527.12,
          722272.13,
          580396.98,
          1153343.69,
          1243667.61,
          1655885.31,
          1563607.42,
          1404873.5,
          723535.75,
          1276078.67,
          810805.33,
          1555042.97,
          1142214.41,
          1272544.7,
          983440.97,
          103994.8,
          1236114.44,
          1565259.29,
          909928.51,
          1518495.54,
          1353384.97,
          1050126.53,
          1094043.53,
          1078181.16,
          1480465.17,
          267812.36,
          1754666.01,
          1070918.51,
          334835.36,
          1290549.96,
          1363863.52,
          834438.57,
          1301428.04,
          148061.36,
          850020.42,
          650241.43,
          494926.48,
          1057767.62,
          627273.65,
          665358.48,
          740201.08,
          991762.16,
          1230575.08,
          174738.56,
          1407737.12,
          1376121.85,
          763143.44,
          1009984.8,
          965508.49,
          1118393.81,
          1094810.2,
          1093585.71,
          1248640.73,
          1475870,
          564348.59,
          768322.67,
          1032819.03,
          816484.64,
          535199.75,
          743926.38,
          852074.86,
          1194723.4,
          849942.63,
          1330082.14,
          861194.33,
          312067.61,
          554967.95,
          608858.82,
          271560.28,
          1171807.82,
          1063111.93,
          726828.81,
          864076.14,
          1134311.38,
          1220385.54,
          988495.51,
          769054.24,
          1027960.98,
          1063262.79,
          910568.59,
          1716130.92,
          1230763.9,
          1014070.01,
          989109.67,
          531384.99,
          84497.94,
          1385339.46,
          1009392.87,
          787481.84,
          679053.92,
          1100001.65,
          2390677.22,
          977980.47,
          598717.71,
          1025701.64,
          788278.22,
          64711.22,
          1570819.07,
          1993908.63,
          785668.64,
          1258737.22,
          1320450.27,
          911615.28,
          533072.17,
          659624.71,
          1367765.95,
          1370699.52,
          757658.35,
          1286670.98,
          1650111.3,
          803823.34,
          1133686.14,
          1016606.48,
          1209830.96,
          768946.51,
          1236870.36,
          1373604.43,
          791201.94,
          470253.72,
          1244020.43,
          323593.53,
          839638.4,
          1460403.03,
          1255764.84,
          915799.22,
          1541762.74,
          429688.53,
          800004.44,
          1017325.17,
          60516.83,
          1207098.74,
          791704.75,
          1655693.05,
          1281521.01,
          1902144.56,
          853723.67,
          1344366.16,
          884940.1,
          625599.74,
          908289.25,
          1032183.53,
          2107306.42,
          481595.99,
          663326.41,
          1588245.25,
          921770.07,
          163682.26,
          1247176.41,
          1212901.4,
          851080.66,
          942883.08,
          1707923.52,
          1177227.98,
          499441.3,
          1395925.1,
          1456142.58,
          693629.48,
          1209549.81,
          1713025.38,
          1292741.18,
          911521.72,
          1094337.38,
          880090.72,
          1015654.17,
          1398871.6,
          1327130.38,
          1129203.5,
          941612.29,
          854382.67,
          1318621.28,
          1458066.67,
          1728544.72,
          1161568.8,
          780121.59,
          1298316.46,
          1337880.08,
          231562.65,
          823374.93,
          356229.62,
          1532181.14,
          1006625.13,
          1104801.34,
          722920.8,
          734238.96,
          805436.7,
          1647453.28,
          898610.61,
          626629.6,
          1794352.93,
          1043981.61,
          665572.04,
          932845.17,
          1569380.97,
          1216938.1,
          1093042.03,
          1348626.67,
          203045.12,
          602393.66,
          1010038.24,
          929711.04,
          1116387.07,
          1683711.93,
          626776.88,
          1219653.63,
          1314583.32,
          1535533.76,
          1936486.41,
          1382271.23,
          1238547.54,
          944765.54,
          1057982.09,
          1046845.34,
          333127.92,
          1189103.92,
          1003981.55,
          629572.6,
          753664.57,
          549149.57,
          1288325.43,
          928727.24,
          1843761.24,
          244825,
          656377.77,
          1574626.03,
          1439950.65,
          721463.53,
          1436673,
          841346.81,
          1485834.15,
          1459878,
          1349860.72,
          1952250.45,
          1027285.87,
          1053130.05,
          990690.47,
          1118793.07,
          1902367.98,
          981440.96,
          506672.67,
          1735063.39,
          686102.63,
          715243.69,
          1193834.4,
          1743573.32,
          1167501.7,
          989883.92,
          1058929.85,
          673865.11,
          591593.3,
          916748.4,
          1694996.88,
          550053.3,
          1195575.01,
          1867234.3,
          1077943.15,
          1228736.22,
          1003381.76,
          603305.03,
          1220941.7,
          545859.25,
          1124754.89,
          1167866.74,
          1362343.3,
          1103149.26,
          743480.47,
          434194.11,
          479869.9,
          1071831.13,
          593531.52,
          1492116.94,
          658580.22,
          869605.13,
          879688.87,
          725022.65,
          1316076.16,
          1056532.62,
          836973.51,
          79015.03,
          1780802.99,
          1328577.86,
          435489.53,
          844782.42,
          1298004.31,
          1662826.01,
          970959.21,
          869638.69,
          1009839.03,
          1021085.99,
          1239494.05,
          1536684.3,
          1068322.53,
          983540.2,
          880695.38,
          119950.58,
          1346978.95,
          1752009.96,
          1061121.78,
          1358513.26,
          254263.2,
          475032.23,
          1330014.86,
          1042344.43,
          429809.37,
          1198949.59,
          1024828.18,
          1878689.05,
          1635893.76,
          1147381.02,
          1155825.73,
          1295183.25,
          654953.48,
          1130027.72,
          25576.28,
          1227045.41,
          805517.39,
          1169132.47,
          1109076.58,
          695368.23,
          1355673.25,
          809933.42,
          1229181.97,
          1693342.51,
          618250.8,
          811781.56,
          745302.32,
          1052598.3,
          1103740.65,
          1810013.45,
          1334308.97,
          1425718.91,
          1662467.08,
          1681458.49,
          1509385.85,
          1533062.06,
          786224.94,
          445571.87,
          505124.91,
          2006688.81,
          416429.3,
          215580.61,
          1050776.57,
          785671.05,
          658330.45,
          1643153.26,
          1581841.42,
          1291309.57,
          2211489.85,
          1460860.46,
          173684.43
         ],
         "yaxis": "y"
        }
       ],
       "layout": {
        "coloraxis": {
         "colorbar": {
          "title": {
           "text": "cluster"
          }
         },
         "colorscale": [
          [
           0,
           "#0d0887"
          ],
          [
           0.1111111111111111,
           "#46039f"
          ],
          [
           0.2222222222222222,
           "#7201a8"
          ],
          [
           0.3333333333333333,
           "#9c179e"
          ],
          [
           0.4444444444444444,
           "#bd3786"
          ],
          [
           0.5555555555555556,
           "#d8576b"
          ],
          [
           0.6666666666666666,
           "#ed7953"
          ],
          [
           0.7777777777777778,
           "#fb9f3a"
          ],
          [
           0.8888888888888888,
           "#fdca26"
          ],
          [
           1,
           "#f0f921"
          ]
         ]
        },
        "legend": {
         "tracegroupgap": 0
        },
        "margin": {
         "t": 60
        },
        "template": {
         "data": {
          "bar": [
           {
            "error_x": {
             "color": "#2a3f5f"
            },
            "error_y": {
             "color": "#2a3f5f"
            },
            "marker": {
             "line": {
              "color": "#E5ECF6",
              "width": 0.5
             },
             "pattern": {
              "fillmode": "overlay",
              "size": 10,
              "solidity": 0.2
             }
            },
            "type": "bar"
           }
          ],
          "barpolar": [
           {
            "marker": {
             "line": {
              "color": "#E5ECF6",
              "width": 0.5
             },
             "pattern": {
              "fillmode": "overlay",
              "size": 10,
              "solidity": 0.2
             }
            },
            "type": "barpolar"
           }
          ],
          "carpet": [
           {
            "aaxis": {
             "endlinecolor": "#2a3f5f",
             "gridcolor": "white",
             "linecolor": "white",
             "minorgridcolor": "white",
             "startlinecolor": "#2a3f5f"
            },
            "baxis": {
             "endlinecolor": "#2a3f5f",
             "gridcolor": "white",
             "linecolor": "white",
             "minorgridcolor": "white",
             "startlinecolor": "#2a3f5f"
            },
            "type": "carpet"
           }
          ],
          "choropleth": [
           {
            "colorbar": {
             "outlinewidth": 0,
             "ticks": ""
            },
            "type": "choropleth"
           }
          ],
          "contour": [
           {
            "colorbar": {
             "outlinewidth": 0,
             "ticks": ""
            },
            "colorscale": [
             [
              0,
              "#0d0887"
             ],
             [
              0.1111111111111111,
              "#46039f"
             ],
             [
              0.2222222222222222,
              "#7201a8"
             ],
             [
              0.3333333333333333,
              "#9c179e"
             ],
             [
              0.4444444444444444,
              "#bd3786"
             ],
             [
              0.5555555555555556,
              "#d8576b"
             ],
             [
              0.6666666666666666,
              "#ed7953"
             ],
             [
              0.7777777777777778,
              "#fb9f3a"
             ],
             [
              0.8888888888888888,
              "#fdca26"
             ],
             [
              1,
              "#f0f921"
             ]
            ],
            "type": "contour"
           }
          ],
          "contourcarpet": [
           {
            "colorbar": {
             "outlinewidth": 0,
             "ticks": ""
            },
            "type": "contourcarpet"
           }
          ],
          "heatmap": [
           {
            "colorbar": {
             "outlinewidth": 0,
             "ticks": ""
            },
            "colorscale": [
             [
              0,
              "#0d0887"
             ],
             [
              0.1111111111111111,
              "#46039f"
             ],
             [
              0.2222222222222222,
              "#7201a8"
             ],
             [
              0.3333333333333333,
              "#9c179e"
             ],
             [
              0.4444444444444444,
              "#bd3786"
             ],
             [
              0.5555555555555556,
              "#d8576b"
             ],
             [
              0.6666666666666666,
              "#ed7953"
             ],
             [
              0.7777777777777778,
              "#fb9f3a"
             ],
             [
              0.8888888888888888,
              "#fdca26"
             ],
             [
              1,
              "#f0f921"
             ]
            ],
            "type": "heatmap"
           }
          ],
          "heatmapgl": [
           {
            "colorbar": {
             "outlinewidth": 0,
             "ticks": ""
            },
            "colorscale": [
             [
              0,
              "#0d0887"
             ],
             [
              0.1111111111111111,
              "#46039f"
             ],
             [
              0.2222222222222222,
              "#7201a8"
             ],
             [
              0.3333333333333333,
              "#9c179e"
             ],
             [
              0.4444444444444444,
              "#bd3786"
             ],
             [
              0.5555555555555556,
              "#d8576b"
             ],
             [
              0.6666666666666666,
              "#ed7953"
             ],
             [
              0.7777777777777778,
              "#fb9f3a"
             ],
             [
              0.8888888888888888,
              "#fdca26"
             ],
             [
              1,
              "#f0f921"
             ]
            ],
            "type": "heatmapgl"
           }
          ],
          "histogram": [
           {
            "marker": {
             "pattern": {
              "fillmode": "overlay",
              "size": 10,
              "solidity": 0.2
             }
            },
            "type": "histogram"
           }
          ],
          "histogram2d": [
           {
            "colorbar": {
             "outlinewidth": 0,
             "ticks": ""
            },
            "colorscale": [
             [
              0,
              "#0d0887"
             ],
             [
              0.1111111111111111,
              "#46039f"
             ],
             [
              0.2222222222222222,
              "#7201a8"
             ],
             [
              0.3333333333333333,
              "#9c179e"
             ],
             [
              0.4444444444444444,
              "#bd3786"
             ],
             [
              0.5555555555555556,
              "#d8576b"
             ],
             [
              0.6666666666666666,
              "#ed7953"
             ],
             [
              0.7777777777777778,
              "#fb9f3a"
             ],
             [
              0.8888888888888888,
              "#fdca26"
             ],
             [
              1,
              "#f0f921"
             ]
            ],
            "type": "histogram2d"
           }
          ],
          "histogram2dcontour": [
           {
            "colorbar": {
             "outlinewidth": 0,
             "ticks": ""
            },
            "colorscale": [
             [
              0,
              "#0d0887"
             ],
             [
              0.1111111111111111,
              "#46039f"
             ],
             [
              0.2222222222222222,
              "#7201a8"
             ],
             [
              0.3333333333333333,
              "#9c179e"
             ],
             [
              0.4444444444444444,
              "#bd3786"
             ],
             [
              0.5555555555555556,
              "#d8576b"
             ],
             [
              0.6666666666666666,
              "#ed7953"
             ],
             [
              0.7777777777777778,
              "#fb9f3a"
             ],
             [
              0.8888888888888888,
              "#fdca26"
             ],
             [
              1,
              "#f0f921"
             ]
            ],
            "type": "histogram2dcontour"
           }
          ],
          "mesh3d": [
           {
            "colorbar": {
             "outlinewidth": 0,
             "ticks": ""
            },
            "type": "mesh3d"
           }
          ],
          "parcoords": [
           {
            "line": {
             "colorbar": {
              "outlinewidth": 0,
              "ticks": ""
             }
            },
            "type": "parcoords"
           }
          ],
          "pie": [
           {
            "automargin": true,
            "type": "pie"
           }
          ],
          "scatter": [
           {
            "fillpattern": {
             "fillmode": "overlay",
             "size": 10,
             "solidity": 0.2
            },
            "type": "scatter"
           }
          ],
          "scatter3d": [
           {
            "line": {
             "colorbar": {
              "outlinewidth": 0,
              "ticks": ""
             }
            },
            "marker": {
             "colorbar": {
              "outlinewidth": 0,
              "ticks": ""
             }
            },
            "type": "scatter3d"
           }
          ],
          "scattercarpet": [
           {
            "marker": {
             "colorbar": {
              "outlinewidth": 0,
              "ticks": ""
             }
            },
            "type": "scattercarpet"
           }
          ],
          "scattergeo": [
           {
            "marker": {
             "colorbar": {
              "outlinewidth": 0,
              "ticks": ""
             }
            },
            "type": "scattergeo"
           }
          ],
          "scattergl": [
           {
            "marker": {
             "colorbar": {
              "outlinewidth": 0,
              "ticks": ""
             }
            },
            "type": "scattergl"
           }
          ],
          "scattermapbox": [
           {
            "marker": {
             "colorbar": {
              "outlinewidth": 0,
              "ticks": ""
             }
            },
            "type": "scattermapbox"
           }
          ],
          "scatterpolar": [
           {
            "marker": {
             "colorbar": {
              "outlinewidth": 0,
              "ticks": ""
             }
            },
            "type": "scatterpolar"
           }
          ],
          "scatterpolargl": [
           {
            "marker": {
             "colorbar": {
              "outlinewidth": 0,
              "ticks": ""
             }
            },
            "type": "scatterpolargl"
           }
          ],
          "scatterternary": [
           {
            "marker": {
             "colorbar": {
              "outlinewidth": 0,
              "ticks": ""
             }
            },
            "type": "scatterternary"
           }
          ],
          "surface": [
           {
            "colorbar": {
             "outlinewidth": 0,
             "ticks": ""
            },
            "colorscale": [
             [
              0,
              "#0d0887"
             ],
             [
              0.1111111111111111,
              "#46039f"
             ],
             [
              0.2222222222222222,
              "#7201a8"
             ],
             [
              0.3333333333333333,
              "#9c179e"
             ],
             [
              0.4444444444444444,
              "#bd3786"
             ],
             [
              0.5555555555555556,
              "#d8576b"
             ],
             [
              0.6666666666666666,
              "#ed7953"
             ],
             [
              0.7777777777777778,
              "#fb9f3a"
             ],
             [
              0.8888888888888888,
              "#fdca26"
             ],
             [
              1,
              "#f0f921"
             ]
            ],
            "type": "surface"
           }
          ],
          "table": [
           {
            "cells": {
             "fill": {
              "color": "#EBF0F8"
             },
             "line": {
              "color": "white"
             }
            },
            "header": {
             "fill": {
              "color": "#C8D4E3"
             },
             "line": {
              "color": "white"
             }
            },
            "type": "table"
           }
          ]
         },
         "layout": {
          "annotationdefaults": {
           "arrowcolor": "#2a3f5f",
           "arrowhead": 0,
           "arrowwidth": 1
          },
          "autotypenumbers": "strict",
          "coloraxis": {
           "colorbar": {
            "outlinewidth": 0,
            "ticks": ""
           }
          },
          "colorscale": {
           "diverging": [
            [
             0,
             "#8e0152"
            ],
            [
             0.1,
             "#c51b7d"
            ],
            [
             0.2,
             "#de77ae"
            ],
            [
             0.3,
             "#f1b6da"
            ],
            [
             0.4,
             "#fde0ef"
            ],
            [
             0.5,
             "#f7f7f7"
            ],
            [
             0.6,
             "#e6f5d0"
            ],
            [
             0.7,
             "#b8e186"
            ],
            [
             0.8,
             "#7fbc41"
            ],
            [
             0.9,
             "#4d9221"
            ],
            [
             1,
             "#276419"
            ]
           ],
           "sequential": [
            [
             0,
             "#0d0887"
            ],
            [
             0.1111111111111111,
             "#46039f"
            ],
            [
             0.2222222222222222,
             "#7201a8"
            ],
            [
             0.3333333333333333,
             "#9c179e"
            ],
            [
             0.4444444444444444,
             "#bd3786"
            ],
            [
             0.5555555555555556,
             "#d8576b"
            ],
            [
             0.6666666666666666,
             "#ed7953"
            ],
            [
             0.7777777777777778,
             "#fb9f3a"
            ],
            [
             0.8888888888888888,
             "#fdca26"
            ],
            [
             1,
             "#f0f921"
            ]
           ],
           "sequentialminus": [
            [
             0,
             "#0d0887"
            ],
            [
             0.1111111111111111,
             "#46039f"
            ],
            [
             0.2222222222222222,
             "#7201a8"
            ],
            [
             0.3333333333333333,
             "#9c179e"
            ],
            [
             0.4444444444444444,
             "#bd3786"
            ],
            [
             0.5555555555555556,
             "#d8576b"
            ],
            [
             0.6666666666666666,
             "#ed7953"
            ],
            [
             0.7777777777777778,
             "#fb9f3a"
            ],
            [
             0.8888888888888888,
             "#fdca26"
            ],
            [
             1,
             "#f0f921"
            ]
           ]
          },
          "colorway": [
           "#636efa",
           "#EF553B",
           "#00cc96",
           "#ab63fa",
           "#FFA15A",
           "#19d3f3",
           "#FF6692",
           "#B6E880",
           "#FF97FF",
           "#FECB52"
          ],
          "font": {
           "color": "#2a3f5f"
          },
          "geo": {
           "bgcolor": "white",
           "lakecolor": "white",
           "landcolor": "#E5ECF6",
           "showlakes": true,
           "showland": true,
           "subunitcolor": "white"
          },
          "hoverlabel": {
           "align": "left"
          },
          "hovermode": "closest",
          "mapbox": {
           "style": "light"
          },
          "paper_bgcolor": "white",
          "plot_bgcolor": "#E5ECF6",
          "polar": {
           "angularaxis": {
            "gridcolor": "white",
            "linecolor": "white",
            "ticks": ""
           },
           "bgcolor": "#E5ECF6",
           "radialaxis": {
            "gridcolor": "white",
            "linecolor": "white",
            "ticks": ""
           }
          },
          "scene": {
           "xaxis": {
            "backgroundcolor": "#E5ECF6",
            "gridcolor": "white",
            "gridwidth": 2,
            "linecolor": "white",
            "showbackground": true,
            "ticks": "",
            "zerolinecolor": "white"
           },
           "yaxis": {
            "backgroundcolor": "#E5ECF6",
            "gridcolor": "white",
            "gridwidth": 2,
            "linecolor": "white",
            "showbackground": true,
            "ticks": "",
            "zerolinecolor": "white"
           },
           "zaxis": {
            "backgroundcolor": "#E5ECF6",
            "gridcolor": "white",
            "gridwidth": 2,
            "linecolor": "white",
            "showbackground": true,
            "ticks": "",
            "zerolinecolor": "white"
           }
          },
          "shapedefaults": {
           "line": {
            "color": "#2a3f5f"
           }
          },
          "ternary": {
           "aaxis": {
            "gridcolor": "white",
            "linecolor": "white",
            "ticks": ""
           },
           "baxis": {
            "gridcolor": "white",
            "linecolor": "white",
            "ticks": ""
           },
           "bgcolor": "#E5ECF6",
           "caxis": {
            "gridcolor": "white",
            "linecolor": "white",
            "ticks": ""
           }
          },
          "title": {
           "x": 0.05
          },
          "xaxis": {
           "automargin": true,
           "gridcolor": "white",
           "linecolor": "white",
           "ticks": "",
           "title": {
            "standoff": 15
           },
           "zerolinecolor": "white",
           "zerolinewidth": 2
          },
          "yaxis": {
           "automargin": true,
           "gridcolor": "white",
           "linecolor": "white",
           "ticks": "",
           "title": {
            "standoff": 15
           },
           "zerolinecolor": "white",
           "zerolinewidth": 2
          }
         }
        },
        "xaxis": {
         "anchor": "y",
         "domain": [
          0,
          1
         ],
         "title": {
          "text": "numero_de_funcionarios"
         }
        },
        "yaxis": {
         "anchor": "x",
         "domain": [
          0,
          1
         ],
         "title": {
          "text": "faturamento_mensal"
         }
        }
       }
      }
     },
     "metadata": {},
     "output_type": "display_data"
    }
   ],
   "source": [
    "# Cruzar Quantidade de Funcionários e Faruramento, apresentando os clusters\n",
    "px.scatter(df_clientes, x='numero_de_funcionarios', y='faturamento_mensal', color='cluster')"
   ]
  },
  {
   "cell_type": "code",
   "execution_count": 17,
   "metadata": {},
   "outputs": [
    {
     "data": {
      "text/plain": [
       "['pipeline_clusterizacao_clientes.pkl']"
      ]
     },
     "execution_count": 17,
     "metadata": {},
     "output_type": "execute_result"
    }
   ],
   "source": [
    "# Salvar modelo\n",
    "joblib.dump(best_kmeans, 'modelo_clusterizacao_clientes.pkl')\n",
    "\n",
    "# Salvar Pipeline\n",
    "joblib.dump(preprocessor, 'pipeline_clusterizacao_clientes.pkl')"
   ]
  },
  {
   "cell_type": "markdown",
   "metadata": {},
   "source": [
    "# 8 - Entrega do Modelo com APP Batch"
   ]
  },
  {
   "cell_type": "markdown",
   "metadata": {},
   "source": [
    "## 8.1 - Aplicação Batch com Gradio\n",
    "Desenvolvemos uma aplicação simples no Gradle. Utilizamos um algoritmo de clusterização não supervisionado para transformar os dados em um pipeline separado. Não fizemos predições, apenas trouxemos uma estrutura com o algoritmo. Carregamos o modelo, definimos uma função chamada \"clustering\" que recebe um arquivo CSV, lê o arquivo, transforma os dados para o formato necessário, treina o modelo e adiciona a coluna de cluster no DataFrame. Salvamos o DataFrame em um arquivo CSV e retornamos o nome desse arquivo. Criamos uma interface para chamar a função e rodamos a aplicação. Agora podemos fazer upload de um arquivo, que será processado e gerará um arquivo de saída com os clusters."
   ]
  },
  {
   "cell_type": "code",
   "execution_count": 18,
   "metadata": {},
   "outputs": [],
   "source": [
    "modelo = joblib.load('./modelo_clusterizacao_clientes.pkl')\n",
    "preprocessor = joblib.load('./pipeline_clusterizacao_clientes.pkl')\n",
    "\n",
    "def clustering(arquivo):\n",
    "    # Carregar o CSV em um DF\n",
    "    df_empresas = pd.read_csv(arquivo.name)\n",
    "    \n",
    "    # Transformar os dados do DF para o formato que o Kmeans precisa\n",
    "    X_trasnformed = preprocessor.fit_transform(df_empresas)\n",
    "    \n",
    "    #Treinar o modelo\n",
    "    modelo.fit(X_trasnformed)\n",
    "    \n",
    "    #Criar a coluna cluster no DF\n",
    "    df_empresas['Cluster'] = modelo,labels_\n",
    "    df_empresas.to_csv('./clusters.csv', index=False)\n",
    "    \n",
    "    return './clusters.csv'"
   ]
  },
  {
   "cell_type": "code",
   "execution_count": 22,
   "metadata": {},
   "outputs": [
    {
     "name": "stdout",
     "output_type": "stream",
     "text": [
      "Running on local URL:  http://127.0.0.1:7860\n",
      "\n",
      "To create a public link, set `share=True` in `launch()`.\n"
     ]
    },
    {
     "data": {
      "text/html": [
       "<div><iframe src=\"http://127.0.0.1:7860/\" width=\"100%\" height=\"500\" allow=\"autoplay; camera; microphone; clipboard-read; clipboard-write;\" frameborder=\"0\" allowfullscreen></iframe></div>"
      ],
      "text/plain": [
       "<IPython.core.display.HTML object>"
      ]
     },
     "metadata": {},
     "output_type": "display_data"
    },
    {
     "data": {
      "text/plain": []
     },
     "execution_count": 22,
     "metadata": {},
     "output_type": "execute_result"
    }
   ],
   "source": [
    "# Criar a interface\n",
    "app = gr.Interface(\n",
    "    clustering,\n",
    "    gr.File(file_types=[\".csv\"]),\n",
    "    \"file\"\n",
    ")\n",
    "\n",
    "# rodar a aplicação\n",
    "app.launch()"
   ]
  },
  {
   "cell_type": "code",
   "execution_count": null,
   "metadata": {},
   "outputs": [],
   "source": []
  }
 ],
 "metadata": {
  "kernelspec": {
   "display_name": "venv",
   "language": "python",
   "name": "python3"
  },
  "language_info": {
   "codemirror_mode": {
    "name": "ipython",
    "version": 3
   },
   "file_extension": ".py",
   "mimetype": "text/x-python",
   "name": "python",
   "nbconvert_exporter": "python",
   "pygments_lexer": "ipython3",
   "version": "3.12.2"
  }
 },
 "nbformat": 4,
 "nbformat_minor": 2
}
