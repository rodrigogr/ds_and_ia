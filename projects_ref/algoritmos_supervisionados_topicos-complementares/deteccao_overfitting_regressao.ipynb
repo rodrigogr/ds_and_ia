{
 "cells": [
  {
   "cell_type": "markdown",
   "metadata": {},
   "source": [
    "# 4 - Detecção de Overfitting - Conceitos"
   ]
  },
  {
   "cell_type": "markdown",
   "metadata": {
    "vscode": {
     "languageId": "plaintext"
    }
   },
   "source": [
    "## 4.1 - O que é Overfitting\n",
    "vamos falar sobre como detectar e evitar o overfitting em modelos de Machine Learning e AI. O overfitting ocorre quando um modelo se ajusta excessivamente aos dados de treinamento, mas não tem um bom desempenho em dados novos. Isso pode acontecer devido à complexidade do modelo, variáveis irrelevantes ou treinamento excessivo. Para evitar o overfitting, podemos aplicar técnicas como regularização, validação cruzada e simplificação do modelo. Vamos visualmente identificar modelos ótimos, com baixo erro de treinamento e teste, e modelos com underfitting e overfitting."
   ]
  },
  {
   "cell_type": "markdown",
   "metadata": {},
   "source": [
    "## 4.2 -KNN - Conceito\n",
    "O algoritmo K-NN, ou K-Nearest Neighbors, é um método utilizado para classificação e regressão. Ele funciona com base na ideia de que instâncias de dados semelhantes estão próximas umas das outras em um espaço de características. Quando um novo ponto de dado é introduzido, o K-NN identifica os K pontos de dados mais próximos e determina sua classificação ou previsão com base na agregação dos valores ou classes desses vizinhos mais próximos. A escolha do valor de K e da métrica de distância é crucial para o desempenho do algoritmo. O K-NN é conhecido por sua simplicidade e eficácia em problemas de baixa a moderada dimensionalidade."
   ]
  },
  {
   "cell_type": "markdown",
   "metadata": {},
   "source": [
    "## 4.3 - Visualização Overfitting - Classificação\n",
    "Nesta aula, aprendemos como detectar o overfitting em um modelo de classificação. Utilizamos o notebook para carregar os dados e ajustar o DataFrame. Em seguida, treinamos o modelo de regressão logística e o modelo de KNN (K vizinhos mais próximos). Utilizamos um loop para treinar o modelo com diferentes quantidades de vizinhos (K) e armazenamos os scores de treinamento e teste em listas separadas. Em seguida, criamos um gráfico para visualizar esses scores e identificar possíveis casos de overfitting. Observamos que, ao alterar o hiperparâmetro K, a diferença entre os scores de treinamento e teste pode diminuir ou aumentar. Isso nos ajuda a encontrar o conjunto de hiperparâmetros que oferece uma boa performance e evita o overfitting."
   ]
  },
  {
   "cell_type": "code",
   "execution_count": 8,
   "metadata": {},
   "outputs": [],
   "source": [
    "# Importando Bibliotecas\n",
    "\n",
    "import pandas as pd\n",
    "import seaborn as sns\n",
    "import matplotlib.pyplot as plt\n",
    "import plotly.express as px\n",
    "from numpy import linspace, mean\n",
    "from sklearn.linear_model import LinearRegression\n",
    "from sklearn.model_selection import train_test_split, learning_curve, LearningCurveDisplay\n",
    "from sklearn.metrics import mean_squared_error"
   ]
  },
  {
   "cell_type": "code",
   "execution_count": 19,
   "metadata": {},
   "outputs": [
    {
     "data": {
      "text/html": [
       "<div>\n",
       "<style scoped>\n",
       "    .dataframe tbody tr th:only-of-type {\n",
       "        vertical-align: middle;\n",
       "    }\n",
       "\n",
       "    .dataframe tbody tr th {\n",
       "        vertical-align: top;\n",
       "    }\n",
       "\n",
       "    .dataframe thead th {\n",
       "        text-align: right;\n",
       "    }\n",
       "</style>\n",
       "<table border=\"1\" class=\"dataframe\">\n",
       "  <thead>\n",
       "    <tr style=\"text-align: right;\">\n",
       "      <th></th>\n",
       "      <th>Id</th>\n",
       "      <th>Grupo Sanguíneo</th>\n",
       "      <th>Fumante</th>\n",
       "      <th>Nível de Atividade</th>\n",
       "      <th>Idade</th>\n",
       "      <th>Peso</th>\n",
       "      <th>Altura</th>\n",
       "      <th>Colesterol</th>\n",
       "    </tr>\n",
       "  </thead>\n",
       "  <tbody>\n",
       "    <tr>\n",
       "      <th>0</th>\n",
       "      <td>1</td>\n",
       "      <td>B</td>\n",
       "      <td>Sim</td>\n",
       "      <td>Baixo</td>\n",
       "      <td>33.0</td>\n",
       "      <td>85.1</td>\n",
       "      <td>186.0</td>\n",
       "      <td>199.63</td>\n",
       "    </tr>\n",
       "    <tr>\n",
       "      <th>1</th>\n",
       "      <td>2</td>\n",
       "      <td>A</td>\n",
       "      <td>Não</td>\n",
       "      <td>Moderado</td>\n",
       "      <td>68.0</td>\n",
       "      <td>105.0</td>\n",
       "      <td>184.0</td>\n",
       "      <td>236.98</td>\n",
       "    </tr>\n",
       "    <tr>\n",
       "      <th>2</th>\n",
       "      <td>3</td>\n",
       "      <td>O</td>\n",
       "      <td>Não</td>\n",
       "      <td>Alto</td>\n",
       "      <td>25.0</td>\n",
       "      <td>64.8</td>\n",
       "      <td>180.0</td>\n",
       "      <td>161.79</td>\n",
       "    </tr>\n",
       "    <tr>\n",
       "      <th>3</th>\n",
       "      <td>4</td>\n",
       "      <td>A</td>\n",
       "      <td>Não</td>\n",
       "      <td>Alto</td>\n",
       "      <td>43.0</td>\n",
       "      <td>120.2</td>\n",
       "      <td>167.0</td>\n",
       "      <td>336.24</td>\n",
       "    </tr>\n",
       "    <tr>\n",
       "      <th>4</th>\n",
       "      <td>5</td>\n",
       "      <td>AB</td>\n",
       "      <td>Não</td>\n",
       "      <td>Baixo</td>\n",
       "      <td>79.0</td>\n",
       "      <td>88.5</td>\n",
       "      <td>175.0</td>\n",
       "      <td>226.23</td>\n",
       "    </tr>\n",
       "  </tbody>\n",
       "</table>\n",
       "</div>"
      ],
      "text/plain": [
       "   Id Grupo Sanguíneo Fumante Nível de Atividade  Idade   Peso  Altura  \\\n",
       "0   1               B     Sim              Baixo   33.0   85.1   186.0   \n",
       "1   2               A     Não           Moderado   68.0  105.0   184.0   \n",
       "2   3               O     Não               Alto   25.0   64.8   180.0   \n",
       "3   4               A     Não               Alto   43.0  120.2   167.0   \n",
       "4   5              AB     Não              Baixo   79.0   88.5   175.0   \n",
       "\n",
       "   Colesterol  \n",
       "0      199.63  \n",
       "1      236.98  \n",
       "2      161.79  \n",
       "3      336.24  \n",
       "4      226.23  "
      ]
     },
     "execution_count": 19,
     "metadata": {},
     "output_type": "execute_result"
    }
   ],
   "source": [
    "# Carregar dataset\n",
    "df = pd.read_csv('dataset_colesterol.csv')\n",
    "df.head()"
   ]
  },
  {
   "cell_type": "code",
   "execution_count": 21,
   "metadata": {},
   "outputs": [],
   "source": [
    "# Tratar Nulo\n",
    "\n",
    "# Coletar medidas das variáveis categóricas (Moda)\n",
    "moda_grupo_sang = df['Grupo Sanguíneo'].mode()\n",
    "moda_fumante = df['Fumante'].mode()\n",
    "moda_nivel_atividade = df['Nível de Atividade'].mode()"
   ]
  },
  {
   "cell_type": "code",
   "execution_count": 22,
   "metadata": {},
   "outputs": [],
   "source": [
    "# Coletar medidas das variáveis numéricas (Mediana)\n",
    "mediana_idade = df.Idade.median()\n",
    "mediana_peso = df.Peso.median()\n",
    "mediana_altura = df.Altura.median()"
   ]
  },
  {
   "cell_type": "code",
   "execution_count": 23,
   "metadata": {},
   "outputs": [],
   "source": [
    "# Imputar quando valores são ausentes\n",
    "# A moda pode resultar em mais de um valor, por isso pegar a primeira que está no índice 0\n",
    "df.fillna(value={'Grupo Sanguíneo': moda_grupo_sang[0],\n",
    "                                'Fumante': moda_fumante[0],\n",
    "                                'Nível de Atividade': moda_nivel_atividade[0],\n",
    "                                'Idade': mediana_idade,\n",
    "                                'Peso': mediana_peso,\n",
    "                                'Altura': mediana_altura}, inplace=True)"
   ]
  },
  {
   "cell_type": "code",
   "execution_count": 24,
   "metadata": {},
   "outputs": [],
   "source": [
    "# ajustar Data Frame\n",
    "df.drop('Id', axis=1, inplace=True)"
   ]
  },
  {
   "cell_type": "code",
   "execution_count": 26,
   "metadata": {},
   "outputs": [],
   "source": [
    "# Aplicar o OneHotEncoder\n",
    "df = pd.get_dummies(df, columns=['Grupo Sanguíneo', 'Fumante', 'Nível de Atividade'])"
   ]
  },
  {
   "cell_type": "code",
   "execution_count": 27,
   "metadata": {},
   "outputs": [
    {
     "name": "stdout",
     "output_type": "stream",
     "text": [
      "<class 'pandas.core.frame.DataFrame'>\n",
      "RangeIndex: 1000 entries, 0 to 999\n",
      "Data columns (total 13 columns):\n",
      " #   Column                       Non-Null Count  Dtype  \n",
      "---  ------                       --------------  -----  \n",
      " 0   Idade                        1000 non-null   float64\n",
      " 1   Peso                         1000 non-null   float64\n",
      " 2   Altura                       1000 non-null   float64\n",
      " 3   Colesterol                   1000 non-null   float64\n",
      " 4   Grupo Sanguíneo_A            1000 non-null   uint8  \n",
      " 5   Grupo Sanguíneo_AB           1000 non-null   uint8  \n",
      " 6   Grupo Sanguíneo_B            1000 non-null   uint8  \n",
      " 7   Grupo Sanguíneo_O            1000 non-null   uint8  \n",
      " 8   Fumante_Não                  1000 non-null   uint8  \n",
      " 9   Fumante_Sim                  1000 non-null   uint8  \n",
      " 10  Nível de Atividade_Alto      1000 non-null   uint8  \n",
      " 11  Nível de Atividade_Baixo     1000 non-null   uint8  \n",
      " 12  Nível de Atividade_Moderado  1000 non-null   uint8  \n",
      "dtypes: float64(4), uint8(9)\n",
      "memory usage: 40.2 KB\n"
     ]
    }
   ],
   "source": [
    "df.info()"
   ]
  },
  {
   "cell_type": "markdown",
   "metadata": {},
   "source": [
    "## 4.4 - Treinar Modelo de Regressão Linear, visualizando a curva de aprendizado"
   ]
  },
  {
   "cell_type": "code",
   "execution_count": 28,
   "metadata": {},
   "outputs": [],
   "source": [
    "# Separar X e y\n",
    "X = df.drop('Colesterol', axis=1)\n",
    "y = df.Colesterol"
   ]
  },
  {
   "cell_type": "code",
   "execution_count": 29,
   "metadata": {},
   "outputs": [],
   "source": [
    "# criar Modelo\n",
    "model_reg = LinearRegression()"
   ]
  },
  {
   "cell_type": "code",
   "execution_count": 31,
   "metadata": {},
   "outputs": [],
   "source": [
    "# Gerar Scores de Curva de Aprendizado - Regressão\n",
    "# O learning_curve() grava numa lista quais os scores que ele obteve no treino e quais os scores que ele obteve no teste, \n",
    "# ou seja, ele já faz a validação, no caso aqui estamos falando de fazer uma validação usando o mean squared error, no conjunto de treinamento e no conjunto de testes.\n",
    "# Então não preciso fazer um fit, depois um predict, para depois calcular predição com base no conjunto de treinamento. \n",
    "# Esse learning curve já faz tudo isso para a gente, armazenando tudo isso em listas que a gente pode utilizar e plotar o nosso gráfico.\n",
    "train_size_abs, train_scores, test_scores = learning_curve(model_reg, X, y, train_sizes=linspace(0.1, 0.9, 9), scoring='neg_mean_squared_error', cv=3)"
   ]
  },
  {
   "cell_type": "code",
   "execution_count": 32,
   "metadata": {},
   "outputs": [
    {
     "data": {
      "text/plain": [
       "array([[-47.58887954, -76.06366161, -76.06366161],\n",
       "       [-55.94085705, -89.01851692, -89.01851692],\n",
       "       [-62.13837115, -82.18525175, -82.18525175],\n",
       "       [-74.55475829, -81.21326607, -81.21326607],\n",
       "       [-71.61082025, -86.52791925, -86.52791925],\n",
       "       [-70.37838766, -82.51458626, -81.93016302],\n",
       "       [-71.49315257, -81.861724  , -79.2884534 ],\n",
       "       [-72.07692592, -80.64444692, -78.88144963],\n",
       "       [-74.77553591, -82.41774701, -82.43288471]])"
      ]
     },
     "execution_count": 32,
     "metadata": {},
     "output_type": "execute_result"
    }
   ],
   "source": [
    "# Train Scores\n",
    "train_scores"
   ]
  },
  {
   "cell_type": "code",
   "execution_count": 33,
   "metadata": {},
   "outputs": [
    {
     "data": {
      "text/plain": [
       "array([ 66, 133, 199, 266, 333, 399, 466, 532, 599])"
      ]
     },
     "execution_count": 33,
     "metadata": {},
     "output_type": "execute_result"
    }
   ],
   "source": [
    "train_size_abs"
   ]
  },
  {
   "cell_type": "code",
   "execution_count": 34,
   "metadata": {},
   "outputs": [
    {
     "data": {
      "image/png": "[encoded data removed]",
      "text/plain": [
       "<Figure size 640x480 with 1 Axes>"
      ]
     },
     "metadata": {},
     "output_type": "display_data"
    }
   ],
   "source": [
    "# Gerar Plot com Curvade Aprendizado\n",
    "plt.plot(linspace(0.1, 0.9, 9), mean(train_scores, axis=1), color='b', label='Treino')\n",
    "plt.plot(linspace(0.1, 0.9, 9), mean(test_scores, axis=1), color='g', label='Teste')\n",
    "plt.title('Curva de Aprendizado - Regressão Linear')\n",
    "plt.legend()\n",
    "plt.show()"
   ]
  }
 ],
 "metadata": {
  "kernelspec": {
   "display_name": "venv",
   "language": "python",
   "name": "python3"
  },
  "language_info": {
   "codemirror_mode": {
    "name": "ipython",
    "version": 3
   },
   "file_extension": ".py",
   "mimetype": "text/x-python",
   "name": "python",
   "nbconvert_exporter": "python",
   "pygments_lexer": "ipython3",
   "version": "3.12.2"
  }
 },
 "nbformat": 4,
 "nbformat_minor": 2
}
